{
  "cells": [
    {
      "cell_type": "markdown",
      "metadata": {
        "id": "view-in-github",
        "colab_type": "text"
      },
      "source": [
        "<a href=\"https://colab.research.google.com/github/ImanFakury/imanRepository/blob/master/DeepLearning/CHW4/Q1.ipynb\" target=\"_parent\"><img src=\"https://colab.research.google.com/assets/colab-badge.svg\" alt=\"Open In Colab\"/></a>"
      ]
    },
    {
      "cell_type": "markdown",
      "metadata": {
        "id": "sp7D0ktn5eiG"
      },
      "source": [
        "\n",
        "<br>\n",
        "<font>\n",
        "<div dir=ltr align=center>\n",
        "<font color=0F5298 size=10>\n",
        "    Deep Learning - HW4 <br>\n",
        "<font color=2565AE size=5>\n",
        "    Electrical Engineering Department <br>\n",
        "    winter 2024<br>\n",
        "<font color=3C99D size=5>\n",
        "    Practical Assignment 1 <br>\n",
        "<font color=696880 size=4>\n",
        "    Niloufar Abbasi\n",
        "\n",
        "____"
      ]
    },
    {
      "cell_type": "markdown",
      "metadata": {
        "id": "cxUXlgSrs1Ur"
      },
      "source": [
        "# Emotion Recognition with Recurrent Neural Networks\n"
      ]
    },
    {
      "cell_type": "markdown",
      "metadata": {
        "id": "uTWvIQYvs1Us"
      },
      "source": [
        "---\n",
        "\n",
        "## **Introduction**\n",
        "\n",
        "In this task, you will implement a Recurrent Neural Network (RNN) to perform tweet emotion recognition. The goal is to classify tweets into one of six basic emotions:\n",
        "- **0: sadness**\n",
        "- **1: joy**\n",
        "- **2: love**\n",
        "- **3: anger**\n",
        "- **4: fear**\n",
        "- **5: surprise**\n",
        "\n",
        "We will be using a dataset of tweets, where each tweet has been labeled with one of these emotions. Throughout this notebook, you will follow step-by-step instructions to build and train your model. As you progress, you'll complete the provided TODO sections by filling in the necessary code and functions.\n",
        "\n",
        "By the end of this exercise, you will:\n",
        "- Understand how to preprocess text data for use in RNN models.\n",
        "- Build and train a model using Pytorch.\n",
        "- Evaluate the performance of your model on the test set.\n",
        "\n",
        "---\n"
      ]
    },
    {
      "cell_type": "markdown",
      "metadata": {
        "id": "7Pgj8pLhs1Ut"
      },
      "source": [
        "---\n",
        "\n",
        "## Task 1: Enter Your Information\n",
        "\n",
        "Before we begin, please enter your **student ID** and **name** in the code section below.\n",
        "\n",
        "Make sure to replace the placeholders with your actual information.\n",
        "\n",
        "---"
      ]
    },
    {
      "cell_type": "code",
      "execution_count": 39,
      "metadata": {
        "colab": {
          "base_uri": "https://localhost:8080/"
        },
        "id": "l8fQjZ5Cs1Uu",
        "outputId": "9b67d718-8157-4f97-f29b-aa7619dc5aae"
      },
      "outputs": [
        {
          "output_type": "stream",
          "name": "stdout",
          "text": [
            "Your name: Iman Alizadeh Fakouri\n",
            "Your student ID: 401102134\n"
          ]
        }
      ],
      "source": [
        "#########################################\n",
        "# TODO: Enter your personal information #\n",
        "#########################################\n",
        "\n",
        "student_name = 'Iman Alizadeh Fakouri'  # Replace with your name\n",
        "student_id   = 401102134  # Replace with your student ID\n",
        "\n",
        "print(\"Your name:\", student_name)\n",
        "print(\"Your student ID:\", student_id)"
      ]
    },
    {
      "cell_type": "markdown",
      "metadata": {
        "id": "Q2HQY06Ls1Uv"
      },
      "source": [
        "---\n",
        "\n",
        "## Task 2: Setup and Imports\n",
        "\n",
        "In this task, we'll be preparing our environment by importing the necessary libraries. Please run the cells below to set everything up. If any library is missing on your end, make sure to install it.\n",
        "\n",
        "### Instructions:\n",
        "1. **Run the cells** to install any required packages and import the necessary libraries.\n",
        "2. If any library is not installed in your environment, use `!pip install <library_name>` to install it.\n",
        "---"
      ]
    },
    {
      "cell_type": "code",
      "execution_count": 40,
      "metadata": {
        "colab": {
          "base_uri": "https://localhost:8080/"
        },
        "id": "XEeq5yEps1Uw",
        "outputId": "0bb103f0-e12d-498c-c670-0eebd912facb"
      },
      "outputs": [
        {
          "output_type": "stream",
          "name": "stdout",
          "text": [
            "Requirement already satisfied: datasets in /usr/local/lib/python3.10/dist-packages (3.2.0)\n",
            "Requirement already satisfied: filelock in /usr/local/lib/python3.10/dist-packages (from datasets) (3.16.1)\n",
            "Requirement already satisfied: numpy>=1.17 in /usr/local/lib/python3.10/dist-packages (from datasets) (1.26.4)\n",
            "Requirement already satisfied: pyarrow>=15.0.0 in /usr/local/lib/python3.10/dist-packages (from datasets) (17.0.0)\n",
            "Requirement already satisfied: dill<0.3.9,>=0.3.0 in /usr/local/lib/python3.10/dist-packages (from datasets) (0.3.8)\n",
            "Requirement already satisfied: pandas in /usr/local/lib/python3.10/dist-packages (from datasets) (2.2.2)\n",
            "Requirement already satisfied: requests>=2.32.2 in /usr/local/lib/python3.10/dist-packages (from datasets) (2.32.3)\n",
            "Requirement already satisfied: tqdm>=4.66.3 in /usr/local/lib/python3.10/dist-packages (from datasets) (4.67.1)\n",
            "Requirement already satisfied: xxhash in /usr/local/lib/python3.10/dist-packages (from datasets) (3.5.0)\n",
            "Requirement already satisfied: multiprocess<0.70.17 in /usr/local/lib/python3.10/dist-packages (from datasets) (0.70.16)\n",
            "Requirement already satisfied: fsspec<=2024.9.0,>=2023.1.0 in /usr/local/lib/python3.10/dist-packages (from fsspec[http]<=2024.9.0,>=2023.1.0->datasets) (2024.9.0)\n",
            "Requirement already satisfied: aiohttp in /usr/local/lib/python3.10/dist-packages (from datasets) (3.11.10)\n",
            "Requirement already satisfied: huggingface-hub>=0.23.0 in /usr/local/lib/python3.10/dist-packages (from datasets) (0.27.0)\n",
            "Requirement already satisfied: packaging in /usr/local/lib/python3.10/dist-packages (from datasets) (24.2)\n",
            "Requirement already satisfied: pyyaml>=5.1 in /usr/local/lib/python3.10/dist-packages (from datasets) (6.0.2)\n",
            "Requirement already satisfied: aiohappyeyeballs>=2.3.0 in /usr/local/lib/python3.10/dist-packages (from aiohttp->datasets) (2.4.4)\n",
            "Requirement already satisfied: aiosignal>=1.1.2 in /usr/local/lib/python3.10/dist-packages (from aiohttp->datasets) (1.3.2)\n",
            "Requirement already satisfied: async-timeout<6.0,>=4.0 in /usr/local/lib/python3.10/dist-packages (from aiohttp->datasets) (4.0.3)\n",
            "Requirement already satisfied: attrs>=17.3.0 in /usr/local/lib/python3.10/dist-packages (from aiohttp->datasets) (24.3.0)\n",
            "Requirement already satisfied: frozenlist>=1.1.1 in /usr/local/lib/python3.10/dist-packages (from aiohttp->datasets) (1.5.0)\n",
            "Requirement already satisfied: multidict<7.0,>=4.5 in /usr/local/lib/python3.10/dist-packages (from aiohttp->datasets) (6.1.0)\n",
            "Requirement already satisfied: propcache>=0.2.0 in /usr/local/lib/python3.10/dist-packages (from aiohttp->datasets) (0.2.1)\n",
            "Requirement already satisfied: yarl<2.0,>=1.17.0 in /usr/local/lib/python3.10/dist-packages (from aiohttp->datasets) (1.18.3)\n",
            "Requirement already satisfied: typing-extensions>=3.7.4.3 in /usr/local/lib/python3.10/dist-packages (from huggingface-hub>=0.23.0->datasets) (4.12.2)\n",
            "Requirement already satisfied: charset-normalizer<4,>=2 in /usr/local/lib/python3.10/dist-packages (from requests>=2.32.2->datasets) (3.4.0)\n",
            "Requirement already satisfied: idna<4,>=2.5 in /usr/local/lib/python3.10/dist-packages (from requests>=2.32.2->datasets) (3.10)\n",
            "Requirement already satisfied: urllib3<3,>=1.21.1 in /usr/local/lib/python3.10/dist-packages (from requests>=2.32.2->datasets) (2.2.3)\n",
            "Requirement already satisfied: certifi>=2017.4.17 in /usr/local/lib/python3.10/dist-packages (from requests>=2.32.2->datasets) (2024.12.14)\n",
            "Requirement already satisfied: python-dateutil>=2.8.2 in /usr/local/lib/python3.10/dist-packages (from pandas->datasets) (2.8.2)\n",
            "Requirement already satisfied: pytz>=2020.1 in /usr/local/lib/python3.10/dist-packages (from pandas->datasets) (2024.2)\n",
            "Requirement already satisfied: tzdata>=2022.7 in /usr/local/lib/python3.10/dist-packages (from pandas->datasets) (2024.2)\n",
            "Requirement already satisfied: six>=1.5 in /usr/local/lib/python3.10/dist-packages (from python-dateutil>=2.8.2->pandas->datasets) (1.17.0)\n"
          ]
        }
      ],
      "source": [
        "!pip install datasets"
      ]
    },
    {
      "cell_type": "markdown",
      "metadata": {
        "id": "G5p9nzyns1Uw"
      },
      "source": [
        "Required Libraries:"
      ]
    },
    {
      "cell_type": "code",
      "execution_count": 41,
      "metadata": {
        "id": "jbySMOafs1Ux"
      },
      "outputs": [],
      "source": [
        "import torch\n",
        "import numpy as np\n",
        "import matplotlib.pyplot as plt\n",
        "from sklearn.metrics import confusion_matrix\n",
        "from datasets import load_dataset\n",
        "\n",
        "%matplotlib inline\n",
        "\n",
        "#####################################################################\n",
        "# TODO: Add any additional libraries you may need for your analysis #\n",
        "#####################################################################\n",
        "\n",
        "# You can add your libraries here"
      ]
    },
    {
      "cell_type": "markdown",
      "metadata": {
        "id": "dHZescxRs1Uy"
      },
      "source": [
        "### Additional Functions\n",
        "\n",
        "The following functions have been provided to help you visualize the results of your model training. These will allow you to analyze both the model's performance over time (through the training history) and how well it performs on individual predictions (through a confusion matrix).\n",
        "\n",
        "1. **`plot_history(hist)`**: This function takes the training history object (`hist`) from your model and plots both the accuracy and loss over the number of epochs for both training and validation sets. It provides an easy way to visually track the model's learning progress and performance.\n",
        "\n",
        "2. **`visualize_confusion_matrix(actual_labels, predicted_labels, classes)`**: After making predictions with your model, you can use this function to plot a confusion matrix. It shows the accuracy of your model across each class, helping to identify areas where the model is performing well and where it might be struggling. The matrix is normalized to make comparisons easier.\n",
        "\n",
        "These functions are for your convenience, you can directly use them after running your model to visualize the results.\n"
      ]
    },
    {
      "cell_type": "code",
      "execution_count": 84,
      "metadata": {
        "id": "b3RmUg8ws1Uy"
      },
      "outputs": [],
      "source": [
        "# Functions to visualize training history and confusion matrix\n",
        "def plot_history(hist):\n",
        "    epochs = len(hist['train_loss'])\n",
        "    plt.figure(figsize=(16, 6))\n",
        "\n",
        "    # Plot Accuracy\n",
        "    plt.subplot(1, 2, 1)\n",
        "    plt.plot(range(0, epochs), hist['train_accuracy'], label='Training Accuracy')\n",
        "    plt.plot(range(0, epochs), hist['val_accuracy'], label='Validation Accuracy')\n",
        "    plt.ylim([0., 1.])\n",
        "    plt.xlabel('Epochs')\n",
        "    plt.ylabel('Accuracy')\n",
        "    plt.legend()\n",
        "\n",
        "    # Plot Loss\n",
        "    plt.subplot(1, 2, 2)\n",
        "    plt.plot(range(0, epochs), hist['train_loss'], label='Training Loss')\n",
        "    plt.plot(range(0, epochs), hist['val_loss'], label='Validation Loss')\n",
        "    plt.xlabel('Epochs')\n",
        "    plt.ylabel('Loss')\n",
        "    plt.legend()\n",
        "    plt.show()\n",
        "\n",
        "def visualize_confusion_matrix(actual_labels, predicted_labels, classes):\n",
        "\n",
        "    cm = confusion_matrix(actual_labels, predicted_labels, normalize='true')\n",
        "\n",
        "    plt.figure(figsize=(8, 8))\n",
        "    sp = plt.subplot(1, 1, 1)\n",
        "    ctx = sp.matshow(cm)\n",
        "    plt.xticks(list(range(0, 6)), labels=classes)\n",
        "    plt.yticks(list(range(0, 6)), labels=classes)\n",
        "    plt.colorbar(ctx)\n",
        "    plt.show()\n"
      ]
    },
    {
      "cell_type": "markdown",
      "metadata": {
        "id": "0Rw_1D0Es1Uz"
      },
      "source": [
        "---\n",
        "\n",
        "## Task 3: Importing Data\n",
        "\n",
        "In this task, we will\n",
        "\n",
        "- import the Tweet Emotion dataset\n",
        "\n",
        "- create training, validation, and test sets\n",
        "    \n",
        "- extract the tweets and their corresponding labels for further analysis\n",
        "\n",
        "---"
      ]
    },
    {
      "cell_type": "code",
      "execution_count": 43,
      "metadata": {
        "colab": {
          "base_uri": "https://localhost:8080/"
        },
        "id": "0YHOvjAu5eiL",
        "outputId": "6762fe35-76d5-457a-de4d-bbb05010ebb4"
      },
      "outputs": [
        {
          "output_type": "execute_result",
          "data": {
            "text/plain": [
              "DatasetDict({\n",
              "    train: Dataset({\n",
              "        features: ['text', 'label'],\n",
              "        num_rows: 16000\n",
              "    })\n",
              "    validation: Dataset({\n",
              "        features: ['text', 'label'],\n",
              "        num_rows: 2000\n",
              "    })\n",
              "    test: Dataset({\n",
              "        features: ['text', 'label'],\n",
              "        num_rows: 2000\n",
              "    })\n",
              "})"
            ]
          },
          "metadata": {},
          "execution_count": 43
        }
      ],
      "source": [
        "dataset = load_dataset('emotion')\n",
        "dataset"
      ]
    },
    {
      "cell_type": "code",
      "execution_count": 44,
      "metadata": {
        "colab": {
          "base_uri": "https://localhost:8080/"
        },
        "id": "2s0h541FxIgc",
        "outputId": "761c31cd-02f7-4860-fe15-1d2bbb34fb3d"
      },
      "outputs": [
        {
          "output_type": "stream",
          "name": "stdout",
          "text": [
            "{'text': ['i didnt feel humiliated', 'i can go from feeling so hopeless to so damned hopeful just from being around someone who cares and is awake', 'im grabbing a minute to post i feel greedy wrong', 'i am ever feeling nostalgic about the fireplace i will know that it is still on the property', 'i am feeling grouchy'], 'label': [0, 0, 3, 2, 3]}\n"
          ]
        }
      ],
      "source": [
        "# Display the first few samples\n",
        "print(dataset['train'][0:5])  # Adjust 'train' to 'test' or other splits if necessary"
      ]
    },
    {
      "cell_type": "code",
      "execution_count": 45,
      "metadata": {
        "id": "z7eCnxU25eiN"
      },
      "outputs": [],
      "source": [
        "###########################################################################\n",
        "# TODO: Create variables for the training, validation, and test datasets. #\n",
        "###########################################################################\n",
        "\n",
        "training = dataset['train']\n",
        "validation = dataset['validation']\n",
        "test = dataset['test']"
      ]
    },
    {
      "cell_type": "code",
      "execution_count": 46,
      "metadata": {
        "colab": {
          "base_uri": "https://localhost:8080/"
        },
        "id": "oDYXMfZy5eiP",
        "outputId": "f8e6b525-8997-435a-bae4-bd3423998760"
      },
      "outputs": [
        {
          "output_type": "stream",
          "name": "stdout",
          "text": [
            "i didnt feel humiliated 0\n"
          ]
        }
      ],
      "source": [
        "########################################################################################################\n",
        "# TODO:                                                                                                #\n",
        "# Implement the `extract_tweets_labels` function to iterate over the provided dataset.                 #\n",
        "# Within this function, extract the tweet text and their corresponding labels into two separate lists. #\n",
        "# Then, call this function with the training dataset to obtain the tweets and labels,                  #\n",
        "# ensuring proper data handling for subsequent analysis.                                               #\n",
        "########################################################################################################\n",
        "\n",
        "def extract_tweets_labels(data):\n",
        "    # Extract the text and labels from the data\n",
        "    tweets = []\n",
        "    labels = []\n",
        "    for x in data:\n",
        "      tweets.append(x['text'])\n",
        "      labels.append(x['label'])\n",
        "    return tweets, labels\n",
        "\n",
        "# Get the tweets and labels from the training set\n",
        "tweets, labels = extract_tweets_labels(training)\n",
        "\n",
        "# Display the first tweet and its label\n",
        "print(tweets[0], labels[0])\n"
      ]
    },
    {
      "cell_type": "markdown",
      "metadata": {
        "id": "x1g3dZsHs1U0"
      },
      "source": [
        "---\n",
        "\n",
        "## Task 4: Tokenization of Tweets\n",
        "\n",
        "In this section, we will focus on the tokenization of the tweets in the dataset. Tokenization is a crucial step in natural language processing (NLP) that involves breaking down text into smaller units, such as words or subwords. This process enables the model to better understand and analyze the text data.\n",
        "\n",
        "### Objectives:\n",
        "1. Implement a tokenizer to convert the tweet texts into tokens.\n",
        "2. Ensure the tokenization process handles various aspects of the text, such as punctuation and special characters.\n",
        "\n",
        "By the end of this task, you will have a set of tokenized tweets ready for further processing in your NLP pipeline.\n",
        "\n",
        "---"
      ]
    },
    {
      "cell_type": "code",
      "execution_count": 47,
      "metadata": {
        "id": "qfX5-ResxIgq"
      },
      "outputs": [],
      "source": [
        "###############################################################################################################################################\n",
        "# TODO: Tokenization of Tweets                                                                                                                #\n",
        "# 1. Select a Tokenization Method: Choose a suitable tokenization method to preprocess the tweets.                                            #\n",
        "# Ensure that the tokenization handles special characters and maintains the integrity of the text data.                                       #\n",
        "# 2. Implement the Tokenizer: Once you have selected a method, implement the tokenizer to convert the tweet texts into sequences of tokens.   #\n",
        "# 3. Test the Tokenization:                                                                                                                   #\n",
        "# Verify the functionality of your tokenizer by applying it to a sample tweet from the dataset and displaying the resulting tokenized output. #\n",
        "###############################################################################################################################################\n",
        "from transformers import AutoTokenizer\n",
        "tokenizer = AutoTokenizer.from_pretrained(\"bert-base-uncased\")\n",
        "\n",
        "def tokenize_tweets(tweets):\n",
        "    return [tokenizer(tweet, padding=False, truncation=False, return_tensors=None) for tweet in tweets]"
      ]
    },
    {
      "cell_type": "code",
      "execution_count": 48,
      "metadata": {
        "id": "pkoHkT1cvlRQ"
      },
      "outputs": [],
      "source": [
        "tokenized_tweets = tokenize_tweets(tweets)"
      ]
    },
    {
      "cell_type": "code",
      "execution_count": 49,
      "metadata": {
        "colab": {
          "base_uri": "https://localhost:8080/"
        },
        "id": "PjyVR2DPvt1h",
        "outputId": "f351986c-19a9-4c0b-9912-074e95ce8d7b"
      },
      "outputs": [
        {
          "output_type": "execute_result",
          "data": {
            "text/plain": [
              "{'input_ids': [101, 1045, 2134, 2102, 2514, 26608, 102], 'token_type_ids': [0, 0, 0, 0, 0, 0, 0], 'attention_mask': [1, 1, 1, 1, 1, 1, 1]}"
            ]
          },
          "metadata": {},
          "execution_count": 49
        }
      ],
      "source": [
        "tokenized_tweets[0]"
      ]
    },
    {
      "cell_type": "markdown",
      "metadata": {
        "id": "56fukG6Ls1U3"
      },
      "source": [
        "---\n",
        "\n",
        "## Task 5: Padding and Truncating Sequences\n",
        "\n",
        "In this task, we will prepare the tokenized tweets for model training by checking their lengths and creating padded sequences.\n",
        "\n",
        "1. **Checking the Length of the Tweets**\n",
        "   - Analyze the distribution of tweet lengths to understand the range of token counts in the dataset.\n",
        "\n",
        "2. **Creating Padded Sequences**\n",
        "   - After tokenizing the tweets, sequences of different lengths must be adjusted to a uniform length to facilitate training.\n",
        "\n",
        "---\n"
      ]
    },
    {
      "cell_type": "code",
      "execution_count": 50,
      "metadata": {
        "colab": {
          "base_uri": "https://localhost:8080/",
          "height": 452
        },
        "id": "2MEYya6os1U4",
        "outputId": "fa47e714-becd-417a-8369-812cca29cee6"
      },
      "outputs": [
        {
          "output_type": "display_data",
          "data": {
            "text/plain": [
              "<Figure size 640x480 with 1 Axes>"
            ],
            "image/png": "[encoded data removed]"
          },
          "metadata": {}
        }
      ],
      "source": [
        "#####################################################################################################################################################\n",
        "# TODO:                                                                                                                                             #\n",
        "# Implement code to calculate the lengths of the tweets and visualize the distribution using a histogram. Use an appropriate visualization library. #\n",
        "# After visualizing the distribution, determine a suitable maximum length for padding and truncating the sequences based on your findings.          #\n",
        "#####################################################################################################################################################\n",
        "\n",
        "tweet_lengths = [len(tweet[\"input_ids\"]) for tweet in tokenized_tweets]\n",
        "plt.hist(tweet_lengths, bins=10)\n",
        "plt.title(\"Distribution of Tweet Lengths\")\n",
        "plt.show()\n"
      ]
    },
    {
      "cell_type": "code",
      "execution_count": 51,
      "metadata": {
        "colab": {
          "base_uri": "https://localhost:8080/"
        },
        "id": "DnTs8egBs1U4",
        "outputId": "32023fb0-3e13-4da1-b160-85221ecf580e"
      },
      "outputs": [
        {
          "output_type": "execute_result",
          "data": {
            "text/plain": [
              "tensor([  101,  1045,  2134,  2102,  2514, 26608,   102,     0,     0,     0,\n",
              "            0,     0,     0,     0,     0,     0,     0,     0,     0,     0,\n",
              "            0,     0,     0,     0,     0,     0,     0,     0,     0,     0,\n",
              "            0,     0,     0,     0,     0,     0,     0,     0,     0,     0,\n",
              "            0,     0,     0,     0,     0,     0,     0,     0,     0,     0,\n",
              "            0,     0,     0,     0,     0,     0,     0,     0,     0,     0,\n",
              "            0,     0,     0,     0,     0,     0,     0,     0,     0,     0,\n",
              "            0,     0,     0,     0,     0,     0,     0,     0,     0,     0])"
            ]
          },
          "metadata": {},
          "execution_count": 51
        }
      ],
      "source": [
        "############################################################################################################\n",
        "# TODO: Define a function to convert the tokenized tweets into sequences and apply padding and truncation. #\n",
        "# Use your determined maximum length for padding the sequences.                                            #\n",
        "############################################################################################################\n",
        "############################################################################################################\n",
        "# TODO: Define a function to convert the tokenized tweets into sequences and apply padding and truncation. #\n",
        "# Use your determined maximum length for padding the sequences.                                            #\n",
        "############################################################################################################\n",
        "\n",
        "def get_sequences(tokenizer, tweets):\n",
        "    tokenized = tokenizer(\n",
        "        tweets,\n",
        "        padding='max_length',\n",
        "        truncation=True,\n",
        "        max_length=80,\n",
        "        return_tensors=\"pt\"\n",
        "    )\n",
        "    sequences = tokenized[\"input_ids\"]\n",
        "    return sequences\n",
        "\n",
        "padded_train_sequences = get_sequences(tokenizer, tweets)\n",
        "padded_train_sequences[0]"
      ]
    },
    {
      "cell_type": "markdown",
      "metadata": {
        "id": "BURhOX_KxIg8"
      },
      "source": [
        "---\n",
        "\n",
        "## Task 6: Analyzing Label Distribution\n",
        "\n",
        "1. Checking the distribution of labels.\n",
        "2. Addressing any class imbalance using appropriate techniques.\n",
        "\n",
        "Note:\n",
        "\n",
        "(**Providing a clear explanation of the chosen method to address the imbalance and how it will improve the model’s performance is critical.** Without handling class imbalance properly, the model could achieve a high accuracy by focusing on the majority class, but it may perform poorly on the minority class, which would result in misleading metrics and reduced generalization.\n",
        "\n",
        "Hence, it is important to not only implement an appropriate solution but also **justify** why the selected approach is effective for the given task.)\n",
        "\n",
        "---"
      ]
    },
    {
      "cell_type": "code",
      "execution_count": 60,
      "metadata": {
        "colab": {
          "base_uri": "https://localhost:8080/",
          "height": 452
        },
        "id": "SufT2bpD5ejE",
        "outputId": "7115ebce-6e4a-4ef8-ec25-b7caff602c95"
      },
      "outputs": [
        {
          "output_type": "display_data",
          "data": {
            "text/plain": [
              "<Figure size 640x480 with 1 Axes>"
            ],
            "image/png": "[encoded data removed]"
          },
          "metadata": {}
        }
      ],
      "source": [
        "##########################################################################################################################\n",
        "# TODO: Analyze the distribution of labels in the training set. (visualize it in a perfect way)                          #\n",
        "# Determine if there is any class imbalance.                                                                             #\n",
        "# If you observe any imbalance, apply one of the techniques you have learned throughout the course to address the issue. #\n",
        "############################################m##############################################################################\n",
        "label_counts = {label: labels.count(label) for label in set(labels)}\n",
        "plt.bar(label_counts.keys(), label_counts.values())\n",
        "plt.title('Distribution of Labels in Training Set')\n",
        "plt.show()\n"
      ]
    },
    {
      "cell_type": "code",
      "execution_count": 53,
      "metadata": {
        "colab": {
          "base_uri": "https://localhost:8080/"
        },
        "id": "O3gBAC1B0Bnl",
        "outputId": "fd7a0eec-3304-4406-cd45-0b704ec8be4f"
      },
      "outputs": [
        {
          "output_type": "stream",
          "name": "stdout",
          "text": [
            "Class weights: {0: 0.5715102157451064, 1: 0.49732686808404825, 2: 2.044989775051125, 3: 1.2351397251814111, 4: 1.3766993632765445, 5: 4.662004662004662}\n"
          ]
        }
      ],
      "source": [
        "from torch.utils.data.sampler import WeightedRandomSampler\n",
        "labels_array = np.array(labels)\n",
        "class_weights = compute_class_weight('balanced', classes=np.unique(labels_array), y=labels_array)\n",
        "class_weight_dict = dict(zip(np.unique(labels_array), class_weights))\n",
        "print(f\"Class weights: {class_weight_dict}\")\n",
        "class_weights_tensor = torch.tensor(class_weights, dtype=torch.float)\n",
        "weights = class_weights_tensor[torch.tensor(labels)]\n",
        "sampler = WeightedRandomSampler(weights, len(weights))"
      ]
    },
    {
      "cell_type": "markdown",
      "metadata": {
        "id": "c-v0Mnh8xIhP"
      },
      "source": [
        "---\n",
        "\n",
        "## Task 7: Creating the Model\n",
        "\n",
        "Design and implement a recurrent neural network for the task. You may utilize a sequential architecture like RNN or GRU to enhance the model's performance.\n",
        "\n",
        "Build and compile your model using Pytorch.\n",
        "\n",
        "**Once the model is created, summarize its structure to verify the design.**\n",
        "\n",
        "---"
      ]
    },
    {
      "cell_type": "code",
      "execution_count": 54,
      "metadata": {
        "colab": {
          "base_uri": "https://localhost:8080/"
        },
        "id": "OpewXxPQ5eji",
        "outputId": "992044e5-e360-4c95-a6f7-3de8adf616f7"
      },
      "outputs": [
        {
          "output_type": "stream",
          "name": "stdout",
          "text": [
            "BiLSTMModel(\n",
            "  (embedding): Embedding(30522, 100)\n",
            "  (lstm): LSTM(100, 100, batch_first=True, bidirectional=True)\n",
            "  (fc): Linear(in_features=200, out_features=6, bias=True)\n",
            "  (dropout): Dropout(p=0.5, inplace=False)\n",
            ")\n"
          ]
        }
      ],
      "source": [
        "#########################################################################################################\n",
        "# TODO:                                                                                                 #\n",
        "# Create a recurrent neural network model for the task.                                                 #\n",
        "# (Suggestion: Implement a Bidirectional LSTM architecture to process the input sequences effectively.) #\n",
        "# Once the model is created, summarize its structure to verify the design.                              #\n",
        "#########################################################################################################\n",
        "class BiLSTMModel(nn.Module):\n",
        "    def __init__(self, vocab_size, embedding_dim, hidden_dim, output_dim, dropout=0.5):\n",
        "        super(BiLSTMModel, self).__init__()\n",
        "        self.embedding = nn.Embedding(vocab_size, embedding_dim)\n",
        "        self.lstm = nn.LSTM(embedding_dim, hidden_dim, bidirectional=True, batch_first=True)\n",
        "        self.fc = nn.Linear(hidden_dim * 2, output_dim)\n",
        "        self.dropout = nn.Dropout(dropout)\n",
        "\n",
        "    def forward(self, x):\n",
        "        embedded = self.embedding(x)\n",
        "        lstm_out, (hidden, cell) = self.lstm(embedded)\n",
        "        hidden = self.dropout(torch.cat((hidden[-2, :, :], hidden[-1, :, :]), dim=1))\n",
        "        output = self.fc(hidden)\n",
        "        return output\n",
        "model = BiLSTMModel(len(tokenizer.vocab), 100, 100, len(set(labels)), 0.5)\n",
        "\n",
        "\n",
        "print(model)\n"
      ]
    },
    {
      "cell_type": "markdown",
      "metadata": {
        "id": "1HST_CHjxIhR"
      },
      "source": [
        "---\n",
        "\n",
        "## Task 8: Training the Model\n",
        "\n",
        "In this task, you will prepare a validation set and train your model using the training data.\n",
        "\n",
        "1. Prepare the validation set by extracting tweets and labels, and convert them into sequences using the tokenizer.\n",
        "2. Train the model on the training data.\n",
        "3. Ensure that you implement **Early Stopping** to prevent overfitting and enhance efficiency.\n",
        "\n",
        "Make sure to monitor the validation accuracy during training and adjust the parameters as necessary.\n",
        "\n",
        "---"
      ]
    },
    {
      "cell_type": "code",
      "execution_count": 55,
      "metadata": {
        "colab": {
          "base_uri": "https://localhost:8080/"
        },
        "id": "Ff7F3hCK5ejm",
        "outputId": "7229ecf7-43d4-4876-9322-44abb0936fa9"
      },
      "outputs": [
        {
          "output_type": "stream",
          "name": "stdout",
          "text": [
            "Epoch 1: Train Loss = 1.236626821398735, Train Accuracy = 0.2786875, Validation Loss = 1.526193240332225, Validation Accuracy = 0.17\n",
            "Epoch 2: Train Loss = 0.7912782227993012, Train Accuracy = 0.4565, Validation Loss = 1.2940716081195407, Validation Accuracy = 0.249\n",
            "Epoch 3: Train Loss = 0.5670850602686405, Train Accuracy = 0.5640625, Validation Loss = 0.9779641703953819, Validation Accuracy = 0.3215\n",
            "Epoch 4: Train Loss = 0.4577829585969448, Train Accuracy = 0.633625, Validation Loss = 0.8936089244153764, Validation Accuracy = 0.464\n",
            "Epoch 5: Train Loss = 0.3697595973163843, Train Accuracy = 0.7195625, Validation Loss = 0.7798001818240635, Validation Accuracy = 0.595\n",
            "Epoch 6: Train Loss = 0.29754672978818414, Train Accuracy = 0.7865625, Validation Loss = 0.6808402453150068, Validation Accuracy = 0.658\n",
            "Epoch 7: Train Loss = 0.24395432228595018, Train Accuracy = 0.8270625, Validation Loss = 0.6692354622341338, Validation Accuracy = 0.6695\n",
            "Epoch 8: Train Loss = 0.192921399269253, Train Accuracy = 0.87125, Validation Loss = 0.5583146961908492, Validation Accuracy = 0.78\n",
            "Epoch 9: Train Loss = 0.21670713813230397, Train Accuracy = 0.8688125, Validation Loss = 0.6158829572654906, Validation Accuracy = 0.7445\n",
            "Epoch 10: Train Loss = 0.1477445931211114, Train Accuracy = 0.90475, Validation Loss = 0.5777032002806664, Validation Accuracy = 0.783\n",
            "Epoch 11: Train Loss = 0.12790282040089368, Train Accuracy = 0.9248125, Validation Loss = 0.5608540820696998, Validation Accuracy = 0.8145\n",
            "Early stopping: Validation loss has not improved.\n"
          ]
        }
      ],
      "source": [
        "###############################################################################################################\n",
        "# TODO: Extract the tweets and labels from the validation set. Convert the tweets into sequences using the    #\n",
        "#       tokenizer defined earlier. Prepare the data for validation and ensure it matches the format of the    #\n",
        "#       training set.                                                                                         #\n",
        "###############################################################################################################\n",
        "from torch.utils.data import DataLoader, TensorDataset\n",
        "validation_tweets, validation_labels = extract_tweets_labels(validation)\n",
        "padded_validation_sequences = get_sequences(tokenizer, validation_tweets)\n",
        "labels_tensor = torch.tensor(labels)\n",
        "validation_labels_tensor = torch.tensor(validation_labels)\n",
        "train_data = TensorDataset(padded_train_sequences, labels_tensor)\n",
        "validation_data = TensorDataset(padded_validation_sequences, validation_labels_tensor)\n",
        "train_dataloader = DataLoader(train_data, batch_size=32, sampler=sampler)\n",
        "validation_dataloader = DataLoader(validation_data, batch_size=32)\n",
        "\n",
        "###############################################################################################################\n",
        "# TODO: Train the model on the prepared training data. Ensure you implement early stopping to monitor the     #\n",
        "#       validation accuracy and prevent overfitting. Adjust the number of epochs or other hyperparameters as  #\n",
        "#       needed to optimize model performance.                                                                 #\n",
        "###############################################################################################################\n",
        "import torch\n",
        "import torch.nn as nn\n",
        "import torch.optim as optim\n",
        "criterion = nn.CrossEntropyLoss(weight=class_weights_tensor)\n",
        "optimizer = optim.Adam(model.parameters(), lr=0.001)\n",
        "early_stopping_patience = 3\n",
        "best_val_loss = float('inf')\n",
        "patience_counter = 0\n",
        "history = {\n",
        "    'train_loss': [],\n",
        "    'val_loss': [],\n",
        "    'train_accuracy': [],\n",
        "    'val_accuracy': []\n",
        "}\n",
        "for epoch in range(20):\n",
        "    model.train()\n",
        "    total_train_loss = 0\n",
        "    correct_train = 0\n",
        "    total_train = 0\n",
        "    for batch in train_dataloader:\n",
        "        input_ids, batch_labels = batch\n",
        "        optimizer.zero_grad()\n",
        "        outputs = model(input_ids)\n",
        "        loss = criterion(outputs, batch_labels)\n",
        "        loss.backward()\n",
        "        optimizer.step()\n",
        "        total_train_loss += loss.item()\n",
        "        _, predicted = torch.max(outputs, 1)\n",
        "        correct_train += (predicted == batch_labels).sum().item()\n",
        "        total_train += batch_labels.size(0)\n",
        "    avg_train_loss = total_train_loss / len(train_dataloader)\n",
        "    train_accuracy = correct_train / total_train\n",
        "    model.eval()\n",
        "    total_val_loss = 0\n",
        "    correct_val = 0\n",
        "    total_val = 0\n",
        "    with torch.no_grad():\n",
        "        for batch in validation_dataloader:\n",
        "            input_ids, batch_labels = batch\n",
        "            outputs = model(input_ids)\n",
        "            loss = criterion(outputs, batch_labels)\n",
        "            total_val_loss += loss.item()\n",
        "            _, predicted = torch.max(outputs, 1)\n",
        "            correct_val += (predicted == batch_labels).sum().item()\n",
        "            total_val += batch_labels.size(0)\n",
        "    avg_val_loss = total_val_loss / len(validation_dataloader)\n",
        "    val_accuracy = correct_val / total_val\n",
        "    print(f\"Epoch {epoch+1}: Train Loss = {avg_train_loss}, Train Accuracy = {train_accuracy}, \"\n",
        "          f\"Validation Loss = {avg_val_loss}, Validation Accuracy = {val_accuracy}\")\n",
        "    history['train_loss'].append(avg_train_loss)\n",
        "    history['val_loss'].append(avg_val_loss)\n",
        "    history['train_accuracy'].append(train_accuracy)\n",
        "    history['val_accuracy'].append(val_accuracy)\n",
        "    if avg_val_loss < best_val_loss:\n",
        "        best_val_loss = avg_val_loss\n",
        "        patience_counter = 0\n",
        "    else:\n",
        "        patience_counter += 1\n",
        "\n",
        "    if patience_counter >= early_stopping_patience:\n",
        "        print(\"Early stopping: Validation loss has not improved.\")\n",
        "        break\n",
        "\n"
      ]
    },
    {
      "cell_type": "markdown",
      "metadata": {
        "id": "tJIgQwmws1U6"
      },
      "source": [
        "---\n",
        "\n",
        "## Task 9: Evaluating the Model\n",
        "\n",
        "In this task, you will evaluate the performance of your model on the test set and visualize the training history. You will also analyze the model’s predictions on both individual and complete test samples.\n",
        "\n",
        "### Steps:\n",
        "1. Visualize the loss and accuracy over the training epochs.\n",
        "2. Prepare and preprocess the test data using functions from Task 2.\n",
        "3. Evaluate the model on the test set and examine individual predictions.\n",
        "4. Analyze the overall predictions and display a confusion matrix.\n",
        "\n",
        "---"
      ]
    },
    {
      "cell_type": "code",
      "execution_count": 64,
      "metadata": {
        "id": "ENCfvXeLxIhX",
        "colab": {
          "base_uri": "https://localhost:8080/",
          "height": 547
        },
        "outputId": "e533caf7-b32b-4d3d-8798-194ac55c1f04"
      },
      "outputs": [
        {
          "output_type": "display_data",
          "data": {
            "text/plain": [
              "<Figure size 1600x600 with 2 Axes>"
            ],
            "image/png": "[encoded data removed]"
          },
          "metadata": {}
        }
      ],
      "source": [
        "###############################################################################################################\n",
        "# TODO: Visualize the training history by plotting the loss and accuracy over the epochs to assess model      #\n",
        "#       performance. Use an appropriate visualization method to ensure clarity and effectiveness.             #\n",
        "#       you can use function implemented in Task 2 for your visualizations                                    #\n",
        "###############################################################################################################\n",
        "plot_history(history)"
      ]
    },
    {
      "cell_type": "code",
      "execution_count": 65,
      "metadata": {
        "id": "kWuzoz8uxIha"
      },
      "outputs": [],
      "source": [
        "###############################################################################################################\n",
        "# TODO: Prepare the test set by extracting the tweets and labels, then convert the tweets into sequences using #\n",
        "#       the tokenizer. Ensure the format matches that of the training and validation sets.                     #\n",
        "###############################################################################################################\n",
        "test_tweets, test_labels = extract_tweets_labels(test)\n",
        "padded_test_sequences = get_sequences(tokenizer, test_tweets)\n",
        "test_labels_tensor = torch.tensor(test_labels)\n",
        "test_data = TensorDataset(padded_test_sequences, test_labels_tensor)\n",
        "test_dataloader = DataLoader(test_data, batch_size=32)\n",
        "\n"
      ]
    },
    {
      "cell_type": "code",
      "execution_count": 81,
      "metadata": {
        "id": "7vRVJ_2SxIhc",
        "colab": {
          "base_uri": "https://localhost:8080/"
        },
        "outputId": "189136d3-0b7e-49d7-ff58-d328fc2891c4"
      },
      "outputs": [
        {
          "output_type": "stream",
          "name": "stdout",
          "text": [
            "Test Accuracy: 0.8020\n",
            "Test Loss: 0.5958\n"
          ]
        }
      ],
      "source": [
        "###############################################################################################################\n",
        "# TODO: Evaluate the model's performance on the test set. Print the accuracy and loss, and review individual   #\n",
        "#       predictions to understand how the model is performing on unseen data.                                 #\n",
        "###############################################################################################################\n",
        "model.eval()\n",
        "all_predictions = []\n",
        "all_labels = []\n",
        "total_loss = 0\n",
        "correct_predictions = 0\n",
        "total_predictions = 0\n",
        "with torch.no_grad():\n",
        "    for batch in test_dataloader:\n",
        "        input_ids, labels = batch\n",
        "        output = model(input_ids)\n",
        "        loss = criterion(output, labels)\n",
        "        total_loss += loss.item()\n",
        "        _, predicted = torch.max(output, 1)\n",
        "        correct_predictions += (predicted == labels).sum().item()\n",
        "        total_predictions += labels.size(0)\n",
        "        all_predictions.extend(predicted.cpu().numpy())\n",
        "        all_labels.extend(labels.cpu().numpy())\n",
        "accuracy = correct_predictions / total_predictions\n",
        "avg_loss = total_loss / len(test_dataloader)\n",
        "\n",
        "\n",
        "print(f\"Test Accuracy: {accuracy:.4f}\")\n",
        "print(f\"Test Loss: {avg_loss:.4f}\")"
      ]
    },
    {
      "cell_type": "code",
      "source": [
        "from sklearn.metrics import classification_report\n",
        "\n",
        "# Assuming you have all_labels and all_predictions from previous steps\n",
        "print(classification_report(all_labels, all_predictions, target_names=classes))\n"
      ],
      "metadata": {
        "colab": {
          "base_uri": "https://localhost:8080/"
        },
        "id": "fe2Q9zj0DDaO",
        "outputId": "37f53182-90e9-4f8f-ce8e-4eae0c7d8ebf"
      },
      "execution_count": 83,
      "outputs": [
        {
          "output_type": "stream",
          "name": "stdout",
          "text": [
            "              precision    recall  f1-score   support\n",
            "\n",
            "     Class 0       0.82      0.76      0.79       581\n",
            "     Class 1       0.86      0.74      0.80       695\n",
            "     Class 2       0.67      0.90      0.77       159\n",
            "     Class 3       0.83      0.89      0.86       275\n",
            "     Class 4       0.76      0.88      0.82       224\n",
            "     Class 5       0.63      0.89      0.74        66\n",
            "\n",
            "    accuracy                           0.80      2000\n",
            "   macro avg       0.76      0.85      0.80      2000\n",
            "weighted avg       0.81      0.80      0.80      2000\n",
            "\n"
          ]
        }
      ]
    },
    {
      "cell_type": "code",
      "execution_count": 85,
      "metadata": {
        "id": "rh638vHG5ej6",
        "colab": {
          "base_uri": "https://localhost:8080/",
          "height": 661
        },
        "outputId": "2e7e31ad-711d-48f6-9a48-3c0470ecdd89"
      },
      "outputs": [
        {
          "output_type": "display_data",
          "data": {
            "text/plain": [
              "<Figure size 800x800 with 2 Axes>"
            ],
            "image/png": "[encoded data removed]"
          },
          "metadata": {}
        }
      ],
      "source": [
        "###############################################################################################################\n",
        "# TODO: Generate predictions for all test samples and analyze the model's overall performance. Display the     #\n",
        "#       confusion matrix to visualize the differences between true and predicted labels, helping to interpret  #\n",
        "#       the model's classification results.                                                                   #\n",
        "###############################################################################################################\n",
        "classes = ['Class 0', 'Class 1', 'Class 2', 'Class 3', 'Class 4', 'Class 5']  # Adjust as needed\n",
        "\n",
        "visualize_confusion_matrix(all_labels, all_predictions, classes)\n"
      ]
    },
    {
      "cell_type": "markdown",
      "metadata": {
        "id": "5WWqHGmGs1U8"
      },
      "source": [
        "# Final Analysis\n",
        "\n",
        "After visualizing the confusion matrix based on your model’s predictions, analyze the results and provide insights into the model’s classification performance.\n",
        "\n",
        "### **Question:**\n",
        "<span style=\"font-size: 1.2em;\">Which class seems to get confused with the class *love* the most?</span>\n",
        "\n",
        "**Remember the class labels:**\n",
        "- **0:** *Sadness*\n",
        "- **1:** *Joy*\n",
        "- **2:** *Love*\n",
        "- **3:** *Anger*\n",
        "- **4:** *Fear*\n",
        "- **5:** *Surprise*\n",
        "\n",
        "Reflect on the confusion matrix to answer this question and provide your reasoning for why this confusion might occur based on the emotional nature of the classes.\n"
      ]
    },
    {
      "cell_type": "markdown",
      "source": [
        "In a confusion matrix, the rows represent the true labels, while the columns represent the predicted labels. So, the row corresponding to Love (Class 2) will show how many Love-labeled samples were predicted as each class.\n",
        " The higher the value in the off-diagonal cells (those that are not on the diagonal), the more confused the model is between Love and that class.\n",
        "\n",
        " The model frequently confuses Joy (Class 1) with Love (Class 2) due to the emotional overlap between positive sentiments. Both emotions express happiness or affection, often using similar language, making them difficult to differentiate. Contextual similarities, like celebrating positive relationships, can further blur the distinction. Improving context-based features and refining dataset labeling could help reduce this confusion.\n",
        "\n",
        "\n",
        "\n",
        "\n",
        "\n",
        "\n"
      ],
      "metadata": {
        "id": "_ftCvL7gENzz"
      }
    },
    {
      "cell_type": "markdown",
      "metadata": {
        "id": "VLL2LkCfs1U8"
      },
      "source": [
        "# **Best regards.**"
      ]
    }
  ],
  "metadata": {
    "accelerator": "GPU",
    "colab": {
      "provenance": [],
      "include_colab_link": true
    },
    "kernelspec": {
      "display_name": "Python 3",
      "language": "python",
      "name": "python3"
    },
    "language_info": {
      "codemirror_mode": {
        "name": "ipython",
        "version": 3
      },
      "file_extension": ".py",
      "mimetype": "text/x-python",
      "name": "python",
      "nbconvert_exporter": "python",
      "pygments_lexer": "ipython3",
      "version": "3.10.5"
    }
  },
  "nbformat": 4,
  "nbformat_minor": 0
}