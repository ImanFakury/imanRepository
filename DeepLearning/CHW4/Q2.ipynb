{
  "cells": [
    {
      "cell_type": "markdown",
      "metadata": {
        "id": "view-in-github",
        "colab_type": "text"
      },
      "source": [
        "<a href=\"https://colab.research.google.com/github/ImanFakury/imanRepository/blob/master/DeepLearning/CHW4/Q2.ipynb\" target=\"_parent\"><img src=\"https://colab.research.google.com/assets/colab-badge.svg\" alt=\"Open In Colab\"/></a>"
      ]
    },
    {
      "cell_type": "markdown",
      "metadata": {
        "id": "w_a3OXnSeV0z"
      },
      "source": [
        "\n",
        "<br>\n",
        "<font>\n",
        "<div dir=ltr align=center>\n",
        "<font color=0F5298 size=10>\n",
        "    Deep Learning - HW4 <br>\n",
        "<font color=2565AE size=5>\n",
        "    Electrical Engineering Department <br>\n",
        "    winter 2024<br>\n",
        "<font color=3C99D size=5>\n",
        "    Practical Assignment 2 <br>\n",
        "<font color=696880 size=4>\n",
        "    Iman Alizadeh Fakouri(401102134)\n",
        "\n",
        "____"
      ]
    },
    {
      "cell_type": "markdown",
      "metadata": {
        "id": "B9nuTjrSYM3x"
      },
      "source": [
        "# 🔴 **Import Libs**"
      ]
    },
    {
      "cell_type": "code",
      "source": [
        "!pip uninstall -y torchtext torchmetrics torchdata torchaudio torchvision peft\n",
        "\n",
        "!pip install torch==2.1.0\n",
        "!pip install torchtext==0.16.0\n",
        "!pip install torchmetrics==1.6.0\n",
        "!pip install torchdata==0.7.0\n"
      ],
      "metadata": {
        "colab": {
          "base_uri": "https://localhost:8080/"
        },
        "id": "eBSJmlL056k2",
        "outputId": "d1d2baf9-c013-4929-eed6-ed8fc9ffbe61",
        "collapsed": true
      },
      "execution_count": null,
      "outputs": [
        {
          "output_type": "stream",
          "name": "stdout",
          "text": [
            "Found existing installation: torchtext 0.16.0\n",
            "Uninstalling torchtext-0.16.0:\n",
            "  Successfully uninstalled torchtext-0.16.0\n",
            "Found existing installation: torchmetrics 1.6.0\n",
            "Uninstalling torchmetrics-1.6.0:\n",
            "  Successfully uninstalled torchmetrics-1.6.0\n",
            "Found existing installation: torchdata 0.7.0\n",
            "Uninstalling torchdata-0.7.0:\n",
            "  Successfully uninstalled torchdata-0.7.0\n",
            "\u001b[33mWARNING: Skipping torchaudio as it is not installed.\u001b[0m\u001b[33m\n",
            "\u001b[0m\u001b[33mWARNING: Skipping torchvision as it is not installed.\u001b[0m\u001b[33m\n",
            "\u001b[0m\u001b[33mWARNING: Skipping peft as it is not installed.\u001b[0m\u001b[33m\n",
            "\u001b[0mRequirement already satisfied: torch==2.1.0 in /usr/local/lib/python3.10/dist-packages (2.1.0)\n",
            "Requirement already satisfied: filelock in /usr/local/lib/python3.10/dist-packages (from torch==2.1.0) (3.16.1)\n",
            "Requirement already satisfied: typing-extensions in /usr/local/lib/python3.10/dist-packages (from torch==2.1.0) (4.12.2)\n",
            "Requirement already satisfied: sympy in /usr/local/lib/python3.10/dist-packages (from torch==2.1.0) (1.13.1)\n",
            "Requirement already satisfied: networkx in /usr/local/lib/python3.10/dist-packages (from torch==2.1.0) (3.4.2)\n",
            "Requirement already satisfied: jinja2 in /usr/local/lib/python3.10/dist-packages (from torch==2.1.0) (3.1.4)\n",
            "Requirement already satisfied: fsspec in /usr/local/lib/python3.10/dist-packages (from torch==2.1.0) (2024.9.0)\n",
            "Requirement already satisfied: nvidia-cuda-nvrtc-cu12==12.1.105 in /usr/local/lib/python3.10/dist-packages (from torch==2.1.0) (12.1.105)\n",
            "Requirement already satisfied: nvidia-cuda-runtime-cu12==12.1.105 in /usr/local/lib/python3.10/dist-packages (from torch==2.1.0) (12.1.105)\n",
            "Requirement already satisfied: nvidia-cuda-cupti-cu12==12.1.105 in /usr/local/lib/python3.10/dist-packages (from torch==2.1.0) (12.1.105)\n",
            "Requirement already satisfied: nvidia-cudnn-cu12==8.9.2.26 in /usr/local/lib/python3.10/dist-packages (from torch==2.1.0) (8.9.2.26)\n",
            "Requirement already satisfied: nvidia-cublas-cu12==12.1.3.1 in /usr/local/lib/python3.10/dist-packages (from torch==2.1.0) (12.1.3.1)\n",
            "Requirement already satisfied: nvidia-cufft-cu12==11.0.2.54 in /usr/local/lib/python3.10/dist-packages (from torch==2.1.0) (11.0.2.54)\n",
            "Requirement already satisfied: nvidia-curand-cu12==10.3.2.106 in /usr/local/lib/python3.10/dist-packages (from torch==2.1.0) (10.3.2.106)\n",
            "Requirement already satisfied: nvidia-cusolver-cu12==11.4.5.107 in /usr/local/lib/python3.10/dist-packages (from torch==2.1.0) (11.4.5.107)\n",
            "Requirement already satisfied: nvidia-cusparse-cu12==12.1.0.106 in /usr/local/lib/python3.10/dist-packages (from torch==2.1.0) (12.1.0.106)\n",
            "Requirement already satisfied: nvidia-nccl-cu12==2.18.1 in /usr/local/lib/python3.10/dist-packages (from torch==2.1.0) (2.18.1)\n",
            "Requirement already satisfied: nvidia-nvtx-cu12==12.1.105 in /usr/local/lib/python3.10/dist-packages (from torch==2.1.0) (12.1.105)\n",
            "Requirement already satisfied: triton==2.1.0 in /usr/local/lib/python3.10/dist-packages (from torch==2.1.0) (2.1.0)\n",
            "Requirement already satisfied: nvidia-nvjitlink-cu12 in /usr/local/lib/python3.10/dist-packages (from nvidia-cusolver-cu12==11.4.5.107->torch==2.1.0) (12.6.85)\n",
            "Requirement already satisfied: MarkupSafe>=2.0 in /usr/local/lib/python3.10/dist-packages (from jinja2->torch==2.1.0) (3.0.2)\n",
            "Requirement already satisfied: mpmath<1.4,>=1.1.0 in /usr/local/lib/python3.10/dist-packages (from sympy->torch==2.1.0) (1.3.0)\n",
            "Collecting torchtext==0.16.0\n",
            "  Using cached torchtext-0.16.0-cp310-cp310-manylinux1_x86_64.whl.metadata (7.5 kB)\n",
            "Requirement already satisfied: tqdm in /usr/local/lib/python3.10/dist-packages (from torchtext==0.16.0) (4.67.1)\n",
            "Requirement already satisfied: requests in /usr/local/lib/python3.10/dist-packages (from torchtext==0.16.0) (2.32.3)\n",
            "Requirement already satisfied: torch==2.1.0 in /usr/local/lib/python3.10/dist-packages (from torchtext==0.16.0) (2.1.0)\n",
            "Requirement already satisfied: numpy in /usr/local/lib/python3.10/dist-packages (from torchtext==0.16.0) (1.26.4)\n",
            "Collecting torchdata==0.7.0 (from torchtext==0.16.0)\n",
            "  Using cached torchdata-0.7.0-cp310-cp310-manylinux_2_17_x86_64.manylinux2014_x86_64.whl.metadata (13 kB)\n",
            "Requirement already satisfied: filelock in /usr/local/lib/python3.10/dist-packages (from torch==2.1.0->torchtext==0.16.0) (3.16.1)\n",
            "Requirement already satisfied: typing-extensions in /usr/local/lib/python3.10/dist-packages (from torch==2.1.0->torchtext==0.16.0) (4.12.2)\n",
            "Requirement already satisfied: sympy in /usr/local/lib/python3.10/dist-packages (from torch==2.1.0->torchtext==0.16.0) (1.13.1)\n",
            "Requirement already satisfied: networkx in /usr/local/lib/python3.10/dist-packages (from torch==2.1.0->torchtext==0.16.0) (3.4.2)\n",
            "Requirement already satisfied: jinja2 in /usr/local/lib/python3.10/dist-packages (from torch==2.1.0->torchtext==0.16.0) (3.1.4)\n",
            "Requirement already satisfied: fsspec in /usr/local/lib/python3.10/dist-packages (from torch==2.1.0->torchtext==0.16.0) (2024.9.0)\n",
            "Requirement already satisfied: nvidia-cuda-nvrtc-cu12==12.1.105 in /usr/local/lib/python3.10/dist-packages (from torch==2.1.0->torchtext==0.16.0) (12.1.105)\n",
            "Requirement already satisfied: nvidia-cuda-runtime-cu12==12.1.105 in /usr/local/lib/python3.10/dist-packages (from torch==2.1.0->torchtext==0.16.0) (12.1.105)\n",
            "Requirement already satisfied: nvidia-cuda-cupti-cu12==12.1.105 in /usr/local/lib/python3.10/dist-packages (from torch==2.1.0->torchtext==0.16.0) (12.1.105)\n",
            "Requirement already satisfied: nvidia-cudnn-cu12==8.9.2.26 in /usr/local/lib/python3.10/dist-packages (from torch==2.1.0->torchtext==0.16.0) (8.9.2.26)\n",
            "Requirement already satisfied: nvidia-cublas-cu12==12.1.3.1 in /usr/local/lib/python3.10/dist-packages (from torch==2.1.0->torchtext==0.16.0) (12.1.3.1)\n",
            "Requirement already satisfied: nvidia-cufft-cu12==11.0.2.54 in /usr/local/lib/python3.10/dist-packages (from torch==2.1.0->torchtext==0.16.0) (11.0.2.54)\n",
            "Requirement already satisfied: nvidia-curand-cu12==10.3.2.106 in /usr/local/lib/python3.10/dist-packages (from torch==2.1.0->torchtext==0.16.0) (10.3.2.106)\n",
            "Requirement already satisfied: nvidia-cusolver-cu12==11.4.5.107 in /usr/local/lib/python3.10/dist-packages (from torch==2.1.0->torchtext==0.16.0) (11.4.5.107)\n",
            "Requirement already satisfied: nvidia-cusparse-cu12==12.1.0.106 in /usr/local/lib/python3.10/dist-packages (from torch==2.1.0->torchtext==0.16.0) (12.1.0.106)\n",
            "Requirement already satisfied: nvidia-nccl-cu12==2.18.1 in /usr/local/lib/python3.10/dist-packages (from torch==2.1.0->torchtext==0.16.0) (2.18.1)\n",
            "Requirement already satisfied: nvidia-nvtx-cu12==12.1.105 in /usr/local/lib/python3.10/dist-packages (from torch==2.1.0->torchtext==0.16.0) (12.1.105)\n",
            "Requirement already satisfied: triton==2.1.0 in /usr/local/lib/python3.10/dist-packages (from torch==2.1.0->torchtext==0.16.0) (2.1.0)\n",
            "Requirement already satisfied: urllib3>=1.25 in /usr/local/lib/python3.10/dist-packages (from torchdata==0.7.0->torchtext==0.16.0) (2.2.3)\n",
            "Requirement already satisfied: nvidia-nvjitlink-cu12 in /usr/local/lib/python3.10/dist-packages (from nvidia-cusolver-cu12==11.4.5.107->torch==2.1.0->torchtext==0.16.0) (12.6.85)\n",
            "Requirement already satisfied: charset-normalizer<4,>=2 in /usr/local/lib/python3.10/dist-packages (from requests->torchtext==0.16.0) (3.4.0)\n",
            "Requirement already satisfied: idna<4,>=2.5 in /usr/local/lib/python3.10/dist-packages (from requests->torchtext==0.16.0) (3.10)\n",
            "Requirement already satisfied: certifi>=2017.4.17 in /usr/local/lib/python3.10/dist-packages (from requests->torchtext==0.16.0) (2024.12.14)\n",
            "Requirement already satisfied: MarkupSafe>=2.0 in /usr/local/lib/python3.10/dist-packages (from jinja2->torch==2.1.0->torchtext==0.16.0) (3.0.2)\n",
            "Requirement already satisfied: mpmath<1.4,>=1.1.0 in /usr/local/lib/python3.10/dist-packages (from sympy->torch==2.1.0->torchtext==0.16.0) (1.3.0)\n",
            "Using cached torchtext-0.16.0-cp310-cp310-manylinux1_x86_64.whl (2.0 MB)\n",
            "Using cached torchdata-0.7.0-cp310-cp310-manylinux_2_17_x86_64.manylinux2014_x86_64.whl (4.7 MB)\n",
            "Installing collected packages: torchdata, torchtext\n",
            "Successfully installed torchdata-0.7.0 torchtext-0.16.0\n",
            "Collecting torchmetrics==1.6.0\n",
            "  Using cached torchmetrics-1.6.0-py3-none-any.whl.metadata (20 kB)\n",
            "Requirement already satisfied: numpy>1.20.0 in /usr/local/lib/python3.10/dist-packages (from torchmetrics==1.6.0) (1.26.4)\n",
            "Requirement already satisfied: packaging>17.1 in /usr/local/lib/python3.10/dist-packages (from torchmetrics==1.6.0) (24.2)\n",
            "Requirement already satisfied: torch>=2.0.0 in /usr/local/lib/python3.10/dist-packages (from torchmetrics==1.6.0) (2.1.0)\n",
            "Requirement already satisfied: lightning-utilities>=0.8.0 in /usr/local/lib/python3.10/dist-packages (from torchmetrics==1.6.0) (0.11.9)\n",
            "Requirement already satisfied: setuptools in /usr/local/lib/python3.10/dist-packages (from lightning-utilities>=0.8.0->torchmetrics==1.6.0) (75.1.0)\n",
            "Requirement already satisfied: typing-extensions in /usr/local/lib/python3.10/dist-packages (from lightning-utilities>=0.8.0->torchmetrics==1.6.0) (4.12.2)\n",
            "Requirement already satisfied: filelock in /usr/local/lib/python3.10/dist-packages (from torch>=2.0.0->torchmetrics==1.6.0) (3.16.1)\n",
            "Requirement already satisfied: sympy in /usr/local/lib/python3.10/dist-packages (from torch>=2.0.0->torchmetrics==1.6.0) (1.13.1)\n",
            "Requirement already satisfied: networkx in /usr/local/lib/python3.10/dist-packages (from torch>=2.0.0->torchmetrics==1.6.0) (3.4.2)\n",
            "Requirement already satisfied: jinja2 in /usr/local/lib/python3.10/dist-packages (from torch>=2.0.0->torchmetrics==1.6.0) (3.1.4)\n",
            "Requirement already satisfied: fsspec in /usr/local/lib/python3.10/dist-packages (from torch>=2.0.0->torchmetrics==1.6.0) (2024.9.0)\n",
            "Requirement already satisfied: nvidia-cuda-nvrtc-cu12==12.1.105 in /usr/local/lib/python3.10/dist-packages (from torch>=2.0.0->torchmetrics==1.6.0) (12.1.105)\n",
            "Requirement already satisfied: nvidia-cuda-runtime-cu12==12.1.105 in /usr/local/lib/python3.10/dist-packages (from torch>=2.0.0->torchmetrics==1.6.0) (12.1.105)\n",
            "Requirement already satisfied: nvidia-cuda-cupti-cu12==12.1.105 in /usr/local/lib/python3.10/dist-packages (from torch>=2.0.0->torchmetrics==1.6.0) (12.1.105)\n",
            "Requirement already satisfied: nvidia-cudnn-cu12==8.9.2.26 in /usr/local/lib/python3.10/dist-packages (from torch>=2.0.0->torchmetrics==1.6.0) (8.9.2.26)\n",
            "Requirement already satisfied: nvidia-cublas-cu12==12.1.3.1 in /usr/local/lib/python3.10/dist-packages (from torch>=2.0.0->torchmetrics==1.6.0) (12.1.3.1)\n",
            "Requirement already satisfied: nvidia-cufft-cu12==11.0.2.54 in /usr/local/lib/python3.10/dist-packages (from torch>=2.0.0->torchmetrics==1.6.0) (11.0.2.54)\n",
            "Requirement already satisfied: nvidia-curand-cu12==10.3.2.106 in /usr/local/lib/python3.10/dist-packages (from torch>=2.0.0->torchmetrics==1.6.0) (10.3.2.106)\n",
            "Requirement already satisfied: nvidia-cusolver-cu12==11.4.5.107 in /usr/local/lib/python3.10/dist-packages (from torch>=2.0.0->torchmetrics==1.6.0) (11.4.5.107)\n",
            "Requirement already satisfied: nvidia-cusparse-cu12==12.1.0.106 in /usr/local/lib/python3.10/dist-packages (from torch>=2.0.0->torchmetrics==1.6.0) (12.1.0.106)\n",
            "Requirement already satisfied: nvidia-nccl-cu12==2.18.1 in /usr/local/lib/python3.10/dist-packages (from torch>=2.0.0->torchmetrics==1.6.0) (2.18.1)\n",
            "Requirement already satisfied: nvidia-nvtx-cu12==12.1.105 in /usr/local/lib/python3.10/dist-packages (from torch>=2.0.0->torchmetrics==1.6.0) (12.1.105)\n",
            "Requirement already satisfied: triton==2.1.0 in /usr/local/lib/python3.10/dist-packages (from torch>=2.0.0->torchmetrics==1.6.0) (2.1.0)\n",
            "Requirement already satisfied: nvidia-nvjitlink-cu12 in /usr/local/lib/python3.10/dist-packages (from nvidia-cusolver-cu12==11.4.5.107->torch>=2.0.0->torchmetrics==1.6.0) (12.6.85)\n",
            "Requirement already satisfied: MarkupSafe>=2.0 in /usr/local/lib/python3.10/dist-packages (from jinja2->torch>=2.0.0->torchmetrics==1.6.0) (3.0.2)\n",
            "Requirement already satisfied: mpmath<1.4,>=1.1.0 in /usr/local/lib/python3.10/dist-packages (from sympy->torch>=2.0.0->torchmetrics==1.6.0) (1.3.0)\n",
            "Using cached torchmetrics-1.6.0-py3-none-any.whl (926 kB)\n",
            "Installing collected packages: torchmetrics\n",
            "Successfully installed torchmetrics-1.6.0\n",
            "Requirement already satisfied: torchdata==0.7.0 in /usr/local/lib/python3.10/dist-packages (0.7.0)\n",
            "Requirement already satisfied: urllib3>=1.25 in /usr/local/lib/python3.10/dist-packages (from torchdata==0.7.0) (2.2.3)\n",
            "Requirement already satisfied: requests in /usr/local/lib/python3.10/dist-packages (from torchdata==0.7.0) (2.32.3)\n",
            "Requirement already satisfied: torch==2.1.0 in /usr/local/lib/python3.10/dist-packages (from torchdata==0.7.0) (2.1.0)\n",
            "Requirement already satisfied: filelock in /usr/local/lib/python3.10/dist-packages (from torch==2.1.0->torchdata==0.7.0) (3.16.1)\n",
            "Requirement already satisfied: typing-extensions in /usr/local/lib/python3.10/dist-packages (from torch==2.1.0->torchdata==0.7.0) (4.12.2)\n",
            "Requirement already satisfied: sympy in /usr/local/lib/python3.10/dist-packages (from torch==2.1.0->torchdata==0.7.0) (1.13.1)\n",
            "Requirement already satisfied: networkx in /usr/local/lib/python3.10/dist-packages (from torch==2.1.0->torchdata==0.7.0) (3.4.2)\n",
            "Requirement already satisfied: jinja2 in /usr/local/lib/python3.10/dist-packages (from torch==2.1.0->torchdata==0.7.0) (3.1.4)\n",
            "Requirement already satisfied: fsspec in /usr/local/lib/python3.10/dist-packages (from torch==2.1.0->torchdata==0.7.0) (2024.9.0)\n",
            "Requirement already satisfied: nvidia-cuda-nvrtc-cu12==12.1.105 in /usr/local/lib/python3.10/dist-packages (from torch==2.1.0->torchdata==0.7.0) (12.1.105)\n",
            "Requirement already satisfied: nvidia-cuda-runtime-cu12==12.1.105 in /usr/local/lib/python3.10/dist-packages (from torch==2.1.0->torchdata==0.7.0) (12.1.105)\n",
            "Requirement already satisfied: nvidia-cuda-cupti-cu12==12.1.105 in /usr/local/lib/python3.10/dist-packages (from torch==2.1.0->torchdata==0.7.0) (12.1.105)\n",
            "Requirement already satisfied: nvidia-cudnn-cu12==8.9.2.26 in /usr/local/lib/python3.10/dist-packages (from torch==2.1.0->torchdata==0.7.0) (8.9.2.26)\n",
            "Requirement already satisfied: nvidia-cublas-cu12==12.1.3.1 in /usr/local/lib/python3.10/dist-packages (from torch==2.1.0->torchdata==0.7.0) (12.1.3.1)\n",
            "Requirement already satisfied: nvidia-cufft-cu12==11.0.2.54 in /usr/local/lib/python3.10/dist-packages (from torch==2.1.0->torchdata==0.7.0) (11.0.2.54)\n",
            "Requirement already satisfied: nvidia-curand-cu12==10.3.2.106 in /usr/local/lib/python3.10/dist-packages (from torch==2.1.0->torchdata==0.7.0) (10.3.2.106)\n",
            "Requirement already satisfied: nvidia-cusolver-cu12==11.4.5.107 in /usr/local/lib/python3.10/dist-packages (from torch==2.1.0->torchdata==0.7.0) (11.4.5.107)\n",
            "Requirement already satisfied: nvidia-cusparse-cu12==12.1.0.106 in /usr/local/lib/python3.10/dist-packages (from torch==2.1.0->torchdata==0.7.0) (12.1.0.106)\n",
            "Requirement already satisfied: nvidia-nccl-cu12==2.18.1 in /usr/local/lib/python3.10/dist-packages (from torch==2.1.0->torchdata==0.7.0) (2.18.1)\n",
            "Requirement already satisfied: nvidia-nvtx-cu12==12.1.105 in /usr/local/lib/python3.10/dist-packages (from torch==2.1.0->torchdata==0.7.0) (12.1.105)\n",
            "Requirement already satisfied: triton==2.1.0 in /usr/local/lib/python3.10/dist-packages (from torch==2.1.0->torchdata==0.7.0) (2.1.0)\n",
            "Requirement already satisfied: nvidia-nvjitlink-cu12 in /usr/local/lib/python3.10/dist-packages (from nvidia-cusolver-cu12==11.4.5.107->torch==2.1.0->torchdata==0.7.0) (12.6.85)\n",
            "Requirement already satisfied: charset-normalizer<4,>=2 in /usr/local/lib/python3.10/dist-packages (from requests->torchdata==0.7.0) (3.4.0)\n",
            "Requirement already satisfied: idna<4,>=2.5 in /usr/local/lib/python3.10/dist-packages (from requests->torchdata==0.7.0) (3.10)\n",
            "Requirement already satisfied: certifi>=2017.4.17 in /usr/local/lib/python3.10/dist-packages (from requests->torchdata==0.7.0) (2024.12.14)\n",
            "Requirement already satisfied: MarkupSafe>=2.0 in /usr/local/lib/python3.10/dist-packages (from jinja2->torch==2.1.0->torchdata==0.7.0) (3.0.2)\n",
            "Requirement already satisfied: mpmath<1.4,>=1.1.0 in /usr/local/lib/python3.10/dist-packages (from sympy->torch==2.1.0->torchdata==0.7.0) (1.3.0)\n"
          ]
        }
      ]
    },
    {
      "cell_type": "code",
      "execution_count": null,
      "metadata": {
        "id": "vhlVJEkJeTsV"
      },
      "outputs": [],
      "source": [
        "import numpy as np\n",
        "import matplotlib.pyplot as plt\n",
        "import torchtext\n",
        "import torch\n",
        "from torch import nn\n",
        "from torch.utils.data import DataLoader, Dataset\n",
        "from torch import optim\n",
        "from torch.nn import functional as F\n",
        "import tqdm\n",
        "import torchmetrics as tm"
      ]
    },
    {
      "cell_type": "code",
      "execution_count": null,
      "metadata": {
        "id": "DEzYlyeqTZqQ",
        "colab": {
          "base_uri": "https://localhost:8080/"
        },
        "outputId": "d8ab3126-1988-467f-f8af-0dbd4e37d165",
        "collapsed": true
      },
      "outputs": [
        {
          "output_type": "stream",
          "name": "stdout",
          "text": [
            "Python 3.10.12\n",
            "2.1.0+cu121\n",
            "0.16.0+cpu\n"
          ]
        }
      ],
      "source": [
        "!python --version\n",
        "print(torch.__version__)\n",
        "print(torchtext.__version__)"
      ]
    },
    {
      "cell_type": "code",
      "execution_count": null,
      "metadata": {
        "id": "6DWjGTq6T8Jg",
        "colab": {
          "base_uri": "https://localhost:8080/"
        },
        "outputId": "66d0fd1c-3fdb-4948-da3d-708ee397aa7d",
        "collapsed": true
      },
      "outputs": [
        {
          "output_type": "stream",
          "name": "stdout",
          "text": [
            "numpy --> 1.26.4\n",
            "torch --> 2.1.0+cu121\n",
            "torchtext --> 0.16.0+cpu\n",
            "tqdm --> 4.67.1\n"
          ]
        }
      ],
      "source": [
        "for lib in [np, torch, torchtext, tqdm]:\n",
        "  print(lib.__name__, '-->', lib.__version__)"
      ]
    },
    {
      "cell_type": "markdown",
      "metadata": {
        "id": "RwaY_YcgRayy"
      },
      "source": [
        "# 🔴 **Utils**"
      ]
    },
    {
      "cell_type": "code",
      "execution_count": null,
      "metadata": {
        "id": "8yMS7bbmRayz"
      },
      "outputs": [],
      "source": [
        "class AverageMeter(object):\n",
        "    \"\"\"Computes and stores the average and current value\"\"\"\n",
        "    def __init__(self):\n",
        "        self.reset()\n",
        "\n",
        "    def reset(self):\n",
        "        self.val = 0\n",
        "        self.avg = 0\n",
        "        self.sum = 0\n",
        "        self.count = 0\n",
        "\n",
        "    def update(self, val, n=1):\n",
        "        self.val = val\n",
        "        self.sum += val * n\n",
        "        self.count += n\n",
        "        self.avg = self.sum / self.count"
      ]
    },
    {
      "cell_type": "code",
      "execution_count": null,
      "metadata": {
        "id": "PpKbTUEIRayz"
      },
      "outputs": [],
      "source": [
        "def num_trainable_params(model):\n",
        "  nums = sum(p.numel() for p in model.parameters() if p.requires_grad)/1e6\n",
        "  return nums"
      ]
    },
    {
      "cell_type": "markdown",
      "metadata": {
        "id": "RTql4Ftiunfr"
      },
      "source": [
        "# 🔴 **Dataset**"
      ]
    },
    {
      "cell_type": "markdown",
      "metadata": {
        "id": "ujIVtjsYvxOI"
      },
      "source": [
        "## 🟠 **Load the Dataset**"
      ]
    },
    {
      "cell_type": "markdown",
      "metadata": {
        "id": "Ek9DpCNCChzF"
      },
      "source": [
        "🔰 In this session you should load WikiText2 dataset."
      ]
    },
    {
      "cell_type": "code",
      "source": [
        "!pip install datasets"
      ],
      "metadata": {
        "id": "tag9rkbSdHQ5",
        "colab": {
          "base_uri": "https://localhost:8080/"
        },
        "outputId": "e8b248ae-df9a-4ab6-f494-7a8701fac499",
        "collapsed": true
      },
      "execution_count": null,
      "outputs": [
        {
          "output_type": "stream",
          "name": "stdout",
          "text": [
            "Requirement already satisfied: datasets in /usr/local/lib/python3.10/dist-packages (3.2.0)\n",
            "Requirement already satisfied: filelock in /usr/local/lib/python3.10/dist-packages (from datasets) (3.16.1)\n",
            "Requirement already satisfied: numpy>=1.17 in /usr/local/lib/python3.10/dist-packages (from datasets) (1.26.4)\n",
            "Requirement already satisfied: pyarrow>=15.0.0 in /usr/local/lib/python3.10/dist-packages (from datasets) (17.0.0)\n",
            "Requirement already satisfied: dill<0.3.9,>=0.3.0 in /usr/local/lib/python3.10/dist-packages (from datasets) (0.3.8)\n",
            "Requirement already satisfied: pandas in /usr/local/lib/python3.10/dist-packages (from datasets) (2.2.2)\n",
            "Requirement already satisfied: requests>=2.32.2 in /usr/local/lib/python3.10/dist-packages (from datasets) (2.32.3)\n",
            "Requirement already satisfied: tqdm>=4.66.3 in /usr/local/lib/python3.10/dist-packages (from datasets) (4.67.1)\n",
            "Requirement already satisfied: xxhash in /usr/local/lib/python3.10/dist-packages (from datasets) (3.5.0)\n",
            "Requirement already satisfied: multiprocess<0.70.17 in /usr/local/lib/python3.10/dist-packages (from datasets) (0.70.16)\n",
            "Requirement already satisfied: fsspec<=2024.9.0,>=2023.1.0 in /usr/local/lib/python3.10/dist-packages (from fsspec[http]<=2024.9.0,>=2023.1.0->datasets) (2024.9.0)\n",
            "Requirement already satisfied: aiohttp in /usr/local/lib/python3.10/dist-packages (from datasets) (3.11.10)\n",
            "Requirement already satisfied: huggingface-hub>=0.23.0 in /usr/local/lib/python3.10/dist-packages (from datasets) (0.27.0)\n",
            "Requirement already satisfied: packaging in /usr/local/lib/python3.10/dist-packages (from datasets) (24.2)\n",
            "Requirement already satisfied: pyyaml>=5.1 in /usr/local/lib/python3.10/dist-packages (from datasets) (6.0.2)\n",
            "Requirement already satisfied: aiohappyeyeballs>=2.3.0 in /usr/local/lib/python3.10/dist-packages (from aiohttp->datasets) (2.4.4)\n",
            "Requirement already satisfied: aiosignal>=1.1.2 in /usr/local/lib/python3.10/dist-packages (from aiohttp->datasets) (1.3.2)\n",
            "Requirement already satisfied: async-timeout<6.0,>=4.0 in /usr/local/lib/python3.10/dist-packages (from aiohttp->datasets) (4.0.3)\n",
            "Requirement already satisfied: attrs>=17.3.0 in /usr/local/lib/python3.10/dist-packages (from aiohttp->datasets) (24.3.0)\n",
            "Requirement already satisfied: frozenlist>=1.1.1 in /usr/local/lib/python3.10/dist-packages (from aiohttp->datasets) (1.5.0)\n",
            "Requirement already satisfied: multidict<7.0,>=4.5 in /usr/local/lib/python3.10/dist-packages (from aiohttp->datasets) (6.1.0)\n",
            "Requirement already satisfied: propcache>=0.2.0 in /usr/local/lib/python3.10/dist-packages (from aiohttp->datasets) (0.2.1)\n",
            "Requirement already satisfied: yarl<2.0,>=1.17.0 in /usr/local/lib/python3.10/dist-packages (from aiohttp->datasets) (1.18.3)\n",
            "Requirement already satisfied: typing-extensions>=3.7.4.3 in /usr/local/lib/python3.10/dist-packages (from huggingface-hub>=0.23.0->datasets) (4.12.2)\n",
            "Requirement already satisfied: charset-normalizer<4,>=2 in /usr/local/lib/python3.10/dist-packages (from requests>=2.32.2->datasets) (3.4.0)\n",
            "Requirement already satisfied: idna<4,>=2.5 in /usr/local/lib/python3.10/dist-packages (from requests>=2.32.2->datasets) (3.10)\n",
            "Requirement already satisfied: urllib3<3,>=1.21.1 in /usr/local/lib/python3.10/dist-packages (from requests>=2.32.2->datasets) (2.2.3)\n",
            "Requirement already satisfied: certifi>=2017.4.17 in /usr/local/lib/python3.10/dist-packages (from requests>=2.32.2->datasets) (2024.12.14)\n",
            "Requirement already satisfied: python-dateutil>=2.8.2 in /usr/local/lib/python3.10/dist-packages (from pandas->datasets) (2.8.2)\n",
            "Requirement already satisfied: pytz>=2020.1 in /usr/local/lib/python3.10/dist-packages (from pandas->datasets) (2024.2)\n",
            "Requirement already satisfied: tzdata>=2022.7 in /usr/local/lib/python3.10/dist-packages (from pandas->datasets) (2024.2)\n",
            "Requirement already satisfied: six>=1.5 in /usr/local/lib/python3.10/dist-packages (from python-dateutil>=2.8.2->pandas->datasets) (1.17.0)\n"
          ]
        }
      ]
    },
    {
      "cell_type": "code",
      "execution_count": null,
      "metadata": {
        "id": "ShYpXvVzVmP6",
        "colab": {
          "base_uri": "https://localhost:8080/"
        },
        "outputId": "7a9f8a6f-2761-4cfe-fa89-9ab1bf122ead",
        "collapsed": true
      },
      "outputs": [
        {
          "output_type": "stream",
          "name": "stderr",
          "text": [
            "/usr/local/lib/python3.10/dist-packages/huggingface_hub/utils/_auth.py:94: UserWarning: \n",
            "The secret `HF_TOKEN` does not exist in your Colab secrets.\n",
            "To authenticate with the Hugging Face Hub, create a token in your settings tab (https://huggingface.co/settings/tokens), set it as secret in your Google Colab and restart your session.\n",
            "You will be able to reuse this secret in all of your notebooks.\n",
            "Please note that authentication is recommended but still optional to access public models or datasets.\n",
            "  warnings.warn(\n"
          ]
        }
      ],
      "source": [
        "from datasets import load_dataset\n",
        "dataset = load_dataset(\"wikitext\", \"wikitext-2-raw-v1\")"
      ]
    },
    {
      "cell_type": "code",
      "source": [
        "train_data = dataset['train']\n",
        "valid_data = dataset['validation']\n",
        "test_data = dataset['test']"
      ],
      "metadata": {
        "id": "hDrzRwWJd4A9"
      },
      "execution_count": null,
      "outputs": []
    },
    {
      "cell_type": "code",
      "source": [
        "train_data.shape"
      ],
      "metadata": {
        "id": "j0nogQkOpLlJ",
        "colab": {
          "base_uri": "https://localhost:8080/"
        },
        "outputId": "81406f18-e511-4fdf-c3e7-7f97bb9cde46"
      },
      "execution_count": null,
      "outputs": [
        {
          "output_type": "execute_result",
          "data": {
            "text/plain": [
              "(36718, 1)"
            ]
          },
          "metadata": {},
          "execution_count": 10
        }
      ]
    },
    {
      "cell_type": "markdown",
      "metadata": {
        "id": "wCi-ofSLCzop"
      },
      "source": [
        "## 🟠 **Build vocabulary and save it**"
      ]
    },
    {
      "cell_type": "markdown",
      "metadata": {
        "id": "L02PHFuyNRb3"
      },
      "source": [
        "🔰 In this section we need to:\n",
        "\n",
        "*   Define a tokenizer using `basic_english`\n",
        "*   Tokenize the dataset and collect tokens\n",
        "*   Build the vocabulary using `build_vocab_from_iterator`\n",
        "*   Manually insert special tokens and set the default index\n"
      ]
    },
    {
      "cell_type": "code",
      "execution_count": null,
      "metadata": {
        "id": "dlJ6Q6xCVuf0"
      },
      "outputs": [],
      "source": [
        "from torchtext.data.utils import get_tokenizer\n",
        "from torchtext.vocab import build_vocab_from_iterator\n",
        "from collections import Counter\n",
        "\n",
        "tokenizer = get_tokenizer(\"basic_english\")\n",
        "\n",
        "def tokenize_data(data):\n",
        "    for item in data:\n",
        "        yield tokenizer(item['text'])\n",
        "def count_token_frequencies(data):\n",
        "    counter = Counter()\n",
        "    for tokens in tokenize_data(data):\n",
        "        counter.update(tokens)\n",
        "    return counter\n",
        "def build_filtered_vocab(counter, min_freq, specials):\n",
        "    filtered_tokens = [token for token, freq in counter.items() if freq >= min_freq]\n",
        "    filtered_tokens = specials + filtered_tokens\n",
        "    vocab = build_vocab_from_iterator([filtered_tokens])\n",
        "    return vocab\n",
        "\n",
        "token_freqs = count_token_frequencies(train_data)\n",
        "special_tokens = [\"<unk>\", \"<pad>\", \"<bos>\", \"<eos>\"]\n",
        "vocab = build_filtered_vocab(token_freqs, min_freq=5, specials=special_tokens)\n",
        "\n",
        "vocab.set_default_index(vocab[\"<unk>\"])\n"
      ]
    },
    {
      "cell_type": "code",
      "source": [
        "len(vocab)"
      ],
      "metadata": {
        "id": "1VE3stsMkYN6",
        "colab": {
          "base_uri": "https://localhost:8080/"
        },
        "outputId": "79b39a81-2007-465e-bb07-df016a8a92cf"
      },
      "execution_count": null,
      "outputs": [
        {
          "output_type": "execute_result",
          "data": {
            "text/plain": [
              "20925"
            ]
          },
          "metadata": {},
          "execution_count": 12
        }
      ]
    },
    {
      "cell_type": "markdown",
      "metadata": {
        "id": "B29jrEvwRqXA"
      },
      "source": [
        "## 🟠 EDA"
      ]
    },
    {
      "cell_type": "markdown",
      "metadata": {
        "id": "pHtoYxEPd3bL"
      },
      "source": [
        "### 🟡 Let's explore the WikiText2 dataset!"
      ]
    },
    {
      "cell_type": "markdown",
      "metadata": {
        "id": "A3rnR739GbYb"
      },
      "source": [
        "### 🟡 Calculate basic statistics such as the number of documents, total words, average document length, etc."
      ]
    },
    {
      "cell_type": "code",
      "execution_count": null,
      "metadata": {
        "id": "jHVKeKwk2WaG",
        "colab": {
          "base_uri": "https://localhost:8080/"
        },
        "outputId": "a92f4180-7c97-4e11-88d2-c467e0acaaa4"
      },
      "outputs": [
        {
          "output_type": "stream",
          "name": "stdout",
          "text": [
            "Train Stats: {'num_documents': 36718, 'total_words': 2051665, 'avg_document_length': 55.87627321749551}\n",
            "Validation Stats: {'num_documents': 3760, 'total_words': 214665, 'avg_document_length': 57.09175531914894}\n",
            "Test Stats: {'num_documents': 4358, 'total_words': 242156, 'avg_document_length': 55.56585589720055}\n"
          ]
        }
      ],
      "source": [
        "def calculate_statistics(data):\n",
        "    num_documents = len(data)\n",
        "    total_words = 0\n",
        "    document_lengths = []\n",
        "\n",
        "    for item in data:\n",
        "        tokens = tokenizer(item['text'])\n",
        "        total_words += len(tokens)\n",
        "        document_lengths.append(len(tokens))\n",
        "\n",
        "    avg_document_length = total_words / num_documents\n",
        "\n",
        "    return {\n",
        "        \"num_documents\": num_documents,\n",
        "        \"total_words\": total_words,\n",
        "        \"avg_document_length\": avg_document_length,\n",
        "    }\n",
        "\n",
        "train_stats = calculate_statistics(train_data)\n",
        "valid_stats = calculate_statistics(valid_data)\n",
        "test_stats = calculate_statistics(test_data)\n",
        "print(\"Train Stats:\", train_stats)\n",
        "print(\"Validation Stats:\", valid_stats)\n",
        "print(\"Test Stats:\", test_stats)"
      ]
    },
    {
      "cell_type": "markdown",
      "metadata": {
        "id": "a4HyLPqcsF43"
      },
      "source": [
        "### 🟡 Analyze the most common and least common words in the dataset."
      ]
    },
    {
      "cell_type": "code",
      "execution_count": null,
      "metadata": {
        "id": "cBnEjagdTN8n",
        "colab": {
          "base_uri": "https://localhost:8080/"
        },
        "outputId": "25ceb434-1712-4d75-d36a-3a3be6c31eaf"
      },
      "outputs": [
        {
          "output_type": "stream",
          "name": "stdout",
          "text": [
            "Most Common Words: [('!', 0), ('#', 1), ('$', 2), ('%', 3), ('&', 4), (\"'\", 5), ('(', 6), (')', 7), ('*', 8), ('+', 9)]\n",
            "Least Common Words: [('≤', 20915), ('☉', 20916), ('♭', 20917), ('♯', 20918), ('〈', 20919), ('〉', 20920), ('・', 20921), ('大空', 20922), ('\\ufeff', 20923), ('～', 20924)]\n"
          ]
        }
      ],
      "source": [
        "def analyze_vocabulary(vocab):\n",
        "    sorted_vocab = sorted(vocab.get_stoi().items(), key=lambda x: x[1])\n",
        "    most_common = sorted_vocab[:10]\n",
        "    least_common = sorted_vocab[-10:]\n",
        "    return most_common, least_common\n",
        "\n",
        "most_common_words, least_common_words = analyze_vocabulary(vocab)\n",
        "print(\"Most Common Words:\", most_common_words)\n",
        "print(\"Least Common Words:\", least_common_words)"
      ]
    },
    {
      "cell_type": "markdown",
      "metadata": {
        "id": "idRexFij4wgN"
      },
      "source": [
        "## 🟠 Transform the data"
      ]
    },
    {
      "cell_type": "markdown",
      "metadata": {
        "id": "2VjvBOtvHu2v"
      },
      "source": [
        "🛑 Make sure to perform the transformations on train, validation and test datasets."
      ]
    },
    {
      "cell_type": "markdown",
      "metadata": {
        "id": "ApisIcGeGSsJ"
      },
      "source": [
        "🔰 Reshape the dataset into an `N x B x L` or `M x L` format, where `N` represents the number of batches, `B` is the batch size, `L` is the length of a sample within each batch, and `M` is equal to `N x B`."
      ]
    },
    {
      "cell_type": "code",
      "execution_count": null,
      "metadata": {
        "id": "ocxM8YdsWH-1",
        "colab": {
          "base_uri": "https://localhost:8080/"
        },
        "outputId": "2ac08dce-167e-481e-acc6-93089c1b43ba"
      },
      "outputs": [
        {
          "output_type": "stream",
          "name": "stdout",
          "text": [
            "train_inputs shape: torch.Size([36718, 32])\n",
            "train_targets shape: torch.Size([36718, 32])\n"
          ]
        }
      ],
      "source": [
        "import torch\n",
        "\n",
        "def reshape_dataset(data, vocab, tokenizer):\n",
        "    tokenized_data = [\n",
        "        [vocab[token] for token in tokenizer(item['text'])]\n",
        "        for item in data\n",
        "    ]\n",
        "\n",
        "    inputs = [torch.tensor(tokens[:-1], dtype=torch.int64) for tokens in tokenized_data]\n",
        "    targets = [torch.tensor(tokens[1:], dtype=torch.int64) for tokens in tokenized_data]\n",
        "    max_len = max(len(sentence) for sentence in inputs)\n",
        "\n",
        "    padded_inputs = torch.stack([\n",
        "        torch.cat([sentence, torch.tensor([vocab['<PAD>']] * (max_len - len(sentence)), dtype=torch.int64)])\n",
        "        if len(sentence) < max_len else sentence\n",
        "        for sentence in inputs\n",
        "    ])\n",
        "\n",
        "    return padded_inputs[:,:32], padded_inputs[:,1:33]\n",
        "\n",
        "train_inputs, train_targets = reshape_dataset(train_data, vocab, tokenizer)\n",
        "valid_inputs, valid_targets = reshape_dataset(valid_data, vocab, tokenizer)\n",
        "test_inputs, test_targets = reshape_dataset(test_data, vocab, tokenizer)\n",
        "\n",
        "print(f'train_inputs shape: {train_inputs.shape}')\n",
        "print(f'train_targets shape: {train_targets.shape}')"
      ]
    },
    {
      "cell_type": "code",
      "source": [
        "train_inputs[1]"
      ],
      "metadata": {
        "id": "EZpJz-vHqmqk",
        "colab": {
          "base_uri": "https://localhost:8080/"
        },
        "outputId": "4a8bb611-6edd-4a0e-ab2c-56db52d58269"
      },
      "execution_count": null,
      "outputs": [
        {
          "output_type": "execute_result",
          "data": {
            "text/plain": [
              "tensor([  926, 19880,  4022,  9691,   925,   925,   925,   925,   925,   925,\n",
              "          925,   925,   925,   925,   925,   925,   925,   925,   925,   925,\n",
              "          925,   925,   925,   925,   925,   925,   925,   925,   925,   925,\n",
              "          925,   925])"
            ]
          },
          "metadata": {},
          "execution_count": 16
        }
      ]
    },
    {
      "cell_type": "code",
      "source": [
        "train_targets[3]"
      ],
      "metadata": {
        "id": "1Mw7jSiPrBal",
        "colab": {
          "base_uri": "https://localhost:8080/"
        },
        "outputId": "ad25bb98-65db-472e-9439-7abf056ad169"
      },
      "execution_count": null,
      "outputs": [
        {
          "output_type": "execute_result",
          "data": {
            "text/plain": [
              "tensor([13145, 19880,   647,   925,  4022,     6, 10447,   925,    10, 11406,\n",
              "           13, 19880, 13402, 18874,  2517,   647,     7,    10,  4439, 15685,\n",
              "        19070,  1988, 19880,  4022,  9691, 13694, 10446,    10, 10336,   934,\n",
              "        18603, 16357])"
            ]
          },
          "metadata": {},
          "execution_count": 17
        }
      ]
    },
    {
      "cell_type": "code",
      "source": [
        "train_data[3]"
      ],
      "metadata": {
        "colab": {
          "base_uri": "https://localhost:8080/"
        },
        "id": "VJh0EqDjdU2R",
        "outputId": "6d0639f7-679a-4005-cd2e-5dc6873ddd58"
      },
      "execution_count": null,
      "outputs": [
        {
          "output_type": "execute_result",
          "data": {
            "text/plain": [
              "{'text': ' Senjō no Valkyria 3 : Unrecorded Chronicles ( Japanese : 戦場のヴァルキュリア3 , lit . Valkyria of the Battlefield 3 ) , commonly referred to as Valkyria Chronicles III outside Japan , is a tactical role @-@ playing video game developed by Sega and Media.Vision for the PlayStation Portable . Released in January 2011 in Japan , it is the third game in the Valkyria series . Employing the same fusion of tactical and real @-@ time gameplay as its predecessors , the story runs parallel to the first game and follows the \" Nameless \" , a penal military unit serving the nation of Gallia during the Second Europan War who perform secret black operations and are pitted against the Imperial unit \" Calamaty Raven \" . \\n'}"
            ]
          },
          "metadata": {},
          "execution_count": 18
        }
      ]
    },
    {
      "cell_type": "code",
      "source": [
        "def decode_tokens(tokens, vocab, remove_special_tokens=True):\n",
        "    words = [vocab.get_itos()[token.item()] for token in tokens]\n",
        "\n",
        "    if remove_special_tokens:\n",
        "        words = [word for word in words if word not in ['<unk>', '<pad>', '<bos>', '<eos>']]\n",
        "\n",
        "    return \" \".join(words)\n",
        "\n",
        "decoded_input = decode_tokens(train_inputs[3], vocab)\n",
        "decoded_targets = decode_tokens(train_targets[3], vocab)\n",
        "print(f\"Decoded input: {decoded_input}\")\n",
        "print()\n",
        "print(f\"Decoded target: {decoded_targets}\")\n"
      ],
      "metadata": {
        "colab": {
          "base_uri": "https://localhost:8080/"
        },
        "id": "nNTSQ4i6czbV",
        "outputId": "0abe5f5c-378c-48d5-b647-e84f3aa1b819"
      },
      "execution_count": null,
      "outputs": [
        {
          "output_type": "stream",
          "name": "stdout",
          "text": [
            "Decoded input: senjō no valkyria 3 chronicles ( japanese , lit . valkyria of the battlefield 3 ) , commonly referred to as valkyria chronicles iii outside japan , is a tactical\n",
            "\n",
            "Decoded target: no valkyria 3 chronicles ( japanese , lit . valkyria of the battlefield 3 ) , commonly referred to as valkyria chronicles iii outside japan , is a tactical role\n"
          ]
        }
      ]
    },
    {
      "cell_type": "markdown",
      "metadata": {
        "id": "PgLgP04P4-aX"
      },
      "source": [
        "## 🟠 Custom dataset"
      ]
    },
    {
      "cell_type": "markdown",
      "metadata": {
        "id": "XkxH_IR2PBNq"
      },
      "source": [
        "🔰 Write a custom dataset class for LanguageModelDataset."
      ]
    },
    {
      "cell_type": "code",
      "execution_count": null,
      "metadata": {
        "id": "1cjpSkrtexap"
      },
      "outputs": [],
      "source": [
        "class LanguageModelDataset(Dataset):\n",
        "    def __init__(self, inputs, targets):\n",
        "        self.inputs = inputs\n",
        "        self.targets = targets\n",
        "\n",
        "    def __len__(self):\n",
        "        return len(self.inputs)\n",
        "\n",
        "    def __getitem__(self, idx):\n",
        "        input_batch = self.inputs[idx]\n",
        "        target_batch = self.targets[idx]\n",
        "        return input_batch, target_batch"
      ]
    },
    {
      "cell_type": "code",
      "execution_count": null,
      "metadata": {
        "id": "o0qUkL0CfQmr"
      },
      "outputs": [],
      "source": [
        "from torch.utils.data import DataLoader\n",
        "train_dataset = LanguageModelDataset(train_inputs, train_targets)\n",
        "valid_dataset = LanguageModelDataset(valid_inputs, valid_targets)\n",
        "test_dataset = LanguageModelDataset(test_inputs, test_targets)\n",
        "\n",
        "train_loader = torch.utils.data.DataLoader(train_dataset, batch_size=32, shuffle=True)\n",
        "valid_loader = torch.utils.data.DataLoader(valid_dataset, batch_size=32, shuffle=False)\n",
        "test_loader = torch.utils.data.DataLoader(test_dataset, batch_size=32, shuffle=False)"
      ]
    },
    {
      "cell_type": "code",
      "source": [
        "num_batches = len(train_loader)\n",
        "print(f\"Number of batches in train_loader: {num_batches}\")\n",
        "for batch_idx, (input_batch, target_batch) in enumerate(train_loader):\n",
        "    print(f\"Input batch shape: {input_batch.shape}\")\n",
        "    print(f\"Target batch shape: {target_batch.shape}\")\n",
        "    if batch_idx == 0:\n",
        "        break\n"
      ],
      "metadata": {
        "id": "DObqep2NrUh1",
        "colab": {
          "base_uri": "https://localhost:8080/"
        },
        "outputId": "6d3885ad-f3aa-4ccd-fdfd-2628b0274cc4"
      },
      "execution_count": null,
      "outputs": [
        {
          "output_type": "stream",
          "name": "stdout",
          "text": [
            "Number of batches in train_loader: 1148\n",
            "Input batch shape: torch.Size([32, 32])\n",
            "Target batch shape: torch.Size([32, 32])\n"
          ]
        }
      ]
    },
    {
      "cell_type": "markdown",
      "metadata": {
        "id": "3ttl0AK3Hvyh"
      },
      "source": [
        "# 🔴 **Model**"
      ]
    },
    {
      "cell_type": "markdown",
      "metadata": {
        "id": "06p-oBowTf-R"
      },
      "source": [
        "🔰 Use the following template to create a custom model.\n",
        "\n",
        "Your model should consist of three parts:\n",
        "\n",
        "*   an embedding layer\n",
        "*   an LSTM layer\n",
        "*   a fully connected layer"
      ]
    },
    {
      "cell_type": "code",
      "execution_count": null,
      "metadata": {
        "id": "ISnnHE0BMVqp"
      },
      "outputs": [],
      "source": [
        "import torch\n",
        "import torch.nn as nn\n",
        "\n",
        "class LanguageModel(nn.Module):\n",
        "    def __init__(self, vocab_size, embed_size, hidden_size, num_layers, dropout):\n",
        "        super(LanguageModel, self).__init__()\n",
        "        self.embedding = nn.Embedding(vocab_size, embed_size)\n",
        "        self.lstm = nn.LSTM(embed_size, hidden_size, num_layers, dropout=dropout, batch_first=True)\n",
        "        self.fc = nn.Linear(hidden_size, vocab_size)\n",
        "\n",
        "    def forward(self, x):\n",
        "        x = self.embedding(x)\n",
        "        lstm_out, _ = self.lstm(x)\n",
        "        out = self.fc(lstm_out)\n",
        "        return out\n"
      ]
    },
    {
      "cell_type": "markdown",
      "metadata": {
        "id": "24qT-sgUO2-d"
      },
      "source": [
        "# 🔴 **Config**"
      ]
    },
    {
      "cell_type": "code",
      "execution_count": null,
      "metadata": {
        "id": "Ma28M5Z36gsq"
      },
      "outputs": [],
      "source": [
        "device = 'cuda' if torch.cuda.is_available() else 'cpu'"
      ]
    },
    {
      "cell_type": "markdown",
      "metadata": {
        "id": "bwYDJKjuduUT"
      },
      "source": [
        "🔰 Define the optimizer, loss function, metrics and other necessary parameters in this section, and ensure the model is sent to the appropriate device."
      ]
    },
    {
      "cell_type": "code",
      "execution_count": null,
      "metadata": {
        "id": "9ubk3xKaIG6i"
      },
      "outputs": [],
      "source": [
        "import torch.optim as optim\n",
        "model = LanguageModel(len(vocab), 128, 256, 2, 0.3)\n",
        "model = model.to(device)\n",
        "optimizer = optim.Adam(model.parameters(), lr=0.001)\n",
        "loss_fn = nn.CrossEntropyLoss()\n",
        "def calculate_perplexity(loss):\n",
        "    return torch.exp(loss)\n",
        "batch_size = 16\n",
        "epochs = 10\n",
        "learning_rate = 0.001"
      ]
    },
    {
      "cell_type": "code",
      "source": [
        "torch.cuda.empty_cache()\n"
      ],
      "metadata": {
        "id": "CNFGdw-rJSb1"
      },
      "execution_count": null,
      "outputs": []
    },
    {
      "cell_type": "markdown",
      "metadata": {
        "id": "W0QNbC0YPCKZ"
      },
      "source": [
        "# 🔴 **Train ➰**"
      ]
    },
    {
      "cell_type": "markdown",
      "metadata": {
        "id": "yS6EF4HUhi5e"
      },
      "source": [
        "🔰 This is the template for train function, change it if needed."
      ]
    },
    {
      "cell_type": "code",
      "execution_count": null,
      "metadata": {
        "id": "WniOAgk0QyRI"
      },
      "outputs": [],
      "source": [
        "import torch\n",
        "import torch.nn.functional as F\n",
        "import tqdm\n",
        "\n",
        "def calculate_perplexity(loss):\n",
        "    return torch.exp(loss)\n",
        "\n",
        "def train_one_epoch(model, train_loader, loss_fn, optimizer, epoch=None, device=None):\n",
        "    model.train()\n",
        "    loss_train = AverageMeter()\n",
        "    total_perplexity = 0.0\n",
        "    total_batches = 0\n",
        "\n",
        "    with tqdm.tqdm(train_loader, unit='batch') as tepoch:\n",
        "        for inputs, targets in tepoch:\n",
        "            inputs, targets = inputs.to(device), targets.to(device)\n",
        "            outputs = model(inputs)\n",
        "            outputs = outputs.view(-1, outputs.size(-1))\n",
        "            targets = targets.view(-1)\n",
        "            loss = loss_fn(outputs, targets)\n",
        "            perplexity = calculate_perplexity(loss)\n",
        "            loss.backward()\n",
        "            optimizer.step()\n",
        "            optimizer.zero_grad()\n",
        "            loss_train.update(loss.item(), n=inputs.size(0) * inputs.size(1))\n",
        "            total_perplexity += perplexity.item()\n",
        "            total_batches += 1\n",
        "            tepoch.set_postfix(loss=loss_train.avg, perplexity=total_perplexity / total_batches)\n",
        "\n",
        "    avg_perplexity = total_perplexity / total_batches\n",
        "\n",
        "    return model, loss_train.avg, avg_perplexity\n"
      ]
    },
    {
      "cell_type": "markdown",
      "metadata": {
        "id": "G9HgVWslPGsH"
      },
      "source": [
        "# 🔴 **Evaluation**"
      ]
    },
    {
      "cell_type": "markdown",
      "metadata": {
        "id": "TsszJ7GVj2l3"
      },
      "source": [
        "🔰 This is the template for evaluation function, change it if needed."
      ]
    },
    {
      "cell_type": "code",
      "execution_count": null,
      "metadata": {
        "id": "uV0_67_ZQ0xf"
      },
      "outputs": [],
      "source": [
        "def evaluate(model, test_loader, loss_fn, device=None):\n",
        "    model.eval()\n",
        "    loss_eval = AverageMeter()\n",
        "    total_perplexity = 0.0\n",
        "    total_batches = 0\n",
        "\n",
        "    with torch.inference_mode():\n",
        "        for inputs, targets in test_loader:\n",
        "            inputs, targets = inputs.to(device), targets.to(device)\n",
        "            outputs = model(inputs)\n",
        "            outputs = outputs.view(-1, outputs.size(-1))\n",
        "            targets = targets.view(-1)\n",
        "            loss = loss_fn(outputs, targets)\n",
        "            perplexity = calculate_perplexity(loss)\n",
        "            loss_eval.update(loss.item(), n=inputs.size(0) * inputs.size(1))\n",
        "            total_perplexity += perplexity.item()\n",
        "            total_batches += 1\n",
        "    avg_perplexity = total_perplexity / total_batches\n",
        "    return loss_eval.avg, avg_perplexity\n"
      ]
    },
    {
      "cell_type": "markdown",
      "metadata": {
        "id": "o_5f69nwPtY2"
      },
      "source": [
        "# 🔴 **Training Process 〽️**"
      ]
    },
    {
      "cell_type": "markdown",
      "metadata": {
        "id": "De7VreNxQdct"
      },
      "source": [
        "## 🟠 Finding Hyper-parameters"
      ]
    },
    {
      "cell_type": "markdown",
      "metadata": {
        "id": "lpJ3wtyctQJH"
      },
      "source": [
        "### 🟡 **Step 1:** Calculate the loss for an untrained model using a few batches.\n"
      ]
    },
    {
      "cell_type": "code",
      "execution_count": null,
      "metadata": {
        "id": "QnE4F4GkzzaR",
        "colab": {
          "base_uri": "https://localhost:8080/"
        },
        "outputId": "1cfa3952-3300-4c69-9b24-2d40a13aa3f6"
      },
      "outputs": [
        {
          "output_type": "stream",
          "name": "stdout",
          "text": [
            "Batch 1 Loss: 9.973410606384277\n",
            "Batch 2 Loss: 9.974967002868652\n",
            "Batch 3 Loss: 9.9739408493042\n",
            "Batch 4 Loss: 9.967658996582031\n",
            "Batch 5 Loss: 9.973105430603027\n",
            "Average Loss over 5 batches: 9.972616577148438\n"
          ]
        }
      ],
      "source": [
        "model = LanguageModel(len(vocab), 128, 256, 2, 0.3).to(device)\n",
        "loss_fn = nn.CrossEntropyLoss()\n",
        "num_batches_to_evaluate = 5\n",
        "loss_meter = AverageMeter()\n",
        "model.eval()\n",
        "with torch.no_grad():\n",
        "    for i, (inputs, targets) in enumerate(train_loader):\n",
        "        if i >= num_batches_to_evaluate:\n",
        "            break\n",
        "        inputs, targets = inputs.to(device), targets.to(device)\n",
        "        outputs = model(inputs)\n",
        "        outputs = outputs.view(-1, outputs.size(-1))\n",
        "        targets = targets.view(-1)\n",
        "        loss = loss_fn(outputs, targets)\n",
        "        loss_meter.update(loss.item(), n=len(targets))\n",
        "\n",
        "        print(f\"Batch {i + 1} Loss: {loss.item()}\")\n",
        "\n",
        "print(f\"Average Loss over {num_batches_to_evaluate} batches: {loss_meter.avg}\")\n"
      ]
    },
    {
      "cell_type": "markdown",
      "metadata": {
        "id": "BrHQCv7q7LF_"
      },
      "source": [
        "### 🟡 **Step 2:** Try to train and overfit the model on a small subset of the dataset."
      ]
    },
    {
      "cell_type": "code",
      "execution_count": null,
      "metadata": {
        "id": "G0ji0MXsWaPt",
        "colab": {
          "base_uri": "https://localhost:8080/"
        },
        "outputId": "661badc6-1122-477b-954a-3168b87f4025"
      },
      "outputs": [
        {
          "output_type": "stream",
          "name": "stdout",
          "text": [
            "Epoch 1/20, Loss: 9.718417882919312\n",
            "Epoch 2/20, Loss: 7.150744795799255\n",
            "Epoch 3/20, Loss: 5.1477885246276855\n",
            "Epoch 4/20, Loss: 4.75295615196228\n",
            "Epoch 5/20, Loss: 4.693075358867645\n",
            "Epoch 6/20, Loss: 4.683764457702637\n",
            "Epoch 7/20, Loss: 4.613815903663635\n",
            "Epoch 8/20, Loss: 4.536386072635651\n",
            "Epoch 9/20, Loss: 4.475802779197693\n",
            "Epoch 10/20, Loss: 4.391890287399292\n",
            "Epoch 11/20, Loss: 4.313010811805725\n",
            "Epoch 12/20, Loss: 4.2164626121521\n",
            "Epoch 13/20, Loss: 4.071696579456329\n",
            "Epoch 14/20, Loss: 3.903798520565033\n",
            "Epoch 15/20, Loss: 3.764596164226532\n",
            "Epoch 16/20, Loss: 3.633313775062561\n",
            "Epoch 17/20, Loss: 3.4901785254478455\n",
            "Epoch 18/20, Loss: 3.379206955432892\n",
            "Epoch 19/20, Loss: 3.286769688129425\n",
            "Epoch 20/20, Loss: 3.1757185459136963\n"
          ]
        }
      ],
      "source": [
        "subset_size = 32\n",
        "small_train_inputs = train_inputs[:subset_size]\n",
        "small_train_targets = train_targets[:subset_size]\n",
        "small_train_dataset = LanguageModelDataset(small_train_inputs, small_train_targets)\n",
        "small_train_loader = DataLoader(small_train_dataset, batch_size=8, shuffle=True)\n",
        "model = LanguageModel(len(vocab), 128, 256, 2, 0.3).to(device)\n",
        "learning_rate = 0.1\n",
        "optimizer = torch.optim.SGD(model.parameters(), lr=learning_rate, momentum=0.9)\n",
        "loss_fn = nn.CrossEntropyLoss()\n",
        "epochs = 20\n",
        "loss_meter = AverageMeter()\n",
        "\n",
        "for epoch in range(epochs):\n",
        "    model.train()\n",
        "    loss_meter.reset()\n",
        "\n",
        "    for inputs, targets in small_train_loader:\n",
        "        inputs, targets = inputs.to(device), targets.to(device)\n",
        "        outputs = model(inputs)\n",
        "        outputs = outputs.view(-1, outputs.size(-1))\n",
        "        targets = targets.view(-1)\n",
        "        loss = loss_fn(outputs, targets)\n",
        "        optimizer.zero_grad()\n",
        "        loss.backward()\n",
        "        optimizer.step()\n",
        "        loss_meter.update(loss.item(), n=len(targets))\n",
        "\n",
        "    print(f\"Epoch {epoch + 1}/{epochs}, Loss: {loss_meter.avg}\")\n",
        "\n",
        "\n"
      ]
    },
    {
      "cell_type": "markdown",
      "metadata": {
        "id": "BLT4w0ZfAhlJ"
      },
      "source": [
        "### 🟡 **Step 3:** Train the model for a limited number of epochs, experimenting with various learning rates."
      ]
    },
    {
      "cell_type": "code",
      "execution_count": null,
      "metadata": {
        "id": "Jxz5DXoj61mg",
        "colab": {
          "base_uri": "https://localhost:8080/"
        },
        "outputId": "1bf1978f-c461-4b25-df5e-3eaea6a1791a"
      },
      "outputs": [
        {
          "output_type": "stream",
          "name": "stdout",
          "text": [
            "Training with Learning Rate: 0.001\n"
          ]
        },
        {
          "output_type": "stream",
          "name": "stderr",
          "text": [
            "100%|██████████| 1148/1148 [00:23<00:00, 48.42batch/s, loss=5.03, perplexity=1.37e+3]\n"
          ]
        },
        {
          "output_type": "stream",
          "name": "stdout",
          "text": [
            "Epoch 1, Loss: 5.0273, Perplexity: 1371.6240\n"
          ]
        },
        {
          "output_type": "stream",
          "name": "stderr",
          "text": [
            "100%|██████████| 1148/1148 [00:23<00:00, 48.65batch/s, loss=4.18, perplexity=87.1]\n"
          ]
        },
        {
          "output_type": "stream",
          "name": "stdout",
          "text": [
            "Epoch 2, Loss: 4.1845, Perplexity: 87.0830\n"
          ]
        },
        {
          "output_type": "stream",
          "name": "stderr",
          "text": [
            "100%|██████████| 1148/1148 [00:23<00:00, 49.03batch/s, loss=3.77, perplexity=54.6]\n"
          ]
        },
        {
          "output_type": "stream",
          "name": "stdout",
          "text": [
            "Epoch 3, Loss: 3.7698, Perplexity: 54.5560\n"
          ]
        },
        {
          "output_type": "stream",
          "name": "stderr",
          "text": [
            "100%|██████████| 1148/1148 [00:24<00:00, 47.70batch/s, loss=3.59, perplexity=44.6]\n"
          ]
        },
        {
          "output_type": "stream",
          "name": "stdout",
          "text": [
            "Epoch 4, Loss: 3.5905, Perplexity: 44.5853\n"
          ]
        },
        {
          "output_type": "stream",
          "name": "stderr",
          "text": [
            "100%|██████████| 1148/1148 [00:23<00:00, 48.82batch/s, loss=3.49, perplexity=40.3]\n"
          ]
        },
        {
          "output_type": "stream",
          "name": "stdout",
          "text": [
            "Epoch 5, Loss: 3.4945, Perplexity: 40.3055\n",
            "Finished training with LR=0.001\n",
            "\n",
            "Training with Learning Rate: 0.01\n"
          ]
        },
        {
          "output_type": "stream",
          "name": "stderr",
          "text": [
            "100%|██████████| 1148/1148 [00:23<00:00, 48.82batch/s, loss=3.82, perplexity=311]\n"
          ]
        },
        {
          "output_type": "stream",
          "name": "stdout",
          "text": [
            "Epoch 1, Loss: 3.8209, Perplexity: 310.5477\n"
          ]
        },
        {
          "output_type": "stream",
          "name": "stderr",
          "text": [
            "100%|██████████| 1148/1148 [00:23<00:00, 48.84batch/s, loss=3.24, perplexity=30.7]\n"
          ]
        },
        {
          "output_type": "stream",
          "name": "stdout",
          "text": [
            "Epoch 2, Loss: 3.2399, Perplexity: 30.6805\n"
          ]
        },
        {
          "output_type": "stream",
          "name": "stderr",
          "text": [
            "100%|██████████| 1148/1148 [00:23<00:00, 48.78batch/s, loss=3.15, perplexity=27.4]\n"
          ]
        },
        {
          "output_type": "stream",
          "name": "stdout",
          "text": [
            "Epoch 3, Loss: 3.1491, Perplexity: 27.4145\n"
          ]
        },
        {
          "output_type": "stream",
          "name": "stderr",
          "text": [
            "100%|██████████| 1148/1148 [00:23<00:00, 48.97batch/s, loss=3.11, perplexity=26.6]\n"
          ]
        },
        {
          "output_type": "stream",
          "name": "stdout",
          "text": [
            "Epoch 4, Loss: 3.1065, Perplexity: 26.5510\n"
          ]
        },
        {
          "output_type": "stream",
          "name": "stderr",
          "text": [
            "100%|██████████| 1148/1148 [00:23<00:00, 48.58batch/s, loss=3.08, perplexity=25.7]\n"
          ]
        },
        {
          "output_type": "stream",
          "name": "stdout",
          "text": [
            "Epoch 5, Loss: 3.0788, Perplexity: 25.7481\n",
            "Finished training with LR=0.01\n",
            "\n",
            "Training with Learning Rate: 0.1\n"
          ]
        },
        {
          "output_type": "stream",
          "name": "stderr",
          "text": [
            "100%|██████████| 1148/1148 [00:23<00:00, 48.66batch/s, loss=3.23, perplexity=111]\n"
          ]
        },
        {
          "output_type": "stream",
          "name": "stdout",
          "text": [
            "Epoch 1, Loss: 3.2327, Perplexity: 111.2496\n"
          ]
        },
        {
          "output_type": "stream",
          "name": "stderr",
          "text": [
            "100%|██████████| 1148/1148 [00:23<00:00, 48.80batch/s, loss=2.92, perplexity=21.6]\n"
          ]
        },
        {
          "output_type": "stream",
          "name": "stdout",
          "text": [
            "Epoch 2, Loss: 2.9190, Perplexity: 21.5887\n"
          ]
        },
        {
          "output_type": "stream",
          "name": "stderr",
          "text": [
            "100%|██████████| 1148/1148 [00:23<00:00, 48.35batch/s, loss=2.85, perplexity=20]\n"
          ]
        },
        {
          "output_type": "stream",
          "name": "stdout",
          "text": [
            "Epoch 3, Loss: 2.8502, Perplexity: 19.9849\n"
          ]
        },
        {
          "output_type": "stream",
          "name": "stderr",
          "text": [
            "100%|██████████| 1148/1148 [00:23<00:00, 48.88batch/s, loss=2.81, perplexity=19.1]\n"
          ]
        },
        {
          "output_type": "stream",
          "name": "stdout",
          "text": [
            "Epoch 4, Loss: 2.8073, Perplexity: 19.1395\n"
          ]
        },
        {
          "output_type": "stream",
          "name": "stderr",
          "text": [
            "100%|██████████| 1148/1148 [00:23<00:00, 49.29batch/s, loss=2.78, perplexity=18.4]"
          ]
        },
        {
          "output_type": "stream",
          "name": "stdout",
          "text": [
            "Epoch 5, Loss: 2.7752, Perplexity: 18.3599\n",
            "Finished training with LR=0.1\n",
            "\n"
          ]
        },
        {
          "output_type": "stream",
          "name": "stderr",
          "text": [
            "\n"
          ]
        }
      ],
      "source": [
        "learning_rates = [0.001, 0.01, 0.1]\n",
        "num_epochs = 5\n",
        "for lr in learning_rates:\n",
        "    print(f\"Training with Learning Rate: {lr}\")\n",
        "    model = LanguageModel(len(vocab), 128, 256, 2, 0.3).to(device)\n",
        "    optimizer = optim.SGD(model.parameters(), lr=lr, weight_decay=1e-4, momentum=0.9)\n",
        "    loss_fn = nn.CrossEntropyLoss()\n",
        "    for epoch in range(1, num_epochs + 1):\n",
        "        model, loss, perplexity = train_one_epoch(\n",
        "            model,\n",
        "            train_loader,\n",
        "            loss_fn,\n",
        "            optimizer,\n",
        "            epoch=epoch,\n",
        "            device=device\n",
        "        )\n",
        "        print(f\"Epoch {epoch}, Loss: {loss:.4f}, Perplexity: {perplexity:.4f}\")\n",
        "\n",
        "    print(f\"Finished training with LR={lr}\\n\")\n"
      ]
    },
    {
      "cell_type": "markdown",
      "metadata": {
        "id": "uC2GhaXfA8vC"
      },
      "source": [
        "### 🟡 Step 4: Create a small grid using the weight decay and the best learning rate.\n",
        "\n",
        "\n",
        "\n"
      ]
    },
    {
      "cell_type": "code",
      "execution_count": null,
      "metadata": {
        "id": "a7UeNW3WWaPu",
        "colab": {
          "base_uri": "https://localhost:8080/"
        },
        "outputId": "c87ce7c2-2a3c-45b8-d99c-f5c568985d16"
      },
      "outputs": [
        {
          "output_type": "stream",
          "name": "stdout",
          "text": [
            "Training with  Weight Decay: 0\n"
          ]
        },
        {
          "output_type": "stream",
          "name": "stderr",
          "text": [
            "100%|██████████| 1148/1148 [00:22<00:00, 51.40batch/s, loss=3.68, perplexity=178]\n"
          ]
        },
        {
          "output_type": "stream",
          "name": "stdout",
          "text": [
            "Epoch 1, Loss: 3.6790, Perplexity: 177.8057\n"
          ]
        },
        {
          "output_type": "stream",
          "name": "stderr",
          "text": [
            "100%|██████████| 1148/1148 [00:22<00:00, 51.85batch/s, loss=3.22, perplexity=29.9]\n"
          ]
        },
        {
          "output_type": "stream",
          "name": "stdout",
          "text": [
            "Epoch 2, Loss: 3.2194, Perplexity: 29.8618\n"
          ]
        },
        {
          "output_type": "stream",
          "name": "stderr",
          "text": [
            "100%|██████████| 1148/1148 [00:22<00:00, 51.28batch/s, loss=3.14, perplexity=28.2]\n"
          ]
        },
        {
          "output_type": "stream",
          "name": "stdout",
          "text": [
            "Epoch 3, Loss: 3.1405, Perplexity: 28.1761\n",
            "Finished training with WD=0\n",
            "\n",
            "Training with  Weight Decay: 0.0001\n"
          ]
        },
        {
          "output_type": "stream",
          "name": "stderr",
          "text": [
            "100%|██████████| 1148/1148 [00:22<00:00, 50.05batch/s, loss=3.67, perplexity=161]\n"
          ]
        },
        {
          "output_type": "stream",
          "name": "stdout",
          "text": [
            "Epoch 1, Loss: 3.6682, Perplexity: 160.6824\n"
          ]
        },
        {
          "output_type": "stream",
          "name": "stderr",
          "text": [
            "100%|██████████| 1148/1148 [00:22<00:00, 50.22batch/s, loss=3.22, perplexity=30.1]\n"
          ]
        },
        {
          "output_type": "stream",
          "name": "stdout",
          "text": [
            "Epoch 2, Loss: 3.2219, Perplexity: 30.1118\n"
          ]
        },
        {
          "output_type": "stream",
          "name": "stderr",
          "text": [
            "100%|██████████| 1148/1148 [00:22<00:00, 50.31batch/s, loss=3.14, perplexity=27.6]\n"
          ]
        },
        {
          "output_type": "stream",
          "name": "stdout",
          "text": [
            "Epoch 3, Loss: 3.1420, Perplexity: 27.5668\n",
            "Finished training with WD=0.0001\n",
            "\n",
            "Training with  Weight Decay: 0.01\n"
          ]
        },
        {
          "output_type": "stream",
          "name": "stderr",
          "text": [
            "100%|██████████| 1148/1148 [00:22<00:00, 50.47batch/s, loss=3.75, perplexity=171]\n"
          ]
        },
        {
          "output_type": "stream",
          "name": "stdout",
          "text": [
            "Epoch 1, Loss: 3.7517, Perplexity: 171.4422\n"
          ]
        },
        {
          "output_type": "stream",
          "name": "stderr",
          "text": [
            "100%|██████████| 1148/1148 [00:22<00:00, 50.22batch/s, loss=3.41, perplexity=36.2]\n"
          ]
        },
        {
          "output_type": "stream",
          "name": "stdout",
          "text": [
            "Epoch 2, Loss: 3.4088, Perplexity: 36.2181\n"
          ]
        },
        {
          "output_type": "stream",
          "name": "stderr",
          "text": [
            "100%|██████████| 1148/1148 [00:22<00:00, 50.35batch/s, loss=3.38, perplexity=34.5]"
          ]
        },
        {
          "output_type": "stream",
          "name": "stdout",
          "text": [
            "Epoch 3, Loss: 3.3758, Perplexity: 34.4827\n",
            "Finished training with WD=0.01\n",
            "\n"
          ]
        },
        {
          "output_type": "stream",
          "name": "stderr",
          "text": [
            "\n"
          ]
        }
      ],
      "source": [
        "learning_rates = 0.1\n",
        "weight_decays = [0, 1e-4, 1e-2]\n",
        "num_epochs = 3\n",
        "\n",
        "\n",
        "for wd in weight_decays:\n",
        "        print(f\"Training with  Weight Decay: {wd}\")\n",
        "        model = LanguageModel(len(vocab), 128, 256, 2, 0.3).to(device)\n",
        "        optimizer = optim.SGD(model.parameters(), lr=lr, weight_decay=wd)\n",
        "        loss_fn = nn.CrossEntropyLoss()\n",
        "        for epoch in range(1, num_epochs + 1):\n",
        "            model, loss, perplexity = train_one_epoch(\n",
        "                model,\n",
        "                train_loader,\n",
        "                loss_fn,\n",
        "                optimizer,\n",
        "                epoch=epoch,\n",
        "                device=device\n",
        "            )\n",
        "            print(f\"Epoch {epoch}, Loss: {loss:.4f}, Perplexity: {perplexity:.4f}\")\n",
        "\n",
        "        print(f\"Finished training with WD={wd}\\n\")\n"
      ]
    },
    {
      "cell_type": "markdown",
      "metadata": {
        "id": "Mjd9Z3N1ef3I"
      },
      "source": [
        "### 🟡 Step 5: Train model for longer epochs using the best model from step 4.\n",
        "\n",
        "\n",
        "\n"
      ]
    },
    {
      "cell_type": "code",
      "source": [
        "model = LanguageModel(len(vocab), 128, 256, 2, 0.3).to(device)"
      ],
      "metadata": {
        "id": "QZMLEmCyiJw2"
      },
      "execution_count": null,
      "outputs": []
    },
    {
      "cell_type": "code",
      "source": [
        "wd=1e-4\n",
        "lr=0.1\n",
        "optimizer = optim.SGD(model.parameters(), lr=lr, weight_decay=wd, momentum=0.9, nesterov=True)"
      ],
      "metadata": {
        "id": "zHDDlJO7iKRE"
      },
      "execution_count": null,
      "outputs": []
    },
    {
      "cell_type": "code",
      "execution_count": null,
      "metadata": {
        "id": "zqxSVVB7JWpW"
      },
      "outputs": [],
      "source": [
        "loss_train_hist = []\n",
        "loss_valid_hist = []\n",
        "\n",
        "perplexity_train_hist = []\n",
        "perplexity_valid_hist = []\n",
        "\n",
        "best_loss_valid = torch.inf\n",
        "epoch_counter = 0"
      ]
    },
    {
      "cell_type": "code",
      "execution_count": null,
      "metadata": {
        "id": "eVqS9SEPJWpW",
        "colab": {
          "base_uri": "https://localhost:8080/"
        },
        "outputId": "9d33ad80-c39f-46e1-c611-e040511ec7f4"
      },
      "outputs": [
        {
          "output_type": "stream",
          "name": "stderr",
          "text": [
            "100%|██████████| 1148/1148 [00:23<00:00, 48.08batch/s, loss=3.22, perplexity=89.7]\n"
          ]
        },
        {
          "output_type": "stream",
          "name": "stdout",
          "text": [
            "Model Saved!\n",
            "Epoch 1 - Train Loss: 3.2157, Valid Loss: 2.9986\n",
            "Train Perplexity: 89.6823, Valid Perplexity: 26.9016\n",
            "\n"
          ]
        },
        {
          "output_type": "stream",
          "name": "stderr",
          "text": [
            "100%|██████████| 1148/1148 [00:23<00:00, 48.35batch/s, loss=2.92, perplexity=21.6]\n"
          ]
        },
        {
          "output_type": "stream",
          "name": "stdout",
          "text": [
            "Model Saved!\n",
            "Epoch 2 - Train Loss: 2.9176, Valid Loss: 2.9042\n",
            "Train Perplexity: 21.5939, Valid Perplexity: 24.0356\n",
            "\n"
          ]
        },
        {
          "output_type": "stream",
          "name": "stderr",
          "text": [
            "100%|██████████| 1148/1148 [00:23<00:00, 48.37batch/s, loss=2.85, perplexity=19.9]\n"
          ]
        },
        {
          "output_type": "stream",
          "name": "stdout",
          "text": [
            "Model Saved!\n",
            "Epoch 3 - Train Loss: 2.8466, Valid Loss: 2.8518\n",
            "Train Perplexity: 19.8509, Valid Perplexity: 22.6619\n",
            "\n"
          ]
        },
        {
          "output_type": "stream",
          "name": "stderr",
          "text": [
            "100%|██████████| 1148/1148 [00:23<00:00, 48.51batch/s, loss=2.8, perplexity=19]\n"
          ]
        },
        {
          "output_type": "stream",
          "name": "stdout",
          "text": [
            "Model Saved!\n",
            "Epoch 4 - Train Loss: 2.8021, Valid Loss: 2.8206\n",
            "Train Perplexity: 19.0193, Valid Perplexity: 21.8296\n",
            "\n"
          ]
        },
        {
          "output_type": "stream",
          "name": "stderr",
          "text": [
            "100%|██████████| 1148/1148 [00:23<00:00, 48.66batch/s, loss=2.77, perplexity=18.4]\n"
          ]
        },
        {
          "output_type": "stream",
          "name": "stdout",
          "text": [
            "Model Saved!\n",
            "Epoch 5 - Train Loss: 2.7707, Valid Loss: 2.7922\n",
            "Train Perplexity: 18.4130, Valid Perplexity: 21.2004\n",
            "\n"
          ]
        },
        {
          "output_type": "stream",
          "name": "stderr",
          "text": [
            "100%|██████████| 1148/1148 [00:23<00:00, 48.77batch/s, loss=2.75, perplexity=17.8]\n"
          ]
        },
        {
          "output_type": "stream",
          "name": "stdout",
          "text": [
            "Model Saved!\n",
            "Epoch 6 - Train Loss: 2.7454, Valid Loss: 2.7758\n",
            "Train Perplexity: 17.7739, Valid Perplexity: 20.6781\n",
            "\n"
          ]
        },
        {
          "output_type": "stream",
          "name": "stderr",
          "text": [
            "100%|██████████| 1148/1148 [00:23<00:00, 48.57batch/s, loss=2.73, perplexity=17.3]\n"
          ]
        },
        {
          "output_type": "stream",
          "name": "stdout",
          "text": [
            "Model Saved!\n",
            "Epoch 7 - Train Loss: 2.7253, Valid Loss: 2.7659\n",
            "Train Perplexity: 17.3464, Valid Perplexity: 20.5091\n",
            "\n"
          ]
        },
        {
          "output_type": "stream",
          "name": "stderr",
          "text": [
            "100%|██████████| 1148/1148 [00:23<00:00, 48.35batch/s, loss=2.71, perplexity=17.1]\n"
          ]
        },
        {
          "output_type": "stream",
          "name": "stdout",
          "text": [
            "Model Saved!\n",
            "Epoch 8 - Train Loss: 2.7081, Valid Loss: 2.7494\n",
            "Train Perplexity: 17.1207, Valid Perplexity: 20.0722\n",
            "\n"
          ]
        },
        {
          "output_type": "stream",
          "name": "stderr",
          "text": [
            "100%|██████████| 1148/1148 [00:23<00:00, 48.01batch/s, loss=2.69, perplexity=16.8]\n"
          ]
        },
        {
          "output_type": "stream",
          "name": "stdout",
          "text": [
            "Model Saved!\n",
            "Epoch 9 - Train Loss: 2.6928, Valid Loss: 2.7453\n",
            "Train Perplexity: 16.7774, Valid Perplexity: 19.9850\n",
            "\n"
          ]
        },
        {
          "output_type": "stream",
          "name": "stderr",
          "text": [
            "100%|██████████| 1148/1148 [00:24<00:00, 46.73batch/s, loss=2.68, perplexity=16.7]\n"
          ]
        },
        {
          "output_type": "stream",
          "name": "stdout",
          "text": [
            "Model Saved!\n",
            "Epoch 10 - Train Loss: 2.6787, Valid Loss: 2.7259\n",
            "Train Perplexity: 16.6718, Valid Perplexity: 19.4573\n",
            "\n"
          ]
        }
      ],
      "source": [
        "num_epochs = 10\n",
        "for epoch in range(1, num_epochs + 1):\n",
        "    model, loss_train, perplexity_train = train_one_epoch(\n",
        "        model,\n",
        "        train_loader,\n",
        "        loss_fn,\n",
        "        optimizer,\n",
        "        epoch=epoch,\n",
        "        device=device\n",
        "    )\n",
        "\n",
        "\n",
        "    loss_valid, perplexity_valid = evaluate(\n",
        "        model,\n",
        "        valid_loader,\n",
        "        loss_fn,\n",
        "        device\n",
        "    )\n",
        "\n",
        "\n",
        "    loss_train_hist.append(loss_train)\n",
        "    loss_valid_hist.append(loss_valid)\n",
        "    perplexity_train_hist.append(perplexity_train)\n",
        "    perplexity_valid_hist.append(perplexity_valid)\n",
        "\n",
        "\n",
        "    if loss_valid < best_loss_valid:\n",
        "        torch.save(model.state_dict(), 'best_model.pt')\n",
        "        best_loss_valid = loss_valid\n",
        "        print(\"Model Saved!\")\n",
        "\n",
        "    print(f\"Epoch {epoch} - Train Loss: {loss_train:.4f}, Valid Loss: {loss_valid:.4f}\")\n",
        "    print(f\"Train Perplexity: {perplexity_train:.4f}, Valid Perplexity: {perplexity_valid:.4f}\\n\")\n",
        "\n",
        "    epoch_counter += 1"
      ]
    },
    {
      "cell_type": "markdown",
      "metadata": {
        "id": "rjGQ-M02cusP"
      },
      "source": [
        "## 🟠 Main Loop"
      ]
    },
    {
      "cell_type": "markdown",
      "metadata": {
        "id": "4AdYaMU4x34g"
      },
      "source": [
        "🔰 Define model."
      ]
    },
    {
      "cell_type": "code",
      "execution_count": null,
      "metadata": {
        "id": "JCtZXDybxexf"
      },
      "outputs": [],
      "source": [
        "model = LanguageModel(len(vocab), 128, 256, 2, 0.3).to(device)"
      ]
    },
    {
      "cell_type": "markdown",
      "metadata": {
        "id": "AUKZRiQPxqrB"
      },
      "source": [
        "🔰 Define optimizer and Set learning rate and weight decay."
      ]
    },
    {
      "cell_type": "code",
      "execution_count": null,
      "metadata": {
        "id": "bowjVB5yIXUP"
      },
      "outputs": [],
      "source": [
        "wd=1e-4\n",
        "lr=0.1\n",
        "optimizer = optim.SGD(model.parameters(), lr=lr, weight_decay=wd, momentum=0.9, nesterov=True)"
      ]
    },
    {
      "cell_type": "markdown",
      "metadata": {
        "id": "AUyFFIzlyaiB"
      },
      "source": [
        "🔰 Write code to train the model for `num_epochs` epoches."
      ]
    },
    {
      "cell_type": "code",
      "execution_count": null,
      "metadata": {
        "id": "CAXagB4yvtZd"
      },
      "outputs": [],
      "source": [
        "loss_train_hist = []\n",
        "loss_valid_hist = []\n",
        "\n",
        "perplexity_train_hist = []\n",
        "perplexity_valid_hist = []\n",
        "\n",
        "best_loss_valid = torch.inf\n",
        "epoch_counter = 0"
      ]
    },
    {
      "cell_type": "code",
      "execution_count": null,
      "metadata": {
        "id": "PovABWnU3ld0",
        "colab": {
          "base_uri": "https://localhost:8080/"
        },
        "outputId": "eceb2594-83f8-4a2f-9a80-37b3d455d9e7"
      },
      "outputs": [
        {
          "output_type": "stream",
          "name": "stderr",
          "text": [
            "100%|██████████| 1148/1148 [00:23<00:00, 48.12batch/s, loss=3.22, perplexity=85.2]\n"
          ]
        },
        {
          "output_type": "stream",
          "name": "stdout",
          "text": [
            "Model Saved!\n",
            "Epoch 1 - Train Loss: 3.2155, Valid Loss: 3.0027\n",
            "Train Perplexity: 85.2028, Valid Perplexity: 27.0365\n",
            "\n"
          ]
        },
        {
          "output_type": "stream",
          "name": "stderr",
          "text": [
            "100%|██████████| 1148/1148 [00:24<00:00, 47.83batch/s, loss=2.91, perplexity=21.6]\n"
          ]
        },
        {
          "output_type": "stream",
          "name": "stdout",
          "text": [
            "Model Saved!\n",
            "Epoch 2 - Train Loss: 2.9148, Valid Loss: 2.9039\n",
            "Train Perplexity: 21.5981, Valid Perplexity: 24.0477\n",
            "\n"
          ]
        },
        {
          "output_type": "stream",
          "name": "stderr",
          "text": [
            "100%|██████████| 1148/1148 [00:23<00:00, 48.60batch/s, loss=2.85, perplexity=19.7]\n"
          ]
        },
        {
          "output_type": "stream",
          "name": "stdout",
          "text": [
            "Model Saved!\n",
            "Epoch 3 - Train Loss: 2.8450, Valid Loss: 2.8563\n",
            "Train Perplexity: 19.7014, Valid Perplexity: 22.7665\n",
            "\n"
          ]
        },
        {
          "output_type": "stream",
          "name": "stderr",
          "text": [
            "100%|██████████| 1148/1148 [00:23<00:00, 48.71batch/s, loss=2.8, perplexity=18.8]\n"
          ]
        },
        {
          "output_type": "stream",
          "name": "stdout",
          "text": [
            "Model Saved!\n",
            "Epoch 4 - Train Loss: 2.8011, Valid Loss: 2.8172\n",
            "Train Perplexity: 18.8348, Valid Perplexity: 21.7350\n",
            "\n"
          ]
        },
        {
          "output_type": "stream",
          "name": "stderr",
          "text": [
            "100%|██████████| 1148/1148 [00:23<00:00, 48.94batch/s, loss=2.77, perplexity=18.4]\n"
          ]
        },
        {
          "output_type": "stream",
          "name": "stdout",
          "text": [
            "Model Saved!\n",
            "Epoch 5 - Train Loss: 2.7702, Valid Loss: 2.7932\n",
            "Train Perplexity: 18.4175, Valid Perplexity: 21.0422\n",
            "\n"
          ]
        },
        {
          "output_type": "stream",
          "name": "stderr",
          "text": [
            "100%|██████████| 1148/1148 [00:23<00:00, 48.57batch/s, loss=2.75, perplexity=17.9]\n"
          ]
        },
        {
          "output_type": "stream",
          "name": "stdout",
          "text": [
            "Model Saved!\n",
            "Epoch 6 - Train Loss: 2.7467, Valid Loss: 2.7731\n",
            "Train Perplexity: 17.9336, Valid Perplexity: 20.5759\n",
            "\n"
          ]
        },
        {
          "output_type": "stream",
          "name": "stderr",
          "text": [
            "100%|██████████| 1148/1148 [00:23<00:00, 47.86batch/s, loss=2.73, perplexity=17.6]\n"
          ]
        },
        {
          "output_type": "stream",
          "name": "stdout",
          "text": [
            "Model Saved!\n",
            "Epoch 7 - Train Loss: 2.7279, Valid Loss: 2.7600\n",
            "Train Perplexity: 17.6242, Valid Perplexity: 20.2705\n",
            "\n"
          ]
        },
        {
          "output_type": "stream",
          "name": "stderr",
          "text": [
            "100%|██████████| 1148/1148 [00:23<00:00, 48.41batch/s, loss=2.71, perplexity=17.4]\n"
          ]
        },
        {
          "output_type": "stream",
          "name": "stdout",
          "text": [
            "Model Saved!\n",
            "Epoch 8 - Train Loss: 2.7118, Valid Loss: 2.7532\n",
            "Train Perplexity: 17.3503, Valid Perplexity: 20.1487\n",
            "\n"
          ]
        },
        {
          "output_type": "stream",
          "name": "stderr",
          "text": [
            "100%|██████████| 1148/1148 [00:23<00:00, 48.55batch/s, loss=2.7, perplexity=17]\n"
          ]
        },
        {
          "output_type": "stream",
          "name": "stdout",
          "text": [
            "Model Saved!\n",
            "Epoch 9 - Train Loss: 2.6975, Valid Loss: 2.7448\n",
            "Train Perplexity: 16.9568, Valid Perplexity: 19.9835\n",
            "\n"
          ]
        },
        {
          "output_type": "stream",
          "name": "stderr",
          "text": [
            "100%|██████████| 1148/1148 [00:23<00:00, 49.03batch/s, loss=2.68, perplexity=16.6]\n"
          ]
        },
        {
          "output_type": "stream",
          "name": "stdout",
          "text": [
            "Model Saved!\n",
            "Epoch 10 - Train Loss: 2.6840, Valid Loss: 2.7280\n",
            "Train Perplexity: 16.5816, Valid Perplexity: 19.5845\n",
            "\n"
          ]
        },
        {
          "output_type": "stream",
          "name": "stderr",
          "text": [
            "100%|██████████| 1148/1148 [00:23<00:00, 48.30batch/s, loss=2.67, perplexity=16.5]\n"
          ]
        },
        {
          "output_type": "stream",
          "name": "stdout",
          "text": [
            "Model Saved!\n",
            "Epoch 11 - Train Loss: 2.6712, Valid Loss: 2.7230\n",
            "Train Perplexity: 16.4543, Valid Perplexity: 19.5222\n",
            "\n"
          ]
        },
        {
          "output_type": "stream",
          "name": "stderr",
          "text": [
            "100%|██████████| 1148/1148 [00:23<00:00, 48.49batch/s, loss=2.66, perplexity=16.2]\n"
          ]
        },
        {
          "output_type": "stream",
          "name": "stdout",
          "text": [
            "Model Saved!\n",
            "Epoch 12 - Train Loss: 2.6580, Valid Loss: 2.7110\n",
            "Train Perplexity: 16.1799, Valid Perplexity: 19.1569\n",
            "\n"
          ]
        },
        {
          "output_type": "stream",
          "name": "stderr",
          "text": [
            "100%|██████████| 1148/1148 [00:23<00:00, 48.61batch/s, loss=2.65, perplexity=15.9]\n"
          ]
        },
        {
          "output_type": "stream",
          "name": "stdout",
          "text": [
            "Model Saved!\n",
            "Epoch 13 - Train Loss: 2.6453, Valid Loss: 2.7050\n",
            "Train Perplexity: 15.8886, Valid Perplexity: 19.0680\n",
            "\n"
          ]
        },
        {
          "output_type": "stream",
          "name": "stderr",
          "text": [
            "100%|██████████| 1148/1148 [00:23<00:00, 48.76batch/s, loss=2.63, perplexity=15.7]\n"
          ]
        },
        {
          "output_type": "stream",
          "name": "stdout",
          "text": [
            "Model Saved!\n",
            "Epoch 14 - Train Loss: 2.6325, Valid Loss: 2.6900\n",
            "Train Perplexity: 15.7263, Valid Perplexity: 18.7429\n",
            "\n"
          ]
        },
        {
          "output_type": "stream",
          "name": "stderr",
          "text": [
            "100%|██████████| 1148/1148 [00:23<00:00, 48.61batch/s, loss=2.62, perplexity=15.5]\n"
          ]
        },
        {
          "output_type": "stream",
          "name": "stdout",
          "text": [
            "Model Saved!\n",
            "Epoch 15 - Train Loss: 2.6195, Valid Loss: 2.6802\n",
            "Train Perplexity: 15.5347, Valid Perplexity: 18.4765\n",
            "\n"
          ]
        },
        {
          "output_type": "stream",
          "name": "stderr",
          "text": [
            "100%|██████████| 1148/1148 [00:23<00:00, 48.54batch/s, loss=2.61, perplexity=15.3]\n"
          ]
        },
        {
          "output_type": "stream",
          "name": "stdout",
          "text": [
            "Model Saved!\n",
            "Epoch 16 - Train Loss: 2.6070, Valid Loss: 2.6769\n",
            "Train Perplexity: 15.2688, Valid Perplexity: 18.4632\n",
            "\n"
          ]
        },
        {
          "output_type": "stream",
          "name": "stderr",
          "text": [
            "100%|██████████| 1148/1148 [00:23<00:00, 48.68batch/s, loss=2.59, perplexity=15.1]\n"
          ]
        },
        {
          "output_type": "stream",
          "name": "stdout",
          "text": [
            "Model Saved!\n",
            "Epoch 17 - Train Loss: 2.5946, Valid Loss: 2.6603\n",
            "Train Perplexity: 15.1376, Valid Perplexity: 18.1286\n",
            "\n"
          ]
        },
        {
          "output_type": "stream",
          "name": "stderr",
          "text": [
            "100%|██████████| 1148/1148 [00:23<00:00, 48.75batch/s, loss=2.59, perplexity=14.8]\n"
          ]
        },
        {
          "output_type": "stream",
          "name": "stdout",
          "text": [
            "Model Saved!\n",
            "Epoch 18 - Train Loss: 2.5867, Valid Loss: 2.6565\n",
            "Train Perplexity: 14.8493, Valid Perplexity: 18.0598\n",
            "\n"
          ]
        },
        {
          "output_type": "stream",
          "name": "stderr",
          "text": [
            "100%|██████████| 1148/1148 [00:24<00:00, 47.79batch/s, loss=2.57, perplexity=14.7]\n"
          ]
        },
        {
          "output_type": "stream",
          "name": "stdout",
          "text": [
            "Model Saved!\n",
            "Epoch 19 - Train Loss: 2.5722, Valid Loss: 2.6428\n",
            "Train Perplexity: 14.7190, Valid Perplexity: 17.7952\n",
            "\n"
          ]
        },
        {
          "output_type": "stream",
          "name": "stderr",
          "text": [
            "100%|██████████| 1148/1148 [00:23<00:00, 48.20batch/s, loss=2.56, perplexity=14.6]\n"
          ]
        },
        {
          "output_type": "stream",
          "name": "stdout",
          "text": [
            "Model Saved!\n",
            "Epoch 20 - Train Loss: 2.5599, Valid Loss: 2.6426\n",
            "Train Perplexity: 14.5743, Valid Perplexity: 17.7651\n",
            "\n"
          ]
        },
        {
          "output_type": "stream",
          "name": "stderr",
          "text": [
            "100%|██████████| 1148/1148 [00:23<00:00, 48.39batch/s, loss=2.55, perplexity=14.4]\n"
          ]
        },
        {
          "output_type": "stream",
          "name": "stdout",
          "text": [
            "Model Saved!\n",
            "Epoch 21 - Train Loss: 2.5483, Valid Loss: 2.6305\n",
            "Train Perplexity: 14.3982, Valid Perplexity: 17.5201\n",
            "\n"
          ]
        },
        {
          "output_type": "stream",
          "name": "stderr",
          "text": [
            "100%|██████████| 1148/1148 [00:23<00:00, 48.70batch/s, loss=2.54, perplexity=14.2]\n"
          ]
        },
        {
          "output_type": "stream",
          "name": "stdout",
          "text": [
            "Model Saved!\n",
            "Epoch 22 - Train Loss: 2.5375, Valid Loss: 2.6260\n",
            "Train Perplexity: 14.1912, Valid Perplexity: 17.3774\n",
            "\n"
          ]
        },
        {
          "output_type": "stream",
          "name": "stderr",
          "text": [
            "100%|██████████| 1148/1148 [00:23<00:00, 48.54batch/s, loss=2.53, perplexity=14.1]\n"
          ]
        },
        {
          "output_type": "stream",
          "name": "stdout",
          "text": [
            "Model Saved!\n",
            "Epoch 23 - Train Loss: 2.5277, Valid Loss: 2.6220\n",
            "Train Perplexity: 14.0847, Valid Perplexity: 17.2906\n",
            "\n"
          ]
        },
        {
          "output_type": "stream",
          "name": "stderr",
          "text": [
            "100%|██████████| 1148/1148 [00:23<00:00, 47.98batch/s, loss=2.52, perplexity=13.9]\n"
          ]
        },
        {
          "output_type": "stream",
          "name": "stdout",
          "text": [
            "Model Saved!\n",
            "Epoch 24 - Train Loss: 2.5165, Valid Loss: 2.6200\n",
            "Train Perplexity: 13.8750, Valid Perplexity: 17.3014\n",
            "\n"
          ]
        },
        {
          "output_type": "stream",
          "name": "stderr",
          "text": [
            "100%|██████████| 1148/1148 [00:23<00:00, 48.29batch/s, loss=2.51, perplexity=13.7]\n"
          ]
        },
        {
          "output_type": "stream",
          "name": "stdout",
          "text": [
            "Model Saved!\n",
            "Epoch 25 - Train Loss: 2.5067, Valid Loss: 2.6138\n",
            "Train Perplexity: 13.6725, Valid Perplexity: 17.1788\n",
            "\n"
          ]
        },
        {
          "output_type": "stream",
          "name": "stderr",
          "text": [
            "100%|██████████| 1148/1148 [00:23<00:00, 48.81batch/s, loss=2.5, perplexity=13.7]\n"
          ]
        },
        {
          "output_type": "stream",
          "name": "stdout",
          "text": [
            "Model Saved!\n",
            "Epoch 26 - Train Loss: 2.4969, Valid Loss: 2.6056\n",
            "Train Perplexity: 13.6511, Valid Perplexity: 16.9984\n",
            "\n"
          ]
        },
        {
          "output_type": "stream",
          "name": "stderr",
          "text": [
            "100%|██████████| 1148/1148 [00:23<00:00, 48.61batch/s, loss=2.49, perplexity=13.6]\n"
          ]
        },
        {
          "output_type": "stream",
          "name": "stdout",
          "text": [
            "Model Saved!\n",
            "Epoch 27 - Train Loss: 2.4891, Valid Loss: 2.5964\n",
            "Train Perplexity: 13.5896, Valid Perplexity: 16.8170\n",
            "\n"
          ]
        },
        {
          "output_type": "stream",
          "name": "stderr",
          "text": [
            "100%|██████████| 1148/1148 [00:23<00:00, 48.51batch/s, loss=2.48, perplexity=13.3]\n"
          ]
        },
        {
          "output_type": "stream",
          "name": "stdout",
          "text": [
            "Epoch 28 - Train Loss: 2.4803, Valid Loss: 2.5970\n",
            "Train Perplexity: 13.2534, Valid Perplexity: 16.8554\n",
            "\n"
          ]
        },
        {
          "output_type": "stream",
          "name": "stderr",
          "text": [
            "100%|██████████| 1148/1148 [00:23<00:00, 48.44batch/s, loss=2.47, perplexity=13.2]\n"
          ]
        },
        {
          "output_type": "stream",
          "name": "stdout",
          "text": [
            "Model Saved!\n",
            "Epoch 29 - Train Loss: 2.4725, Valid Loss: 2.5804\n",
            "Train Perplexity: 13.2231, Valid Perplexity: 16.5176\n",
            "\n"
          ]
        },
        {
          "output_type": "stream",
          "name": "stderr",
          "text": [
            "100%|██████████| 1148/1148 [00:25<00:00, 45.55batch/s, loss=2.46, perplexity=13.1]\n"
          ]
        },
        {
          "output_type": "stream",
          "name": "stdout",
          "text": [
            "Epoch 30 - Train Loss: 2.4649, Valid Loss: 2.5826\n",
            "Train Perplexity: 13.0887, Valid Perplexity: 16.5492\n",
            "\n"
          ]
        }
      ],
      "source": [
        "num_epochs = 30\n",
        "for epoch in range(1, num_epochs + 1):\n",
        "    model, loss_train, perplexity_train = train_one_epoch(\n",
        "        model,\n",
        "        train_loader,\n",
        "        loss_fn,\n",
        "        optimizer,\n",
        "        epoch=epoch,\n",
        "        device=device\n",
        "    )\n",
        "\n",
        "\n",
        "    loss_valid, perplexity_valid = evaluate(\n",
        "        model,\n",
        "        valid_loader,\n",
        "        loss_fn,\n",
        "        device\n",
        "    )\n",
        "\n",
        "\n",
        "    loss_train_hist.append(loss_train)\n",
        "    loss_valid_hist.append(loss_valid)\n",
        "    perplexity_train_hist.append(perplexity_train)\n",
        "    perplexity_valid_hist.append(perplexity_valid)\n",
        "\n",
        "\n",
        "    if loss_valid < best_loss_valid:\n",
        "        torch.save(model.state_dict(), 'final_best_model.pt')\n",
        "        best_loss_valid = loss_valid\n",
        "        print(\"Model Saved!\")\n",
        "\n",
        "    print(f\"Epoch {epoch} - Train Loss: {loss_train:.4f}, Valid Loss: {loss_valid:.4f}\")\n",
        "    print(f\"Train Perplexity: {perplexity_train:.4f}, Valid Perplexity: {perplexity_valid:.4f}\\n\")\n",
        "\n",
        "    epoch_counter += 1"
      ]
    },
    {
      "cell_type": "markdown",
      "metadata": {
        "id": "oK20iNRI3Xxb"
      },
      "source": [
        "## 🟠 Plot"
      ]
    },
    {
      "cell_type": "markdown",
      "metadata": {
        "id": "IKlLvCwuzEAA"
      },
      "source": [
        "🔰 Plot learning curves"
      ]
    },
    {
      "cell_type": "code",
      "execution_count": null,
      "metadata": {
        "id": "KYFzTsdIOkVp",
        "colab": {
          "base_uri": "https://localhost:8080/",
          "height": 581
        },
        "outputId": "b4111179-e738-40a9-ca42-60c605540a2f"
      },
      "outputs": [
        {
          "output_type": "execute_result",
          "data": {
            "text/plain": [
              "<matplotlib.legend.Legend at 0x7c8acf9ef3a0>"
            ]
          },
          "metadata": {},
          "execution_count": 55
        },
        {
          "output_type": "display_data",
          "data": {
            "text/plain": [
              "<Figure size 800x600 with 1 Axes>"
            ],
            "image/png": "[encoded data removed]"
          },
          "metadata": {}
        }
      ],
      "source": [
        "plt.figure(figsize=(8, 6))\n",
        "plt.title('Loss')\n",
        "plt.plot(range(epoch_counter), loss_train_hist, 'r-', label='Train')\n",
        "plt.plot(range(epoch_counter), loss_valid_hist, 'b-', label='Validation')\n",
        "\n",
        "plt.xlabel('Epoch')\n",
        "plt.ylabel('loss')\n",
        "plt.grid(True)\n",
        "plt.legend()"
      ]
    },
    {
      "cell_type": "code",
      "source": [
        "plt.figure(figsize=(8, 6))\n",
        "plt.title('Perplexity')\n",
        "plt.plot(range(epoch_counter), perplexity_train_hist, 'r-', label='Train')\n",
        "plt.plot(range(epoch_counter), perplexity_valid_hist, 'b-', label='Validation')\n",
        "\n",
        "plt.xlabel('Epoch')\n",
        "plt.ylabel('loss')\n",
        "plt.grid(True)\n",
        "plt.legend()"
      ],
      "metadata": {
        "colab": {
          "base_uri": "https://localhost:8080/",
          "height": 581
        },
        "id": "jQwZ-6vfnYn-",
        "outputId": "91409a39-da9b-4e2d-9eb4-a26b2959e334"
      },
      "execution_count": null,
      "outputs": [
        {
          "output_type": "execute_result",
          "data": {
            "text/plain": [
              "<matplotlib.legend.Legend at 0x7c8accd28400>"
            ]
          },
          "metadata": {},
          "execution_count": 54
        },
        {
          "output_type": "display_data",
          "data": {
            "text/plain": [
              "<Figure size 800x600 with 1 Axes>"
            ],
            "image/png": "[encoded data removed]"
          },
          "metadata": {}
        }
      ]
    },
    {
      "cell_type": "markdown",
      "metadata": {
        "id": "KZ9UIdmkfxlA"
      },
      "source": [
        "# 🔴 **Test**"
      ]
    },
    {
      "cell_type": "markdown",
      "metadata": {
        "id": "SO8iPWH1zVYn"
      },
      "source": [
        "🔰 Test your model using data from the test set"
      ]
    },
    {
      "cell_type": "code",
      "execution_count": null,
      "metadata": {
        "id": "35sn67IhKcm_",
        "colab": {
          "base_uri": "https://localhost:8080/"
        },
        "outputId": "b243ead2-265c-4c2b-c76e-48a1a3461cae"
      },
      "outputs": [
        {
          "output_type": "stream",
          "name": "stdout",
          "text": [
            "Test Loss: 2.5006\n",
            "Test Perplexity: 16.2833\n"
          ]
        }
      ],
      "source": [
        "\n",
        "test_loss, test_perplexity = evaluate(model, test_loader, loss_fn, device)\n",
        "\n",
        "print(f\"Test Loss: {test_loss:.4f}\")\n",
        "print(f\"Test Perplexity: {test_perplexity:.4f}\")\n"
      ]
    },
    {
      "cell_type": "markdown",
      "metadata": {
        "id": "FzcQQwFuar_7"
      },
      "source": [
        "# 🔴 **Generate**"
      ]
    },
    {
      "cell_type": "markdown",
      "metadata": {
        "id": "jh2_9jUp0GF4"
      },
      "source": [
        "🔰 Your mission is to write a `generate` function and use a desired sentence to evaluate the model"
      ]
    },
    {
      "cell_type": "code",
      "execution_count": null,
      "metadata": {
        "id": "pskvb--R-wJ0"
      },
      "outputs": [],
      "source": [
        "model = LanguageModel(len(vocab), 128, 256, 2, 0.3)\n",
        "model_path = 'final_best_model.pt'\n",
        "state_dict = torch.load(model_path)\n",
        "model.load_state_dict(state_dict)\n",
        "model.eval()"
      ]
    },
    {
      "cell_type": "code",
      "execution_count": null,
      "metadata": {
        "id": "f5SvSDLal8YB"
      },
      "outputs": [],
      "source": [
        "def generate(prompt, max_seq_len, temperature, model, tokenizer, vocab):\n",
        "\n",
        "    tokens = tokenizer(prompt)\n",
        "    tokens = [vocab[token] for token in tokens]\n",
        "    tokens = torch.tensor(tokens).unsqueeze(0)\n",
        "    model.eval()\n",
        "\n",
        "    generated = tokens.squeeze(0).tolist()\n",
        "\n",
        "    for _ in range(max_seq_len):\n",
        "        outputs = model(tokens)\n",
        "        last_output = outputs[:, -1, :]\n",
        "        last_output /= temperature\n",
        "        probabilities = F.softmax(last_output, dim=-1)\n",
        "        next_token = torch.multinomial(probabilities, 1).item()\n",
        "        generated.append(next_token)\n",
        "        tokens = torch.cat([tokens, torch.tensor([[next_token]])], dim=1)\n",
        "    generated_text = decode_tokens(torch.tensor(generated), vocab)\n",
        "\n",
        "    return generated_text\n",
        "\n",
        "def decode_tokens(tokens, vocab, remove_special_tokens=True):\n",
        "    words = [vocab.get_itos()[token.item()] for token in tokens]\n",
        "    if remove_special_tokens:\n",
        "        words = [word for word in words if word not in ['<unk>', '<pad>', '<bos>', '<eos>']]\n",
        "\n",
        "    return \" \".join(words)\n",
        "\n"
      ]
    },
    {
      "cell_type": "code",
      "execution_count": null,
      "metadata": {
        "id": "pVedneOVD6ul",
        "colab": {
          "base_uri": "https://localhost:8080/"
        },
        "outputId": "7e423694-235b-4006-ccf5-cf39fd9afec9"
      },
      "outputs": [
        {
          "output_type": "stream",
          "name": "stdout",
          "text": [
            "artificial intelligence is a new challenge and it is one of the major challenges in the field of\n"
          ]
        }
      ],
      "source": [
        "prompt = \"Artificial intelligence is\"\n",
        "max_seq_len = 15\n",
        "temperature = 0.8\n",
        "\n",
        "generated_text = generate(\n",
        "    prompt=prompt,\n",
        "    max_seq_len=max_seq_len,\n",
        "    temperature=temperature,\n",
        "    model=model,\n",
        "    tokenizer=tokenizer,\n",
        "    device=device\n",
        ")\n",
        "print((generated_text).lower())"
      ]
    }
  ],
  "metadata": {
    "colab": {
      "collapsed_sections": [
        "B29jrEvwRqXA",
        "A3rnR739GbYb",
        "a4HyLPqcsF43",
        "idRexFij4wgN",
        "PgLgP04P4-aX",
        "3ttl0AK3Hvyh",
        "24qT-sgUO2-d",
        "W0QNbC0YPCKZ",
        "G9HgVWslPGsH",
        "o_5f69nwPtY2",
        "De7VreNxQdct",
        "lpJ3wtyctQJH",
        "BrHQCv7q7LF_",
        "BLT4w0ZfAhlJ",
        "uC2GhaXfA8vC",
        "Mjd9Z3N1ef3I",
        "rjGQ-M02cusP",
        "oK20iNRI3Xxb",
        "KZ9UIdmkfxlA",
        "FzcQQwFuar_7"
      ],
      "provenance": [],
      "gpuType": "T4",
      "include_colab_link": true
    },
    "kernelspec": {
      "display_name": "Python 3",
      "name": "python3"
    },
    "language_info": {
      "codemirror_mode": {
        "name": "ipython",
        "version": 3
      },
      "file_extension": ".py",
      "mimetype": "text/x-python",
      "name": "python",
      "nbconvert_exporter": "python",
      "pygments_lexer": "ipython3",
      "version": "3.12.4"
    },
    "accelerator": "GPU"
  },
  "nbformat": 4,
  "nbformat_minor": 0
}