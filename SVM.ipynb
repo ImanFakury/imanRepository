{
  "cells": [
    {
      "cell_type": "markdown",
      "metadata": {
        "id": "view-in-github",
        "colab_type": "text"
      },
      "source": [
        "<a href=\"https://colab.research.google.com/github/ImanFakury/imanRepository/blob/master/SVM.ipynb\" target=\"_parent\"><img src=\"https://colab.research.google.com/assets/colab-badge.svg\" alt=\"Open In Colab\"/></a>"
      ]
    },
    {
      "cell_type": "markdown",
      "metadata": {
        "id": "R5RzSV-B5UVu"
      },
      "source": [
        "### Full Name : Iman Alizadeh Fakouri\n",
        "### Student Number : 401102134\n"
      ]
    },
    {
      "cell_type": "markdown",
      "metadata": {
        "id": "gWQ8S5YK5UVv"
      },
      "source": [
        "# Support Vector Machines (SVM)"
      ]
    },
    {
      "cell_type": "code",
      "execution_count": null,
      "metadata": {
        "id": "xwj5rFjV5UVv"
      },
      "outputs": [],
      "source": [
        "import numpy as np\n",
        "import pandas as pd\n",
        "import matplotlib.pyplot as plt\n",
        "import seaborn as sns\n",
        "from sklearn.svm import SVC"
      ]
    },
    {
      "cell_type": "markdown",
      "metadata": {
        "id": "f99eDEz45UVw"
      },
      "source": [
        "## Goal\n",
        "In this assignment, we are going to implement Support Vector Machines (SVM) algorithm that determines which patient is in danger and which is not."
      ]
    },
    {
      "cell_type": "code",
      "execution_count": null,
      "metadata": {
        "id": "O8zN7ZZ-5UVw",
        "outputId": "ddea16e3-d54c-4e54-d510-a709b0f1f4a4"
      },
      "outputs": [
        {
          "data": {
            "text/html": [
              "<div>\n",
              "<style scoped>\n",
              "    .dataframe tbody tr th:only-of-type {\n",
              "        vertical-align: middle;\n",
              "    }\n",
              "\n",
              "    .dataframe tbody tr th {\n",
              "        vertical-align: top;\n",
              "    }\n",
              "\n",
              "    .dataframe thead th {\n",
              "        text-align: right;\n",
              "    }\n",
              "</style>\n",
              "<table border=\"1\" class=\"dataframe\">\n",
              "  <thead>\n",
              "    <tr style=\"text-align: right;\">\n",
              "      <th></th>\n",
              "      <th>Age</th>\n",
              "      <th>Gender</th>\n",
              "      <th>Total_Bilirubin</th>\n",
              "      <th>Direct_Bilirubin</th>\n",
              "      <th>Alkaline_Phosphotase</th>\n",
              "      <th>Alamine_Aminotransferase</th>\n",
              "      <th>Aspartate_Aminotransferase</th>\n",
              "      <th>Total_Protiens</th>\n",
              "      <th>Albumin</th>\n",
              "      <th>Albumin_and_Globulin_Ratio</th>\n",
              "      <th>label</th>\n",
              "    </tr>\n",
              "  </thead>\n",
              "  <tbody>\n",
              "    <tr>\n",
              "      <th>0</th>\n",
              "      <td>65</td>\n",
              "      <td>Female</td>\n",
              "      <td>0.7</td>\n",
              "      <td>0.1</td>\n",
              "      <td>187</td>\n",
              "      <td>16</td>\n",
              "      <td>18</td>\n",
              "      <td>6.8</td>\n",
              "      <td>3.3</td>\n",
              "      <td>0.90</td>\n",
              "      <td>1</td>\n",
              "    </tr>\n",
              "    <tr>\n",
              "      <th>1</th>\n",
              "      <td>62</td>\n",
              "      <td>Male</td>\n",
              "      <td>10.9</td>\n",
              "      <td>5.5</td>\n",
              "      <td>699</td>\n",
              "      <td>64</td>\n",
              "      <td>100</td>\n",
              "      <td>7.5</td>\n",
              "      <td>3.2</td>\n",
              "      <td>0.74</td>\n",
              "      <td>1</td>\n",
              "    </tr>\n",
              "    <tr>\n",
              "      <th>2</th>\n",
              "      <td>62</td>\n",
              "      <td>Male</td>\n",
              "      <td>7.3</td>\n",
              "      <td>4.1</td>\n",
              "      <td>490</td>\n",
              "      <td>60</td>\n",
              "      <td>68</td>\n",
              "      <td>7.0</td>\n",
              "      <td>3.3</td>\n",
              "      <td>0.89</td>\n",
              "      <td>1</td>\n",
              "    </tr>\n",
              "    <tr>\n",
              "      <th>3</th>\n",
              "      <td>58</td>\n",
              "      <td>Male</td>\n",
              "      <td>1.0</td>\n",
              "      <td>0.4</td>\n",
              "      <td>182</td>\n",
              "      <td>14</td>\n",
              "      <td>20</td>\n",
              "      <td>6.8</td>\n",
              "      <td>3.4</td>\n",
              "      <td>1.00</td>\n",
              "      <td>1</td>\n",
              "    </tr>\n",
              "    <tr>\n",
              "      <th>4</th>\n",
              "      <td>72</td>\n",
              "      <td>Male</td>\n",
              "      <td>3.9</td>\n",
              "      <td>2.0</td>\n",
              "      <td>195</td>\n",
              "      <td>27</td>\n",
              "      <td>59</td>\n",
              "      <td>7.3</td>\n",
              "      <td>2.4</td>\n",
              "      <td>0.40</td>\n",
              "      <td>1</td>\n",
              "    </tr>\n",
              "    <tr>\n",
              "      <th>...</th>\n",
              "      <td>...</td>\n",
              "      <td>...</td>\n",
              "      <td>...</td>\n",
              "      <td>...</td>\n",
              "      <td>...</td>\n",
              "      <td>...</td>\n",
              "      <td>...</td>\n",
              "      <td>...</td>\n",
              "      <td>...</td>\n",
              "      <td>...</td>\n",
              "      <td>...</td>\n",
              "    </tr>\n",
              "    <tr>\n",
              "      <th>578</th>\n",
              "      <td>60</td>\n",
              "      <td>Male</td>\n",
              "      <td>0.5</td>\n",
              "      <td>0.1</td>\n",
              "      <td>500</td>\n",
              "      <td>20</td>\n",
              "      <td>34</td>\n",
              "      <td>5.9</td>\n",
              "      <td>1.6</td>\n",
              "      <td>0.37</td>\n",
              "      <td>2</td>\n",
              "    </tr>\n",
              "    <tr>\n",
              "      <th>579</th>\n",
              "      <td>40</td>\n",
              "      <td>Male</td>\n",
              "      <td>0.6</td>\n",
              "      <td>0.1</td>\n",
              "      <td>98</td>\n",
              "      <td>35</td>\n",
              "      <td>31</td>\n",
              "      <td>6.0</td>\n",
              "      <td>3.2</td>\n",
              "      <td>1.10</td>\n",
              "      <td>1</td>\n",
              "    </tr>\n",
              "    <tr>\n",
              "      <th>580</th>\n",
              "      <td>52</td>\n",
              "      <td>Male</td>\n",
              "      <td>0.8</td>\n",
              "      <td>0.2</td>\n",
              "      <td>245</td>\n",
              "      <td>48</td>\n",
              "      <td>49</td>\n",
              "      <td>6.4</td>\n",
              "      <td>3.2</td>\n",
              "      <td>1.00</td>\n",
              "      <td>1</td>\n",
              "    </tr>\n",
              "    <tr>\n",
              "      <th>581</th>\n",
              "      <td>31</td>\n",
              "      <td>Male</td>\n",
              "      <td>1.3</td>\n",
              "      <td>0.5</td>\n",
              "      <td>184</td>\n",
              "      <td>29</td>\n",
              "      <td>32</td>\n",
              "      <td>6.8</td>\n",
              "      <td>3.4</td>\n",
              "      <td>1.00</td>\n",
              "      <td>1</td>\n",
              "    </tr>\n",
              "    <tr>\n",
              "      <th>582</th>\n",
              "      <td>38</td>\n",
              "      <td>Male</td>\n",
              "      <td>1.0</td>\n",
              "      <td>0.3</td>\n",
              "      <td>216</td>\n",
              "      <td>21</td>\n",
              "      <td>24</td>\n",
              "      <td>7.3</td>\n",
              "      <td>4.4</td>\n",
              "      <td>1.50</td>\n",
              "      <td>2</td>\n",
              "    </tr>\n",
              "  </tbody>\n",
              "</table>\n",
              "<p>583 rows × 11 columns</p>\n",
              "</div>"
            ],
            "text/plain": [
              "     Age  Gender  Total_Bilirubin  Direct_Bilirubin  Alkaline_Phosphotase  \\\n",
              "0     65  Female              0.7               0.1                   187   \n",
              "1     62    Male             10.9               5.5                   699   \n",
              "2     62    Male              7.3               4.1                   490   \n",
              "3     58    Male              1.0               0.4                   182   \n",
              "4     72    Male              3.9               2.0                   195   \n",
              "..   ...     ...              ...               ...                   ...   \n",
              "578   60    Male              0.5               0.1                   500   \n",
              "579   40    Male              0.6               0.1                    98   \n",
              "580   52    Male              0.8               0.2                   245   \n",
              "581   31    Male              1.3               0.5                   184   \n",
              "582   38    Male              1.0               0.3                   216   \n",
              "\n",
              "     Alamine_Aminotransferase  Aspartate_Aminotransferase  Total_Protiens  \\\n",
              "0                          16                          18             6.8   \n",
              "1                          64                         100             7.5   \n",
              "2                          60                          68             7.0   \n",
              "3                          14                          20             6.8   \n",
              "4                          27                          59             7.3   \n",
              "..                        ...                         ...             ...   \n",
              "578                        20                          34             5.9   \n",
              "579                        35                          31             6.0   \n",
              "580                        48                          49             6.4   \n",
              "581                        29                          32             6.8   \n",
              "582                        21                          24             7.3   \n",
              "\n",
              "     Albumin  Albumin_and_Globulin_Ratio  label  \n",
              "0        3.3                        0.90      1  \n",
              "1        3.2                        0.74      1  \n",
              "2        3.3                        0.89      1  \n",
              "3        3.4                        1.00      1  \n",
              "4        2.4                        0.40      1  \n",
              "..       ...                         ...    ...  \n",
              "578      1.6                        0.37      2  \n",
              "579      3.2                        1.10      1  \n",
              "580      3.2                        1.00      1  \n",
              "581      3.4                        1.00      1  \n",
              "582      4.4                        1.50      2  \n",
              "\n",
              "[583 rows x 11 columns]"
            ]
          },
          "execution_count": 141,
          "metadata": {},
          "output_type": "execute_result"
        }
      ],
      "source": [
        "df = pd.read_csv(\"Liver_Disease.csv\")\n",
        "df"
      ]
    },
    {
      "cell_type": "code",
      "execution_count": null,
      "metadata": {
        "id": "AHAmddOT5UVw",
        "outputId": "3e7f711c-dd1f-4817-dac4-5f5f6a7b285a"
      },
      "outputs": [
        {
          "data": {
            "text/html": [
              "<div>\n",
              "<style scoped>\n",
              "    .dataframe tbody tr th:only-of-type {\n",
              "        vertical-align: middle;\n",
              "    }\n",
              "\n",
              "    .dataframe tbody tr th {\n",
              "        vertical-align: top;\n",
              "    }\n",
              "\n",
              "    .dataframe thead th {\n",
              "        text-align: right;\n",
              "    }\n",
              "</style>\n",
              "<table border=\"1\" class=\"dataframe\">\n",
              "  <thead>\n",
              "    <tr style=\"text-align: right;\">\n",
              "      <th></th>\n",
              "      <th>Age</th>\n",
              "      <th>Total_Bilirubin</th>\n",
              "      <th>Direct_Bilirubin</th>\n",
              "      <th>Alkaline_Phosphotase</th>\n",
              "      <th>Alamine_Aminotransferase</th>\n",
              "      <th>Aspartate_Aminotransferase</th>\n",
              "      <th>Total_Protiens</th>\n",
              "      <th>Albumin</th>\n",
              "      <th>Albumin_and_Globulin_Ratio</th>\n",
              "      <th>label</th>\n",
              "    </tr>\n",
              "  </thead>\n",
              "  <tbody>\n",
              "    <tr>\n",
              "      <th>count</th>\n",
              "      <td>583.000000</td>\n",
              "      <td>583.000000</td>\n",
              "      <td>583.000000</td>\n",
              "      <td>583.000000</td>\n",
              "      <td>583.000000</td>\n",
              "      <td>583.000000</td>\n",
              "      <td>583.000000</td>\n",
              "      <td>583.000000</td>\n",
              "      <td>579.000000</td>\n",
              "      <td>583.000000</td>\n",
              "    </tr>\n",
              "    <tr>\n",
              "      <th>mean</th>\n",
              "      <td>44.746141</td>\n",
              "      <td>3.298799</td>\n",
              "      <td>1.486106</td>\n",
              "      <td>290.576329</td>\n",
              "      <td>80.713551</td>\n",
              "      <td>109.910806</td>\n",
              "      <td>6.483190</td>\n",
              "      <td>3.141852</td>\n",
              "      <td>0.947064</td>\n",
              "      <td>1.286449</td>\n",
              "    </tr>\n",
              "    <tr>\n",
              "      <th>std</th>\n",
              "      <td>16.189833</td>\n",
              "      <td>6.209522</td>\n",
              "      <td>2.808498</td>\n",
              "      <td>242.937989</td>\n",
              "      <td>182.620356</td>\n",
              "      <td>288.918529</td>\n",
              "      <td>1.085451</td>\n",
              "      <td>0.795519</td>\n",
              "      <td>0.319592</td>\n",
              "      <td>0.452490</td>\n",
              "    </tr>\n",
              "    <tr>\n",
              "      <th>min</th>\n",
              "      <td>4.000000</td>\n",
              "      <td>0.400000</td>\n",
              "      <td>0.100000</td>\n",
              "      <td>63.000000</td>\n",
              "      <td>10.000000</td>\n",
              "      <td>10.000000</td>\n",
              "      <td>2.700000</td>\n",
              "      <td>0.900000</td>\n",
              "      <td>0.300000</td>\n",
              "      <td>1.000000</td>\n",
              "    </tr>\n",
              "    <tr>\n",
              "      <th>25%</th>\n",
              "      <td>33.000000</td>\n",
              "      <td>0.800000</td>\n",
              "      <td>0.200000</td>\n",
              "      <td>175.500000</td>\n",
              "      <td>23.000000</td>\n",
              "      <td>25.000000</td>\n",
              "      <td>5.800000</td>\n",
              "      <td>2.600000</td>\n",
              "      <td>0.700000</td>\n",
              "      <td>1.000000</td>\n",
              "    </tr>\n",
              "    <tr>\n",
              "      <th>50%</th>\n",
              "      <td>45.000000</td>\n",
              "      <td>1.000000</td>\n",
              "      <td>0.300000</td>\n",
              "      <td>208.000000</td>\n",
              "      <td>35.000000</td>\n",
              "      <td>42.000000</td>\n",
              "      <td>6.600000</td>\n",
              "      <td>3.100000</td>\n",
              "      <td>0.930000</td>\n",
              "      <td>1.000000</td>\n",
              "    </tr>\n",
              "    <tr>\n",
              "      <th>75%</th>\n",
              "      <td>58.000000</td>\n",
              "      <td>2.600000</td>\n",
              "      <td>1.300000</td>\n",
              "      <td>298.000000</td>\n",
              "      <td>60.500000</td>\n",
              "      <td>87.000000</td>\n",
              "      <td>7.200000</td>\n",
              "      <td>3.800000</td>\n",
              "      <td>1.100000</td>\n",
              "      <td>2.000000</td>\n",
              "    </tr>\n",
              "    <tr>\n",
              "      <th>max</th>\n",
              "      <td>90.000000</td>\n",
              "      <td>75.000000</td>\n",
              "      <td>19.700000</td>\n",
              "      <td>2110.000000</td>\n",
              "      <td>2000.000000</td>\n",
              "      <td>4929.000000</td>\n",
              "      <td>9.600000</td>\n",
              "      <td>5.500000</td>\n",
              "      <td>2.800000</td>\n",
              "      <td>2.000000</td>\n",
              "    </tr>\n",
              "  </tbody>\n",
              "</table>\n",
              "</div>"
            ],
            "text/plain": [
              "              Age  Total_Bilirubin  Direct_Bilirubin  Alkaline_Phosphotase  \\\n",
              "count  583.000000       583.000000        583.000000            583.000000   \n",
              "mean    44.746141         3.298799          1.486106            290.576329   \n",
              "std     16.189833         6.209522          2.808498            242.937989   \n",
              "min      4.000000         0.400000          0.100000             63.000000   \n",
              "25%     33.000000         0.800000          0.200000            175.500000   \n",
              "50%     45.000000         1.000000          0.300000            208.000000   \n",
              "75%     58.000000         2.600000          1.300000            298.000000   \n",
              "max     90.000000        75.000000         19.700000           2110.000000   \n",
              "\n",
              "       Alamine_Aminotransferase  Aspartate_Aminotransferase  Total_Protiens  \\\n",
              "count                583.000000                  583.000000      583.000000   \n",
              "mean                  80.713551                  109.910806        6.483190   \n",
              "std                  182.620356                  288.918529        1.085451   \n",
              "min                   10.000000                   10.000000        2.700000   \n",
              "25%                   23.000000                   25.000000        5.800000   \n",
              "50%                   35.000000                   42.000000        6.600000   \n",
              "75%                   60.500000                   87.000000        7.200000   \n",
              "max                 2000.000000                 4929.000000        9.600000   \n",
              "\n",
              "          Albumin  Albumin_and_Globulin_Ratio       label  \n",
              "count  583.000000                  579.000000  583.000000  \n",
              "mean     3.141852                    0.947064    1.286449  \n",
              "std      0.795519                    0.319592    0.452490  \n",
              "min      0.900000                    0.300000    1.000000  \n",
              "25%      2.600000                    0.700000    1.000000  \n",
              "50%      3.100000                    0.930000    1.000000  \n",
              "75%      3.800000                    1.100000    2.000000  \n",
              "max      5.500000                    2.800000    2.000000  "
            ]
          },
          "execution_count": 143,
          "metadata": {},
          "output_type": "execute_result"
        }
      ],
      "source": [
        "df.describe()"
      ]
    },
    {
      "cell_type": "code",
      "execution_count": null,
      "metadata": {
        "id": "HPMUFerV5UVw",
        "outputId": "b9c640bc-20cd-4449-88ee-cd1a0e1e17f0"
      },
      "outputs": [
        {
          "name": "stdout",
          "output_type": "stream",
          "text": [
            "<class 'pandas.core.frame.DataFrame'>\n",
            "RangeIndex: 583 entries, 0 to 582\n",
            "Data columns (total 11 columns):\n",
            " #   Column                      Non-Null Count  Dtype  \n",
            "---  ------                      --------------  -----  \n",
            " 0   Age                         583 non-null    int64  \n",
            " 1   Gender                      583 non-null    object \n",
            " 2   Total_Bilirubin             583 non-null    float64\n",
            " 3   Direct_Bilirubin            583 non-null    float64\n",
            " 4   Alkaline_Phosphotase        583 non-null    int64  \n",
            " 5   Alamine_Aminotransferase    583 non-null    int64  \n",
            " 6   Aspartate_Aminotransferase  583 non-null    int64  \n",
            " 7   Total_Protiens              583 non-null    float64\n",
            " 8   Albumin                     583 non-null    float64\n",
            " 9   Albumin_and_Globulin_Ratio  579 non-null    float64\n",
            " 10  label                       583 non-null    int64  \n",
            "dtypes: float64(5), int64(5), object(1)\n",
            "memory usage: 50.2+ KB\n"
          ]
        }
      ],
      "source": [
        "df.info()"
      ]
    },
    {
      "cell_type": "markdown",
      "metadata": {
        "id": "GwVdkCeI5UVx"
      },
      "source": [
        "### Pre-Processing"
      ]
    },
    {
      "cell_type": "markdown",
      "metadata": {
        "id": "X07h66Pt5UVx"
      },
      "source": [
        "#### Exploratory Data Analysis:\n",
        "In statistics, exploratory data analysis is an approach to analyze datasets to summarize their main characteristics, often using statistical graphics and other data visualization methods.\n",
        "\n",
        "This is a general approach that should be applied when you encounter a dataset."
      ]
    },
    {
      "cell_type": "code",
      "execution_count": null,
      "metadata": {
        "id": "XYh-SMGT5UVx"
      },
      "outputs": [],
      "source": [
        "###############################################################################\n",
        "## TODO: Find the shape of the dataset.                                      ##\n",
        "###############################################################################\n",
        "\n",
        "\n",
        "###############################################################################\n",
        "## TODO: Check if there is missing entries in the dataset columnwise.        ##\n",
        "###############################################################################\n",
        "\n",
        "###############################################################################\n",
        "## TODO: Check whether the dataset is balanced or not.                       ##\n",
        "###############################################################################\n",
        "\n",
        "###############################################################################\n",
        "## TODO: plot the age distirbution and gender distrbution for both group    ##\n",
        "## of patients.(4 plots)                                                    ##\n",
        "###############################################################################\n"
      ]
    },
    {
      "cell_type": "code",
      "execution_count": null,
      "metadata": {
        "id": "vS_Bhqik5UVx",
        "outputId": "92edd570-0eeb-4e3c-b714-42ef55cdc721"
      },
      "outputs": [
        {
          "name": "stdout",
          "output_type": "stream",
          "text": [
            "Shape of DataFrame\n"
          ]
        },
        {
          "data": {
            "text/plain": [
              "(583, 11)"
            ]
          },
          "execution_count": 147,
          "metadata": {},
          "output_type": "execute_result"
        }
      ],
      "source": [
        "###############################################################################\n",
        "## TODO: Find the shape of the dataset.         ##\n",
        "###############################################################################\n",
        "print('Shape of DataFrame')\n",
        "df.shape"
      ]
    },
    {
      "cell_type": "code",
      "execution_count": null,
      "metadata": {
        "id": "eTbd2Nhm5UVx",
        "outputId": "e399c566-92be-48ac-bf42-7814f5dd2cd9"
      },
      "outputs": [
        {
          "data": {
            "text/plain": [
              "Age                           0\n",
              "Gender                        0\n",
              "Total_Bilirubin               0\n",
              "Direct_Bilirubin              0\n",
              "Alkaline_Phosphotase          0\n",
              "Alamine_Aminotransferase      0\n",
              "Aspartate_Aminotransferase    0\n",
              "Total_Protiens                0\n",
              "Albumin                       0\n",
              "Albumin_and_Globulin_Ratio    4\n",
              "label                         0\n",
              "dtype: int64"
            ]
          },
          "execution_count": 149,
          "metadata": {},
          "output_type": "execute_result"
        }
      ],
      "source": [
        "###############################################################################\n",
        "## TODO: Check if there is missing entries in the dataset columnwise.        ##\n",
        "###############################################################################\n",
        "df.isna().sum()"
      ]
    },
    {
      "cell_type": "code",
      "execution_count": null,
      "metadata": {
        "id": "jLgQYVnU5UVx"
      },
      "outputs": [],
      "source": [
        "df['Albumin_and_Globulin_Ratio']=df['Albumin_and_Globulin_Ratio'].dropna()"
      ]
    },
    {
      "cell_type": "code",
      "execution_count": null,
      "metadata": {
        "id": "pSwanqM55UVx",
        "outputId": "dbef1b5c-c92b-446c-c50f-b05a1fbcc6bf"
      },
      "outputs": [
        {
          "data": {
            "text/plain": [
              "label\n",
              "1    416\n",
              "2    167\n",
              "Name: count, dtype: int64"
            ]
          },
          "execution_count": 153,
          "metadata": {},
          "output_type": "execute_result"
        }
      ],
      "source": [
        "###############################################################################\n",
        "## TODO: Check whether the dataset is balanced or not.     ##\n",
        "###############################################################################\n",
        "df['label'].value_counts()"
      ]
    },
    {
      "cell_type": "code",
      "execution_count": null,
      "metadata": {
        "id": "2gUNi7ir5UVx",
        "outputId": "4cd6fde3-ddf3-4519-d819-8f06101973f7"
      },
      "outputs": [
        {
          "data": {
            "image/png": "[encoded data removed]",
            "text/plain": [
              "<Figure size 1200x800 with 4 Axes>"
            ]
          },
          "metadata": {},
          "output_type": "display_data"
        }
      ],
      "source": [
        "###############################################################################\n",
        "## TODO: plot the age distirbution and gender distrbution for both group    ##\n",
        "## of patients.(4 plots)                                                    ##\n",
        "###############################################################################\n",
        "fig, ax = plt.subplots(2, 2, figsize=(12, 8))\n",
        "df[df['label'] == 1]['Age'].plot(ax=ax[0, 0], kind='hist',bins=20, edgecolor='black')\n",
        "ax[0, 0].set_title('Age Distribution (Label = 1)')\n",
        "\n",
        "\n",
        "df[df['label'] == 2]['Age'].plot(ax=ax[0, 1], kind='hist', bins=20, edgecolor='black')\n",
        "ax[0, 1].set_title('Age Distribution (Label = 2)')\n",
        "\n",
        "\n",
        "df[df['label'] == 1]['Gender'].value_counts().plot(ax=ax[1, 0], kind='bar')\n",
        "ax[1, 0].set_title('Gender Distribution (Label = 1)')\n",
        "\n",
        "\n",
        "df[df['label'] == 2]['Gender'].value_counts().plot(ax=ax[1, 1], kind='bar')\n",
        "ax[1, 1].set_title('Gender Distribution (Label = 2)')\n",
        "plt.tight_layout()\n",
        "plt.show()\n"
      ]
    },
    {
      "cell_type": "markdown",
      "metadata": {
        "id": "3mSsrcfQ5UVy"
      },
      "source": [
        "##### Question: What do you conclude from the plots?\n",
        "The age distribution of label 1 is mostly between 30 and 80, while the age distribution of label 2 is mostly between 20 and 70, indicating that label 2 has a younger age distribution compared to label 1. The gender distribution is the same for both labels."
      ]
    },
    {
      "cell_type": "markdown",
      "metadata": {
        "id": "w989qm6R5UVy"
      },
      "source": [
        "#### Outlier Detection & Removal\n",
        "Check whether we have outliers in the data. If there are, delete them."
      ]
    },
    {
      "cell_type": "code",
      "execution_count": null,
      "metadata": {
        "id": "1Qz7u5mg5UVy",
        "outputId": "884cfec7-a3b1-48cd-940d-5bf68cf74187"
      },
      "outputs": [
        {
          "name": "stdout",
          "output_type": "stream",
          "text": [
            "<class 'pandas.core.frame.DataFrame'>\n",
            "RangeIndex: 583 entries, 0 to 582\n",
            "Data columns (total 11 columns):\n",
            " #   Column                      Non-Null Count  Dtype  \n",
            "---  ------                      --------------  -----  \n",
            " 0   Age                         583 non-null    int64  \n",
            " 1   Gender                      583 non-null    object \n",
            " 2   Total_Bilirubin             583 non-null    float64\n",
            " 3   Direct_Bilirubin            583 non-null    float64\n",
            " 4   Alkaline_Phosphotase        583 non-null    int64  \n",
            " 5   Alamine_Aminotransferase    583 non-null    int64  \n",
            " 6   Aspartate_Aminotransferase  583 non-null    int64  \n",
            " 7   Total_Protiens              583 non-null    float64\n",
            " 8   Albumin                     583 non-null    float64\n",
            " 9   Albumin_and_Globulin_Ratio  579 non-null    float64\n",
            " 10  label                       583 non-null    int64  \n",
            "dtypes: float64(5), int64(5), object(1)\n",
            "memory usage: 50.2+ KB\n"
          ]
        }
      ],
      "source": [
        "df.info()"
      ]
    },
    {
      "cell_type": "code",
      "execution_count": null,
      "metadata": {
        "id": "nhPj5y195UVy"
      },
      "outputs": [],
      "source": [
        "def remove_outliers(df, column):\n",
        "    Q1, Q2, Q3 = df[column].quantile([0.25, 0.5, 0.75])\n",
        "    IQR = Q3 - Q1\n",
        "    return df[(df[column] >= Q1 - 1.5 * IQR) & (df[column] <= Q3 + 1.5 * IQR)]\n",
        "\n",
        "columns=['Age','Total_Bilirubin','Direct_Bilirubin','Alkaline_Phosphotase','Alamine_Aminotransferase','Aspartate_Aminotransferase','Total_Protiens','Albumin','Albumin_and_Globulin_Ratio']\n",
        "for column in columns:\n",
        "    df = remove_outliers(df, column)\n"
      ]
    },
    {
      "cell_type": "markdown",
      "metadata": {
        "id": "7QNUWRWe5UVy"
      },
      "source": [
        "#### Feature Engineering:\n",
        "Sometimes the collected data are raw; they are either incompatible with your model or hinders its performance. That’s when feature engineering comes to rescue. It encompasses preprocessing techniques to compile a dataset by extracting features from raw data.\n",
        "also feel free to do more feature engineering techniques if needed."
      ]
    },
    {
      "cell_type": "code",
      "execution_count": null,
      "metadata": {
        "id": "StzDzPVL5UVy"
      },
      "outputs": [],
      "source": [
        "################################################################################\n",
        "## TODO: Normalize numerical features to be between 0 and 1                   ##\n",
        "## Note that just numerical fetures should be normalized.                     ##\n",
        "from sklearn.preprocessing import MinMaxScaler\n",
        "scaler = MinMaxScaler()\n",
        "df[columns] = scaler.fit_transform(df[columns])\n",
        "################################################################################"
      ]
    },
    {
      "cell_type": "code",
      "execution_count": null,
      "metadata": {
        "id": "xNkPkb745UVy"
      },
      "outputs": [],
      "source": [
        "df['Gender']=df['Gender'].map({'Male':0,'Female':1})"
      ]
    },
    {
      "cell_type": "code",
      "execution_count": null,
      "metadata": {
        "id": "UlvVqDG25UVy",
        "outputId": "6914ae7e-eb1c-401d-8011-35f6ddc900a4"
      },
      "outputs": [
        {
          "data": {
            "text/html": [
              "<div>\n",
              "<style scoped>\n",
              "    .dataframe tbody tr th:only-of-type {\n",
              "        vertical-align: middle;\n",
              "    }\n",
              "\n",
              "    .dataframe tbody tr th {\n",
              "        vertical-align: top;\n",
              "    }\n",
              "\n",
              "    .dataframe thead th {\n",
              "        text-align: right;\n",
              "    }\n",
              "</style>\n",
              "<table border=\"1\" class=\"dataframe\">\n",
              "  <thead>\n",
              "    <tr style=\"text-align: right;\">\n",
              "      <th></th>\n",
              "      <th>Age</th>\n",
              "      <th>Gender</th>\n",
              "      <th>Total_Bilirubin</th>\n",
              "      <th>Direct_Bilirubin</th>\n",
              "      <th>Alkaline_Phosphotase</th>\n",
              "      <th>Alamine_Aminotransferase</th>\n",
              "      <th>Aspartate_Aminotransferase</th>\n",
              "      <th>Total_Protiens</th>\n",
              "      <th>Albumin</th>\n",
              "      <th>Albumin_and_Globulin_Ratio</th>\n",
              "      <th>label</th>\n",
              "    </tr>\n",
              "  </thead>\n",
              "  <tbody>\n",
              "    <tr>\n",
              "      <th>0</th>\n",
              "      <td>0.753086</td>\n",
              "      <td>1</td>\n",
              "      <td>0.08</td>\n",
              "      <td>0.000000</td>\n",
              "      <td>0.349296</td>\n",
              "      <td>0.086957</td>\n",
              "      <td>0.123077</td>\n",
              "      <td>0.547170</td>\n",
              "      <td>0.463415</td>\n",
              "      <td>0.389313</td>\n",
              "      <td>1</td>\n",
              "    </tr>\n",
              "    <tr>\n",
              "      <th>3</th>\n",
              "      <td>0.666667</td>\n",
              "      <td>0</td>\n",
              "      <td>0.20</td>\n",
              "      <td>0.230769</td>\n",
              "      <td>0.335211</td>\n",
              "      <td>0.057971</td>\n",
              "      <td>0.153846</td>\n",
              "      <td>0.547170</td>\n",
              "      <td>0.487805</td>\n",
              "      <td>0.465649</td>\n",
              "      <td>1</td>\n",
              "    </tr>\n",
              "    <tr>\n",
              "      <th>5</th>\n",
              "      <td>0.518519</td>\n",
              "      <td>0</td>\n",
              "      <td>0.52</td>\n",
              "      <td>0.461538</td>\n",
              "      <td>0.408451</td>\n",
              "      <td>0.130435</td>\n",
              "      <td>0.061538</td>\n",
              "      <td>0.698113</td>\n",
              "      <td>0.731707</td>\n",
              "      <td>0.694656</td>\n",
              "      <td>1</td>\n",
              "    </tr>\n",
              "    <tr>\n",
              "      <th>6</th>\n",
              "      <td>0.271605</td>\n",
              "      <td>1</td>\n",
              "      <td>0.16</td>\n",
              "      <td>0.076923</td>\n",
              "      <td>0.256338</td>\n",
              "      <td>0.086957</td>\n",
              "      <td>0.030769</td>\n",
              "      <td>0.584906</td>\n",
              "      <td>0.512195</td>\n",
              "      <td>0.465649</td>\n",
              "      <td>1</td>\n",
              "    </tr>\n",
              "    <tr>\n",
              "      <th>7</th>\n",
              "      <td>0.308642</td>\n",
              "      <td>1</td>\n",
              "      <td>0.16</td>\n",
              "      <td>0.153846</td>\n",
              "      <td>0.391549</td>\n",
              "      <td>0.057971</td>\n",
              "      <td>0.015385</td>\n",
              "      <td>0.528302</td>\n",
              "      <td>0.536585</td>\n",
              "      <td>0.541985</td>\n",
              "      <td>1</td>\n",
              "    </tr>\n",
              "    <tr>\n",
              "      <th>...</th>\n",
              "      <td>...</td>\n",
              "      <td>...</td>\n",
              "      <td>...</td>\n",
              "      <td>...</td>\n",
              "      <td>...</td>\n",
              "      <td>...</td>\n",
              "      <td>...</td>\n",
              "      <td>...</td>\n",
              "      <td>...</td>\n",
              "      <td>...</td>\n",
              "      <td>...</td>\n",
              "    </tr>\n",
              "    <tr>\n",
              "      <th>567</th>\n",
              "      <td>0.592593</td>\n",
              "      <td>0</td>\n",
              "      <td>0.88</td>\n",
              "      <td>1.000000</td>\n",
              "      <td>0.529577</td>\n",
              "      <td>0.144928</td>\n",
              "      <td>0.461538</td>\n",
              "      <td>0.396226</td>\n",
              "      <td>0.073171</td>\n",
              "      <td>0.000000</td>\n",
              "      <td>1</td>\n",
              "    </tr>\n",
              "    <tr>\n",
              "      <th>579</th>\n",
              "      <td>0.444444</td>\n",
              "      <td>0</td>\n",
              "      <td>0.04</td>\n",
              "      <td>0.000000</td>\n",
              "      <td>0.098592</td>\n",
              "      <td>0.362319</td>\n",
              "      <td>0.323077</td>\n",
              "      <td>0.396226</td>\n",
              "      <td>0.439024</td>\n",
              "      <td>0.541985</td>\n",
              "      <td>1</td>\n",
              "    </tr>\n",
              "    <tr>\n",
              "      <th>580</th>\n",
              "      <td>0.592593</td>\n",
              "      <td>0</td>\n",
              "      <td>0.12</td>\n",
              "      <td>0.076923</td>\n",
              "      <td>0.512676</td>\n",
              "      <td>0.550725</td>\n",
              "      <td>0.600000</td>\n",
              "      <td>0.471698</td>\n",
              "      <td>0.439024</td>\n",
              "      <td>0.465649</td>\n",
              "      <td>1</td>\n",
              "    </tr>\n",
              "    <tr>\n",
              "      <th>581</th>\n",
              "      <td>0.333333</td>\n",
              "      <td>0</td>\n",
              "      <td>0.32</td>\n",
              "      <td>0.307692</td>\n",
              "      <td>0.340845</td>\n",
              "      <td>0.275362</td>\n",
              "      <td>0.338462</td>\n",
              "      <td>0.547170</td>\n",
              "      <td>0.487805</td>\n",
              "      <td>0.465649</td>\n",
              "      <td>1</td>\n",
              "    </tr>\n",
              "    <tr>\n",
              "      <th>582</th>\n",
              "      <td>0.419753</td>\n",
              "      <td>0</td>\n",
              "      <td>0.20</td>\n",
              "      <td>0.153846</td>\n",
              "      <td>0.430986</td>\n",
              "      <td>0.159420</td>\n",
              "      <td>0.215385</td>\n",
              "      <td>0.641509</td>\n",
              "      <td>0.731707</td>\n",
              "      <td>0.847328</td>\n",
              "      <td>2</td>\n",
              "    </tr>\n",
              "  </tbody>\n",
              "</table>\n",
              "<p>327 rows × 11 columns</p>\n",
              "</div>"
            ],
            "text/plain": [
              "          Age  Gender  Total_Bilirubin  Direct_Bilirubin  \\\n",
              "0    0.753086       1             0.08          0.000000   \n",
              "3    0.666667       0             0.20          0.230769   \n",
              "5    0.518519       0             0.52          0.461538   \n",
              "6    0.271605       1             0.16          0.076923   \n",
              "7    0.308642       1             0.16          0.153846   \n",
              "..        ...     ...              ...               ...   \n",
              "567  0.592593       0             0.88          1.000000   \n",
              "579  0.444444       0             0.04          0.000000   \n",
              "580  0.592593       0             0.12          0.076923   \n",
              "581  0.333333       0             0.32          0.307692   \n",
              "582  0.419753       0             0.20          0.153846   \n",
              "\n",
              "     Alkaline_Phosphotase  Alamine_Aminotransferase  \\\n",
              "0                0.349296                  0.086957   \n",
              "3                0.335211                  0.057971   \n",
              "5                0.408451                  0.130435   \n",
              "6                0.256338                  0.086957   \n",
              "7                0.391549                  0.057971   \n",
              "..                    ...                       ...   \n",
              "567              0.529577                  0.144928   \n",
              "579              0.098592                  0.362319   \n",
              "580              0.512676                  0.550725   \n",
              "581              0.340845                  0.275362   \n",
              "582              0.430986                  0.159420   \n",
              "\n",
              "     Aspartate_Aminotransferase  Total_Protiens   Albumin  \\\n",
              "0                      0.123077        0.547170  0.463415   \n",
              "3                      0.153846        0.547170  0.487805   \n",
              "5                      0.061538        0.698113  0.731707   \n",
              "6                      0.030769        0.584906  0.512195   \n",
              "7                      0.015385        0.528302  0.536585   \n",
              "..                          ...             ...       ...   \n",
              "567                    0.461538        0.396226  0.073171   \n",
              "579                    0.323077        0.396226  0.439024   \n",
              "580                    0.600000        0.471698  0.439024   \n",
              "581                    0.338462        0.547170  0.487805   \n",
              "582                    0.215385        0.641509  0.731707   \n",
              "\n",
              "     Albumin_and_Globulin_Ratio  label  \n",
              "0                      0.389313      1  \n",
              "3                      0.465649      1  \n",
              "5                      0.694656      1  \n",
              "6                      0.465649      1  \n",
              "7                      0.541985      1  \n",
              "..                          ...    ...  \n",
              "567                    0.000000      1  \n",
              "579                    0.541985      1  \n",
              "580                    0.465649      1  \n",
              "581                    0.465649      1  \n",
              "582                    0.847328      2  \n",
              "\n",
              "[327 rows x 11 columns]"
            ]
          },
          "execution_count": 165,
          "metadata": {},
          "output_type": "execute_result"
        }
      ],
      "source": [
        "df"
      ]
    },
    {
      "cell_type": "markdown",
      "metadata": {
        "id": "_PwUHLfh5UVz"
      },
      "source": [
        "### SVM"
      ]
    },
    {
      "cell_type": "markdown",
      "metadata": {
        "id": "puJXu-bG5UVz"
      },
      "source": [
        "#### spliting data"
      ]
    },
    {
      "cell_type": "code",
      "execution_count": null,
      "metadata": {
        "id": "ZHFm31YW5UVz"
      },
      "outputs": [],
      "source": [
        "## TODO Split the data into test and training sets.\n",
        "from sklearn.model_selection import train_test_split\n",
        "X=df.drop(columns=['label'])\n",
        "y=df['label']\n",
        "X_train, X_test, y_train, y_test = train_test_split(\n",
        "    X, y, test_size=0.15, random_state=42)"
      ]
    },
    {
      "cell_type": "markdown",
      "metadata": {
        "id": "Tk_6AbsI5UVz"
      },
      "source": [
        "### SVM using Scikit-Learn:\n",
        "First of all train an svm model with default parameters and report its."
      ]
    },
    {
      "cell_type": "code",
      "execution_count": null,
      "metadata": {
        "id": "hVBJyKnU5UVz",
        "outputId": "90238cf3-0ece-4c81-edb3-90afc44f0a38"
      },
      "outputs": [
        {
          "data": {
            "text/plain": [
              "0.62"
            ]
          },
          "execution_count": 263,
          "metadata": {},
          "output_type": "execute_result"
        }
      ],
      "source": [
        "#########################################################################################\n",
        "from sklearn.metrics import  accuracy_score\n",
        "model = SVC()\n",
        "model.fit(X_train, y_train)\n",
        "\n",
        "y_pred = model.predict(X_test)\n",
        "\n",
        "accuracy = accuracy_score(y_test, y_pred)\n",
        "accuracy\n",
        "#########################################################################################\n"
      ]
    },
    {
      "cell_type": "markdown",
      "metadata": {
        "id": "0xBqKlYJ5UVz"
      },
      "source": [
        "#### Grid Search\n",
        "Use Grid search and validation set to find the best parameters for your SVM model."
      ]
    },
    {
      "cell_type": "code",
      "execution_count": null,
      "metadata": {
        "id": "plKY6riE5UVz",
        "outputId": "9b4735e7-4536-4b75-dc85-b9e6724df8df"
      },
      "outputs": [
        {
          "data": {
            "text/plain": [
              "{'C': 10, 'gamma': 'scale', 'kernel': 'rbf'}"
            ]
          },
          "execution_count": 569,
          "metadata": {},
          "output_type": "execute_result"
        }
      ],
      "source": [
        "from sklearn.model_selection import GridSearchCV\n",
        "X = df.drop(columns=['label'])\n",
        "y = df['label']\n",
        "X_train, X_test, y_train, y_test = train_test_split(X, y, test_size=0.15, random_state=42)\n",
        "myX, X_val, myY, y_val = train_test_split(X_train, y_train, test_size=0.2)\n",
        "\n",
        "param_grid = {\n",
        "    'C': [ 0.1,1,10],\n",
        "    'kernel': ['linear', 'rbf', 'sigmoid'],\n",
        "    'gamma': ['scale','auto']\n",
        "}\n",
        "\n",
        "model = SVC()\n",
        "grid_search = GridSearchCV(estimator=model, param_grid=param_grid,\n",
        "                           scoring='accuracy', cv=3, n_jobs=-1)\n",
        "grid_search.fit(X_val, y_val)\n",
        "\n",
        "best_params = grid_search.best_params_\n",
        "best_score = grid_search.best_score_\n",
        "\n",
        "\n",
        "best_params"
      ]
    },
    {
      "cell_type": "markdown",
      "metadata": {
        "id": "tdGKplXc5UVz"
      },
      "source": [
        "Train an svm model on the entire training data using the parameters you found in the previous step."
      ]
    },
    {
      "cell_type": "code",
      "execution_count": null,
      "metadata": {
        "id": "NP1wQMjM5UVz",
        "outputId": "bb63240e-b554-47ec-a7b9-c24db1c45a92"
      },
      "outputs": [
        {
          "data": {
            "text/plain": [
              "0.74"
            ]
          },
          "execution_count": 571,
          "metadata": {},
          "output_type": "execute_result"
        }
      ],
      "source": [
        "#########################################################################################\n",
        "model = SVC(C=10,kernel='rbf',gamma='scale')\n",
        "model.fit(X_train, y_train)\n",
        "\n",
        "y_pred = model.predict(X_test)\n",
        "\n",
        "accuracy = accuracy_score(y_test, y_pred)\n",
        "accuracy\n",
        "#########################################################################################\n"
      ]
    },
    {
      "cell_type": "markdown",
      "metadata": {
        "id": "RrHXvAKw5UVz"
      },
      "source": [
        "### Confusion Matrix\n",
        "Plot the confusion matrix and report the model accuracy on test set.\n",
        "What does each entry of the confusion matrix mean?"
      ]
    },
    {
      "cell_type": "code",
      "execution_count": null,
      "metadata": {
        "id": "qLFipSbz5UV0",
        "outputId": "871ac129-fc0b-4f0a-9044-4fbb2ccbeec2"
      },
      "outputs": [
        {
          "name": "stdout",
          "output_type": "stream",
          "text": [
            "              precision    recall  f1-score   support\n",
            "\n",
            "           1       0.71      0.93      0.81        29\n",
            "           2       0.83      0.48      0.61        21\n",
            "\n",
            "    accuracy                           0.74        50\n",
            "   macro avg       0.77      0.70      0.71        50\n",
            "weighted avg       0.76      0.74      0.72        50\n",
            "\n"
          ]
        },
        {
          "data": {
            "image/png": "[encoded data removed]",
            "text/plain": [
              "<Figure size 800x600 with 1 Axes>"
            ]
          },
          "metadata": {},
          "output_type": "display_data"
        }
      ],
      "source": [
        "#########################################################################################\n",
        "from sklearn.metrics import classification_report,confusion_matrix\n",
        "print(classification_report(y_test,y_pred))\n",
        "plt.figure(figsize=(8, 6))\n",
        "sns.heatmap(confusion_matrix(y_test, y_pred), annot=True, fmt='d', cmap='Blues', cbar=False,\n",
        "            xticklabels=['Predicted 1', 'Predicted 2'],\n",
        "            yticklabels=['Actual 1', 'Actual 2'])\n",
        "plt.title('Confusion Matrix')\n",
        "plt.xlabel('Predicted Labels')\n",
        "plt.ylabel('True Labels')\n",
        "plt.show()\n",
        "#########################################################################################\n"
      ]
    },
    {
      "cell_type": "markdown",
      "metadata": {
        "id": "0HN6CXt85UV0"
      },
      "source": [
        "Add some outliers to the dataset, train an SVM and logistic regression model, and compare the results."
      ]
    },
    {
      "cell_type": "code",
      "execution_count": null,
      "metadata": {
        "id": "WEEbGSlY5UV0"
      },
      "outputs": [],
      "source": [
        "#########################################################################################\n",
        "df = pd.read_csv(\"Liver_Disease.csv\")\n",
        "df['Albumin_and_Globulin_Ratio']=df['Albumin_and_Globulin_Ratio'].dropna()\n",
        "def add_outliers(data, num_outliers):\n",
        "    np.random.seed(42)\n",
        "    outlier_records = []\n",
        "\n",
        "    # Generate outliers\n",
        "    for _ in range(num_outliers):\n",
        "        outlier = {\n",
        "            'Age': np.random.randint(100, 150),\n",
        "            'Gender': np.random.choice(['Male', 'Female']),\n",
        "            'Total_Bilirubin': np.random.uniform(10, 20),\n",
        "            'Direct_Bilirubin': np.random.uniform(5, 10),\n",
        "            'Alkaline_Phosphotase': np.random.randint(300, 600),\n",
        "            'Alamine_Aminotransferase': np.random.randint(100, 300),\n",
        "            'Aspartate_Aminotransferase': np.random.randint(100, 300),\n",
        "            'Total_Protiens': np.random.uniform(10, 20),\n",
        "            'Albumin': np.random.uniform(5, 10),\n",
        "            'Albumin_and_Globulin_Ratio': np.random.uniform(1, 3),\n",
        "            'label': np.random.choice([0, 1])\n",
        "        }\n",
        "        outlier_records.append(outlier)\n",
        "    outliers = pd.DataFrame(outlier_records)\n",
        "    data = pd.concat([data, outliers], ignore_index=True)\n",
        "    return data.fillna(data.median(numeric_only=True))\n",
        "\n",
        "# Example usage\n",
        "df_with_outliers = add_outliers(df.copy(), num_outliers=10)\n",
        "\n",
        "\n",
        "scaler = MinMaxScaler()\n",
        "df_with_outliers[columns] = scaler.fit_transform(df_with_outliers[columns])\n",
        "df_with_outliers['Gender']=df_with_outliers['Gender'].map({'Male':0,'Female':1})\n",
        "\n",
        "X=df_with_outliers.drop(columns=['label'])\n",
        "y=df_with_outliers['label']\n",
        "X_train, X_test, y_train, y_test = train_test_split(\n",
        "    X, y, test_size=0.15, random_state=42)\n",
        "#########################################################################################\n"
      ]
    },
    {
      "cell_type": "code",
      "execution_count": null,
      "metadata": {
        "id": "lGG5-4T15UV0",
        "outputId": "cb856f58-26ac-418e-d3d3-e65f1e98c0eb"
      },
      "outputs": [
        {
          "name": "stdout",
          "output_type": "stream",
          "text": [
            "SVM Model Accuracy: 0.7078651685393258\n",
            "Logistic Regression Model Accuracy: 0.7303370786516854\n",
            "SVM Classification Report:\n",
            "               precision    recall  f1-score   support\n",
            "\n",
            "           0       0.33      1.00      0.50         1\n",
            "           1       0.72      0.97      0.82        63\n",
            "           2       1.00      0.04      0.08        25\n",
            "\n",
            "    accuracy                           0.71        89\n",
            "   macro avg       0.68      0.67      0.47        89\n",
            "weighted avg       0.79      0.71      0.61        89\n",
            "\n",
            "Logistic Regression Classification Report:\n",
            "               precision    recall  f1-score   support\n",
            "\n",
            "           0       0.00      0.00      0.00         1\n",
            "           1       0.73      0.98      0.84        63\n",
            "           2       0.75      0.12      0.21        25\n",
            "\n",
            "    accuracy                           0.73        89\n",
            "   macro avg       0.49      0.37      0.35        89\n",
            "weighted avg       0.73      0.73      0.65        89\n",
            "\n"
          ]
        },
        {
          "name": "stderr",
          "output_type": "stream",
          "text": [
            "C:\\Users\\imanf\\anaconda3\\lib\\site-packages\\sklearn\\metrics\\_classification.py:1344: UndefinedMetricWarning: Precision and F-score are ill-defined and being set to 0.0 in labels with no predicted samples. Use `zero_division` parameter to control this behavior.\n",
            "  _warn_prf(average, modifier, msg_start, len(result))\n",
            "C:\\Users\\imanf\\anaconda3\\lib\\site-packages\\sklearn\\metrics\\_classification.py:1344: UndefinedMetricWarning: Precision and F-score are ill-defined and being set to 0.0 in labels with no predicted samples. Use `zero_division` parameter to control this behavior.\n",
            "  _warn_prf(average, modifier, msg_start, len(result))\n",
            "C:\\Users\\imanf\\anaconda3\\lib\\site-packages\\sklearn\\metrics\\_classification.py:1344: UndefinedMetricWarning: Precision and F-score are ill-defined and being set to 0.0 in labels with no predicted samples. Use `zero_division` parameter to control this behavior.\n",
            "  _warn_prf(average, modifier, msg_start, len(result))\n"
          ]
        }
      ],
      "source": [
        "from sklearn.linear_model import LogisticRegression\n",
        "\n",
        "model = SVC(C=10, kernel='rbf', gamma='scale')\n",
        "model.fit(X_train, y_train)\n",
        "y_pred_svm = model.predict(X_test)\n",
        "svm_accuracy = accuracy_score(y_test, y_pred_svm)\n",
        "svm_confusion_matrix = confusion_matrix(y_test, y_pred_svm)\n",
        "print(\"SVM Model Accuracy:\", svm_accuracy)\n",
        "\n",
        "\n",
        "model = LogisticRegression(max_iter=1000,solver='liblinear',C=10)\n",
        "model.fit(X_train, y_train)\n",
        "y_pred_log_reg = model.predict(X_test)\n",
        "log_reg_accuracy = accuracy_score(y_test, y_pred_log_reg)\n",
        "log_reg_confusion_matrix = confusion_matrix(y_test, y_pred_log_reg)\n",
        "\n",
        "print(\"Logistic Regression Model Accuracy:\", log_reg_accuracy)\n",
        "print(\"SVM Classification Report:\\n\", classification_report(y_test, y_pred_svm))\n",
        "print(\"Logistic Regression Classification Report:\\n\", classification_report(y_test, y_pred_log_reg))"
      ]
    }
  ],
  "metadata": {
    "kernelspec": {
      "display_name": "Python 3 (ipykernel)",
      "language": "python",
      "name": "python3"
    },
    "language_info": {
      "codemirror_mode": {
        "name": "ipython",
        "version": 3
      },
      "file_extension": ".py",
      "mimetype": "text/x-python",
      "name": "python",
      "nbconvert_exporter": "python",
      "pygments_lexer": "ipython3",
      "version": "3.9.19"
    },
    "colab": {
      "provenance": [],
      "include_colab_link": true
    }
  },
  "nbformat": 4,
  "nbformat_minor": 0
}